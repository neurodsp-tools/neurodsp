{
  "cells": [
    {
      "cell_type": "markdown",
      "metadata": {},
      "source": [
        "\n# FIR Filters\n\nDesign, apply, and evaluate FIR Filters.\n\nThis tutorial covers the design and application of Finite Impulse Response (FIR) filters,\navailable in ``neurodsp.filt.fir``.\n"
      ]
    },
    {
      "cell_type": "code",
      "execution_count": null,
      "metadata": {
        "collapsed": false
      },
      "outputs": [],
      "source": [
        "# Import functions for simulating test data\nfrom neurodsp.sim import sim_combined\nfrom neurodsp.utils import set_random_seed, create_times\n\n# Import functions for FIR filtering\nfrom neurodsp.filt import filter_signal\nfrom neurodsp.filt.fir import design_fir_filter, apply_fir_filter\nfrom neurodsp.filt.utils import compute_frequency_response, compute_transition_band\n\n# Import plotting functions\nfrom neurodsp.plts import plot_filter_properties, plot_time_series"
      ]
    },
    {
      "cell_type": "markdown",
      "metadata": {},
      "source": [
        "## FIR Filters\n\nFinite impulse response filters are filters for which the response to a single impulse is\nfinite. FIR filters are common and useful, as they can be designed to have specified\ntime-frequency resolution properties, which can be controlled by manipulating the\nfilter length.\n\nAn impulse response is the output of the convolution of a short duration signal\n(i.e. Kronecker delta function) with the filter. FIR filtering involves convolving\nan input signal with the impulse response of the filter.\n\nEach timepoint in the output signal is expressed as:\n\n\\begin{align}y(n) = \\sum_{k=0}^M b_k x(n-k)\\end{align}\n\nWhere each output $y(n)$ is the sum of the product of the filter coefficients\n(i.e. values from the impulse response, $b_k$) and past values of the input signal\n$x(n-k)$`. The filter order or the length of the impulse response minus one is\nrepresented by $M$.\n\nThis formula also has a frequency representation:\n\n\\begin{align}H(z) = \\sum_{k=0}^M b_k z^{-k}\\end{align}\n\nThe FIR filters available in NeuroDSP are designed using the window method, using 'firwin'\nfrom scipy, and applied by convolution. For more information on these implementations,\nsee the scipy documentation.\n\n\n"
      ]
    },
    {
      "cell_type": "markdown",
      "metadata": {},
      "source": [
        "Simulate an example signal to use for this example.\n\n\n"
      ]
    },
    {
      "cell_type": "code",
      "execution_count": null,
      "metadata": {
        "collapsed": false
      },
      "outputs": [],
      "source": [
        "# Set the random seed, for consistency simulating data\nset_random_seed(0)\n\n# Define settings for simulating time series\nn_seconds = 1\nfs = 1000\ncomponents = {'sim_powerlaw' : {'exponent' : 0},\n              'sim_oscillation' : {'freq' : 10}}\nvariances = [0.1, 1]\n\n# Simulate time series, and create associated time definition\ntimes = create_times(n_seconds, fs)\nsig = sim_combined(n_seconds, fs, components, variances)"
      ]
    },
    {
      "cell_type": "markdown",
      "metadata": {},
      "source": [
        "## Design an FIR Filter\n\nFirst, let's design an FIR filter, which means to generate the filter coefficients that\nwill instantiate our filter, which we can do with the :func:`~.design_fir_filter` function.\n\nTo do so, we need to define some filter settings, including the passband and cutoff frequencies.\n\nWe also need to specify the filter length, which can be defined either in seconds, or as a\nnumber of cycles (defined as the low cutoff frequency). The default filter length is 3 cycles.\nYou may need to update this value to customize the filter length, as this impacts the\nfrequency response.\n\n\n"
      ]
    },
    {
      "cell_type": "code",
      "execution_count": null,
      "metadata": {
        "collapsed": false
      },
      "outputs": [],
      "source": [
        "# Define filter settings\npass_type = 'bandpass'\nf_range = (8, 13)\nn_cycles = 3\n\n# Design the filter coefficients for a specified filter\nfilter_coefs = design_fir_filter(fs, pass_type, f_range, n_cycles=n_cycles)"
      ]
    },
    {
      "cell_type": "markdown",
      "metadata": {},
      "source": [
        "Now that we have our filter coefficients, we can evaluate our filter.\n\nNext, we can calculate the frequency response, $b_k$, for our alpha bandpass filter.\n\n\n"
      ]
    },
    {
      "cell_type": "code",
      "execution_count": null,
      "metadata": {
        "collapsed": false
      },
      "outputs": [],
      "source": [
        "# Compute the frequency response of the filter\nf_db, db = compute_frequency_response(filter_coefs, 1, fs)\n\n# Plot the filter properties\nplot_filter_properties(f_db, db, fs, filter_coefs)"
      ]
    },
    {
      "cell_type": "markdown",
      "metadata": {},
      "source": [
        "On the right is the impulse response, or the filter kernel. This is a visualization of our\nfilter coefficients, which also demonstrates the activity of our filter for a single point\n(the impulse response).\n\nOn the left, we can see the frequency response of our filter, which shows us how different\nfrequencies are affected by our filter. Ideally, we want zero attenuation in our passband,\nand a lot of attenuation in the stopband(s).\n\nAnother way to quantify these properties is the transition band, which is bandwidth (in Hz)\nthat it takes for the filter to change from high to low attenuation. This quantifies how\nsharp the transition is between stopband and passband. By default, transition bands are computed\nas the range between -20 dB and -3 dB attenuation, but you can also customize these values.\n\n\n"
      ]
    },
    {
      "cell_type": "code",
      "execution_count": null,
      "metadata": {
        "collapsed": false
      },
      "outputs": [],
      "source": [
        "# Compute the transition band of the filter\nt_band = compute_transition_band(f_db, db)\n\n# Print the transition band\nprint('Transition band: {:4.2f}'.format(t_band))"
      ]
    },
    {
      "cell_type": "markdown",
      "metadata": {},
      "source": [
        "In the above, we have designed and evaluated an FIR filter. Note that the properties of the\nfilter will depend on the passband and cutoff frequencies, and especially the filter length.\n\nYou can explore changing these settings to see how they impact the filter properties.\n\n\n"
      ]
    },
    {
      "cell_type": "markdown",
      "metadata": {},
      "source": [
        "## Apply an FIR Filter\n\nNext, we can apply our filter to the data. FIR filter can be applied to signals by\nconvolution, which we can do with the :func:`~.apply_fir_filter` function.\n\n\n"
      ]
    },
    {
      "cell_type": "code",
      "execution_count": null,
      "metadata": {
        "collapsed": false
      },
      "outputs": [],
      "source": [
        "# Apply the filter\nsig_filt = apply_fir_filter(sig, filter_coefs)\n\n# Plot the signal and filtered version\nplot_time_series(times, [sig, sig_filt], ['Raw', 'Filtered'])"
      ]
    },
    {
      "cell_type": "markdown",
      "metadata": {},
      "source": [
        "In the above, we can see both the original signal, and the filtered version.\n\nNote that inspecting the filtered signal together with the original signal is recommended.\n\n\n"
      ]
    },
    {
      "cell_type": "markdown",
      "metadata": {},
      "source": [
        "### Using filter_signal\n\nIn the above, we did a step-by-step procedure of designing, evaluating, and applying our filter.\n\nNote that all of these elements can also be done directly through the\n:func:`~.filter_signal` function.\n\n\n"
      ]
    },
    {
      "cell_type": "code",
      "execution_count": null,
      "metadata": {
        "collapsed": false
      },
      "outputs": [],
      "source": [
        "# Filter our signal, using the main filter function, with extra options\nsig_filt2, filter_kernel = filter_signal(sig, fs, pass_type, f_range,\n                                         filter_type='fir', print_transitions=True,\n                                         plot_properties=True, return_filter=True)"
      ]
    },
    {
      "cell_type": "code",
      "execution_count": null,
      "metadata": {
        "collapsed": false
      },
      "outputs": [],
      "source": [
        "# Plot the signal and filtered version\nplot_time_series(times, [sig, sig_filt2], ['Raw', 'Filtered'])"
      ]
    },
    {
      "cell_type": "markdown",
      "metadata": {},
      "source": [
        "You might notice in the above plot, the edges of the filtered version have been removed.\nThis is done to remove edge artifacts. Data points at the edge of the signal don't get fully\nprocessed by the filter, and may contain some filtering artifacts.\n\nWith FIR filters we exclude edge artifacts by removing edge points that do not get fully\nprocessed by the filter, based on the size of the filter.\n\nIf you wish, you can turn off the edge removal by setting `remove_edges` to False.\n\n\n"
      ]
    }
  ],
  "metadata": {
    "kernelspec": {
      "display_name": "Python 3",
      "language": "python",
      "name": "python3"
    },
    "language_info": {
      "codemirror_mode": {
        "name": "ipython",
        "version": 3
      },
      "file_extension": ".py",
      "mimetype": "text/x-python",
      "name": "python",
      "nbconvert_exporter": "python",
      "pygments_lexer": "ipython3",
      "version": "3.8.12"
    }
  },
  "nbformat": 4,
  "nbformat_minor": 0
}