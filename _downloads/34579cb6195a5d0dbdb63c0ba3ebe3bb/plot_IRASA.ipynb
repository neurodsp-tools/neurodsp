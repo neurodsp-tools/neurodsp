{
  "cells": [
    {
      "cell_type": "markdown",
      "metadata": {},
      "source": [
        "\n# IRASA\n\nSeparate periodic and aperiodic activity with the IRASA algorithm.\n\nThe irregular resampling auto-spectral analysis (IRASA) algorithm is a method for\nseparating aperiodic (1/f) and oscillatory activity in the frequency domain.\n\nThe algorithm leverages the 'scale-free' nature of 1/f activity, resampling the data in order\nto separate activity with a characteristic frequency (such as periodic activity) from\nscale-free activity.\n\nBriefly, this method involves:\n\n1. Up- & down-sampling the signal across a range of increments.\n2. Computing the geometric mean spectra for each pair of up/down sampled signals.\n3. Estimating the aperiodic component from the median spectrum across the range of increments.\n4. Estimating the periodic component from the difference between the aperiodic estimate and the\n   original spectrum.\n\nFull details of the IRASA algorithm are described in\n[Wen & Liu, 2016](https://doi.org/10.1007/s10548-015-0448-0).\n\nThis tutorial covers ``neurodsp.aperiodic.irasa``.\n"
      ]
    },
    {
      "cell_type": "code",
      "execution_count": null,
      "metadata": {
        "collapsed": false
      },
      "outputs": [],
      "source": [
        "import numpy as np\nfrom neurodsp.sim import sim_combined\nfrom neurodsp.spectral import compute_spectrum, trim_spectrum\nfrom neurodsp.plts import plot_power_spectra\n\n# Import IRASA related functions\nfrom neurodsp.aperiodic import compute_irasa, fit_irasa"
      ]
    },
    {
      "cell_type": "markdown",
      "metadata": {},
      "source": [
        "## Simulate Data\n\nTo explore the IRASA algorithm, we'll use a simulated signal, with a combination of\naperiodic 1/f and oscillatory activity.\n\n\n"
      ]
    },
    {
      "cell_type": "code",
      "execution_count": null,
      "metadata": {
        "collapsed": false
      },
      "outputs": [],
      "source": [
        "# Simulation settings\nn_seconds = 10\nfs = 500\n\n# Define the parameters of the simulated components\ncf = 10\nexp = -2\n\n# Define the components for the simulated signal\ncomponents = {'sim_oscillation' : {'freq' : cf},\n              'sim_powerlaw' : {'exponent' : exp}}\n\n# Define the frequency range of interest for the analysis\nf_range = (1, 40)\n\n# Create the simulate time series\nsig = sim_combined(n_seconds, fs, components)"
      ]
    },
    {
      "cell_type": "code",
      "execution_count": null,
      "metadata": {
        "collapsed": false
      },
      "outputs": [],
      "source": [
        "# Compute the power spectrum of the simulated signal\nfreqs, psd = compute_spectrum(sig, fs, nperseg=4*fs)\n\n# Trim the power spectrum to the frequency range of interest\nfreqs, psd = trim_spectrum(freqs, psd, f_range)\n\n# Plot the computed power spectrum\nplot_power_spectra(freqs, psd, title=\"Original Spectrum\")"
      ]
    },
    {
      "cell_type": "markdown",
      "metadata": {},
      "source": [
        "In the above spectrum, we can see a pattern of power across all frequencies, which reflects\nthe 1/f activity, as well as a peak at 10 Hz, which represents the simulated oscillation.\n\n\n"
      ]
    },
    {
      "cell_type": "markdown",
      "metadata": {},
      "source": [
        "## IRASA\n\nIn the analysis of neural data, we may want to separate aperiodic and periodic components\nof the data. Here, we explore using IRASA to do so.\n\n### Algorithm Settings\n\nThe main setting for IRASA are the resampling factors to use, set by the `hset` input.\nHere, we will use default values, which are often sufficient.\n\nIn the IRASA algorithm, the periodic component is calculated as the difference between\nthe full signal and the aperiodic component. It may be useful to apply a threshold in\nthis calculation, to restrict the periodic component to clear 'peaks' above the aperiodic.\n\nHere we will use a threshold value (`thresh`), such that regions of the periodic component\nthat are not above the threshold, calculates in terms of standard deviation of the power\nspectrum, are left as part of the aperiodic component.\n\n\n"
      ]
    },
    {
      "cell_type": "code",
      "execution_count": null,
      "metadata": {
        "collapsed": false
      },
      "outputs": [],
      "source": [
        "# Compute the IRASA decomposition of the data\nfreqs, psd_aperiodic, psd_periodic = compute_irasa(sig, fs, f_range=f_range, thresh=1)"
      ]
    },
    {
      "cell_type": "code",
      "execution_count": null,
      "metadata": {
        "collapsed": false
      },
      "outputs": [],
      "source": [
        "# Plot the isolated periodic and aperiodic components\nplot_power_spectra(freqs, [psd_aperiodic, psd_periodic],\n                   labels=['aperiodic', 'periodic'], title=\"IRASA Components\")"
      ]
    },
    {
      "cell_type": "markdown",
      "metadata": {},
      "source": [
        "In the above components, we can see that the IRASA approach has given what appears to be\na very good separation of the spectral components from our original signal.\n\n\n"
      ]
    },
    {
      "cell_type": "markdown",
      "metadata": {},
      "source": [
        "## Decomposition\n\nNote that what IRASA returns is a decomposition of the power spectrum, separating\naperiodic and periodic components.\n\nTo verify that this is what the algorithm does, we can check that the spectrum\nof the full signal is the same as the combined periodic and aperiodic IRASA components.\n\n\n"
      ]
    },
    {
      "cell_type": "code",
      "execution_count": null,
      "metadata": {
        "collapsed": false
      },
      "outputs": [],
      "source": [
        "# Check that the sum of IRASA components is same as the PSD of the whole signal\npsd_irasa = psd_aperiodic + psd_periodic\nassert np.equal(psd_irasa, psd).all()"
      ]
    },
    {
      "cell_type": "markdown",
      "metadata": {},
      "source": [
        "## Subsequent Analyses\n\nOne of the goals of separating the components may be to further analyze each component.\n\nFor example, fitting the extracted aperiodic component can be done to measure the\nproperties of the aperiodic activity. Here, we can fit the IRASA extracted aperiodic\ncomponent to see if it matches what we simulated.\n\nNote that the fitting here actually measures the slope of the power spectrum, in log-log\nspace, which is equivalent to the 1/f exponent that was simulated.\n\n\n"
      ]
    },
    {
      "cell_type": "code",
      "execution_count": null,
      "metadata": {
        "collapsed": false
      },
      "outputs": [],
      "source": [
        "# Fit the aperiodic component of the IRASA results\nintercept, fit_sl = fit_irasa(freqs, psd_aperiodic)\nprint(\"Computed Exponent: {:1.2f}\".format(fit_sl))\nprint(\"Simulated Exponent: {:1.2f}\".format(exp))"
      ]
    }
  ],
  "metadata": {
    "kernelspec": {
      "display_name": "Python 3",
      "language": "python",
      "name": "python3"
    },
    "language_info": {
      "codemirror_mode": {
        "name": "ipython",
        "version": 3
      },
      "file_extension": ".py",
      "mimetype": "text/x-python",
      "name": "python",
      "nbconvert_exporter": "python",
      "pygments_lexer": "ipython3",
      "version": "3.8.3"
    }
  },
  "nbformat": 4,
  "nbformat_minor": 0
}