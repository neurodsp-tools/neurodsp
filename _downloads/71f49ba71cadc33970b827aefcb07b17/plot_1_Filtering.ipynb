{
  "cells": [
    {
      "cell_type": "markdown",
      "metadata": {},
      "source": [
        "\n# Filtering\n\nApply filters to neural signals, including highpass, lowpass, bandpass & bandstop filters.\n\nThis tutorial primarily covers the ``neurodsp.filt`` module.\n"
      ]
    },
    {
      "cell_type": "markdown",
      "metadata": {},
      "source": [
        "## Filtering with NeuroDSP\n\nThe :func:`~.filter_signal` function is the main function for filtering using NeuroDSP.\n\nIn this tutorial, we will examine filtering signals with different passbands.\nThe passband of a filter is the range of frequencies that can 'pass' through a filter.\n\nThe following articles also have additional information on filtering electrophysiological data:\n\n- [Widman et al., 2015](https://pubmed.ncbi.nlm.nih.gov/25128257/)\n- [de Cheveigne & Nelken, 2019](https://pubmed.ncbi.nlm.nih.gov/30998899/)\n\n\n"
      ]
    },
    {
      "cell_type": "code",
      "execution_count": null,
      "metadata": {
        "collapsed": false
      },
      "outputs": [],
      "source": [
        "# Import filter function\nfrom neurodsp.filt import filter_signal\n\n# Import simulation code for creating test data\nfrom neurodsp.sim import sim_combined\nfrom neurodsp.utils import set_random_seed, create_times\n\n# Import utilities for loading and plotting data\nfrom neurodsp.utils.download import load_ndsp_data\nfrom neurodsp.plts.time_series import plot_time_series"
      ]
    },
    {
      "cell_type": "code",
      "execution_count": null,
      "metadata": {
        "collapsed": false
      },
      "outputs": [],
      "source": [
        "# Set the random seed, for consistency simulating data\nset_random_seed(0)"
      ]
    },
    {
      "cell_type": "code",
      "execution_count": null,
      "metadata": {
        "collapsed": false
      },
      "outputs": [],
      "source": [
        "# General settings for simulations\nfs = 1000\nn_seconds = 5\n\n# Set the default aperiodic exponent\nexp = -1\n\n# Generate a times vector, for plotting\ntimes = create_times(n_seconds, fs)"
      ]
    },
    {
      "cell_type": "markdown",
      "metadata": {},
      "source": [
        "### Bandpass filters\n\nA bandpass filter allows through frequencies within a given frequency range.\n\nThese filters can be useful to filter a signal to a specific band range, for example\nfiltering to the theta range, defined as 4-8 Hz.\n\n\n"
      ]
    },
    {
      "cell_type": "code",
      "execution_count": null,
      "metadata": {
        "collapsed": false
      },
      "outputs": [],
      "source": [
        "# Set the frequency in our simulated signal\nfreq = 6\n\n# Set up simulation for a signal with aperiodic activity and an oscillation\ncomponents = {'sim_powerlaw' : {'exponent' : exp},\n              'sim_oscillation' : {'freq' : 6}}\nvariances = [0.1, 1]\n\n# Simulate our signal\nsig = sim_combined(n_seconds, fs, components, variances)"
      ]
    },
    {
      "cell_type": "code",
      "execution_count": null,
      "metadata": {
        "collapsed": false
      },
      "outputs": [],
      "source": [
        "# Define a frequency range to filter the data\nf_range = (4, 8)\n\n# Bandpass filter the data, across the band of interest\nsig_filt = filter_signal(sig, fs, 'bandpass', f_range)"
      ]
    },
    {
      "cell_type": "code",
      "execution_count": null,
      "metadata": {
        "collapsed": false
      },
      "outputs": [],
      "source": [
        "# Plot filtered signal\nplot_time_series(times, [sig, sig_filt], ['Raw', 'Filtered'])"
      ]
    },
    {
      "cell_type": "markdown",
      "metadata": {},
      "source": [
        "Notice that the edges of the filtered signal are clipped (no red).\n\nEdge artifact removal is done by default in NeuroDSP filtering, because\nthe signal samples at the edges only experienced part of the filter.\n\nTo bypass this feature, set `remove_edges=False`, but at your own risk!\n\n\n"
      ]
    },
    {
      "cell_type": "markdown",
      "metadata": {},
      "source": [
        "### Highpass filter\n\nHighpass filters are filters that pass through all frequencies above a specified cutoff point.\n\nThese filters can be used to remove low frequency drift from the data.\n\n\n"
      ]
    },
    {
      "cell_type": "code",
      "execution_count": null,
      "metadata": {
        "collapsed": false
      },
      "outputs": [],
      "source": [
        "# Settings for the rhythmic components in the data\nfreq1 = 3\nfreq2 = 0.5\n\n# Set up simulation for a signal with aperiodic activity, an oscillation, and low frequency drift\ncomponents = {'sim_powerlaw' : {'exponent' : exp},\n              'sim_oscillation' : [{'freq' : freq1}, {'freq' : freq2}]}\nvariances = [0.1, 1, 1]\n\n# Generate a signal including low-frequency activity\nsig = sim_combined(n_seconds, fs, components, variances)"
      ]
    },
    {
      "cell_type": "code",
      "execution_count": null,
      "metadata": {
        "collapsed": false
      },
      "outputs": [],
      "source": [
        "# Filter the data with a highpass filter\nf_range = (2, None)\nsig_filt = filter_signal(sig, fs, 'highpass', f_range)"
      ]
    },
    {
      "cell_type": "code",
      "execution_count": null,
      "metadata": {
        "collapsed": false
      },
      "outputs": [],
      "source": [
        "# Plot filtered signal\nplot_time_series(times, [sig, sig_filt], ['Raw', 'Filtered'])"
      ]
    },
    {
      "cell_type": "markdown",
      "metadata": {},
      "source": [
        "### Lowpass filter\n\nLowpass filters are filters that pass through all frequencies below a specified cutoff point.\n\nThese filters can be used to remove high frequency activity from the data.\n\n\n"
      ]
    },
    {
      "cell_type": "code",
      "execution_count": null,
      "metadata": {
        "collapsed": false
      },
      "outputs": [],
      "source": [
        "# Filter the data\nf_range = (None, 20)\nsig_filt = filter_signal(sig, fs, 'lowpass', f_range)"
      ]
    },
    {
      "cell_type": "code",
      "execution_count": null,
      "metadata": {
        "collapsed": false
      },
      "outputs": [],
      "source": [
        "# Plot filtered signal\nplot_time_series(times, [sig, sig_filt], ['Raw', 'Filtered'])"
      ]
    },
    {
      "cell_type": "markdown",
      "metadata": {},
      "source": [
        "### Bandstop filter\n\nBandstop filters are filters that remove a specified band range from the data.\n\nNext let's try a bandstop filter, to remove 60 Hz noise from the data.\n\nNotice that it is necessary to set a non-default filter length because\na filter of length 3 cycles of a 58Hz oscillation would not attenuate\nthe 60Hz oscillation much (try this yourself!).\n\n\n"
      ]
    },
    {
      "cell_type": "code",
      "execution_count": null,
      "metadata": {
        "collapsed": false
      },
      "outputs": [],
      "source": [
        "# Generate a signal, with a low frequency oscillation and 60 Hz line noise\ncomponents = {'sim_oscillation' : [{'freq' : 6}, {'freq' : 60}]}\nvariances = [1, 0.2]\nsig = sim_combined(n_seconds, fs, components, variances)"
      ]
    },
    {
      "cell_type": "code",
      "execution_count": null,
      "metadata": {
        "collapsed": false
      },
      "outputs": [],
      "source": [
        "# Filter the data\nf_range = (58, 62)\nsig_filt = filter_signal(sig, fs, 'bandstop', f_range, n_seconds=0.5)"
      ]
    },
    {
      "cell_type": "code",
      "execution_count": null,
      "metadata": {
        "collapsed": false
      },
      "outputs": [],
      "source": [
        "# Plot filtered signal\nplot_time_series(times, [sig, sig_filt], ['Raw', 'Filtered'])"
      ]
    },
    {
      "cell_type": "markdown",
      "metadata": {},
      "source": [
        "## Real Data Example\n\nFinally, let's apply a filter to a segment of real data.\n\nIn this example, we will apply a bandpass filter in the beta range to a segment of neural data.\n\n\n"
      ]
    },
    {
      "cell_type": "code",
      "execution_count": null,
      "metadata": {
        "collapsed": false
      },
      "outputs": [],
      "source": [
        "# Download, if needed, and load example data file\nsig = load_ndsp_data('sample_data_1.npy', folder='data')\n\n# Set sampling rate, and create a times vector for plotting\nfs = 1000\ntimes = create_times(len(sig)/fs, fs)\n\n# Define the range to filter to data to\nf_range = (13, 30)"
      ]
    },
    {
      "cell_type": "code",
      "execution_count": null,
      "metadata": {
        "collapsed": false
      },
      "outputs": [],
      "source": [
        "# Filter the data\nsig_filt = filter_signal(sig, fs, 'bandpass', f_range, n_cycles=3)"
      ]
    },
    {
      "cell_type": "code",
      "execution_count": null,
      "metadata": {
        "collapsed": false
      },
      "outputs": [],
      "source": [
        "# Plot filtered signal\nplot_time_series(times, [sig, sig_filt], ['Raw', 'Filtered'], xlim=[2, 5])"
      ]
    },
    {
      "cell_type": "markdown",
      "metadata": {},
      "source": [
        "In the above, we can see the original and filtered versions of some real neural data.\n\nYou might notice that in the filtered time series, the resulting oscillation appears to be\nmore sinusoidal than the original signal really is.\n\nIf you are interested in this problem, and how to deal with it, you should check out\n[bycycle](https://bycycle-tools.github.io/bycycle/),\nwhich is a tool for time-domain analyses of waveform shape.\n\n\n"
      ]
    },
    {
      "cell_type": "markdown",
      "metadata": {},
      "source": [
        "### Conclusion\n\nThis tutorial has been a brief introduction to applying the filters that are available\nin NeuroDSP. Note that in practice you will likely do more checking of filters that you\nuse (checking the filter response, for example), and may need to update settings.\n\nFor more information on different kinds of filters and their settings and\nproperties, and how to evaluate filters see the subsequent tutorials.\n\n\n"
      ]
    }
  ],
  "metadata": {
    "kernelspec": {
      "display_name": "Python 3",
      "language": "python",
      "name": "python3"
    },
    "language_info": {
      "codemirror_mode": {
        "name": "ipython",
        "version": 3
      },
      "file_extension": ".py",
      "mimetype": "text/x-python",
      "name": "python",
      "nbconvert_exporter": "python",
      "pygments_lexer": "ipython3",
      "version": "3.8.12"
    }
  },
  "nbformat": 4,
  "nbformat_minor": 0
}