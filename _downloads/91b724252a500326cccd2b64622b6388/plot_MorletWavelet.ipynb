{
  "cells": [
    {
      "cell_type": "markdown",
      "metadata": {},
      "source": [
        "\n# Morlet Wavelet Analysis\n\nPerform time-frequency decomposition using wavelets.\n\nIn this tutorial we will use Morlet wavelets to compute a time-frequency\nrepresentation of the data.\n\nThis tutorial primarily covers the ``neurodsp.timefrequency.wavelets`` module.\n"
      ]
    },
    {
      "cell_type": "code",
      "execution_count": null,
      "metadata": {
        "collapsed": false
      },
      "outputs": [],
      "source": [
        "import numpy as np\nfrom scipy import signal\nimport matplotlib.pyplot as plt\n\n# Import simulation and plot code to create & visualize data\nfrom neurodsp.sim import sim_combined\nfrom neurodsp.plts import plot_time_series, plot_timefrequency\nfrom neurodsp.utils import create_times\n\n# Import function for Morlet Wavelets\nfrom neurodsp.timefrequency.wavelets import compute_wavelet_transform"
      ]
    },
    {
      "cell_type": "markdown",
      "metadata": {},
      "source": [
        "## Simulate Data\n\nFirst, we'll simulate a time series using the :func:`~.sim_combined` function\nto create a time-varying oscillation.\n\nFor this example, our oscillation frequency will be 20 Hz, with a sampling rate of 500 Hz,\nand a simulation time of 10 seconds.\n\n\n"
      ]
    },
    {
      "cell_type": "code",
      "execution_count": null,
      "metadata": {
        "collapsed": false
      },
      "outputs": [],
      "source": [
        "# Define general settings for across the example\nfs = 500\n\n# Define settings for the simulated oscillation\nn_seconds = 10\nfreq = 20\nexp = -1\n\n# Define settings for creating the simulated signal\ncomps = {'sim_powerlaw' : {'exponent' : exp, 'f_range' : (2, None)},\n         'sim_bursty_oscillation' : {'freq' : freq}}\ncomp_vars = [0.25, 1]\n\n# Simulate a signal with bursty oscillations at 20 Hz\nsig = sim_combined(n_seconds, fs, comps, comp_vars)\ntimes = create_times(n_seconds, fs)"
      ]
    },
    {
      "cell_type": "code",
      "execution_count": null,
      "metadata": {
        "collapsed": false
      },
      "outputs": [],
      "source": [
        "# Plot a segment of our simulated time series\nplot_time_series(times, sig, xlim=[0, 2])"
      ]
    },
    {
      "cell_type": "markdown",
      "metadata": {},
      "source": [
        "## Compute Wavelet Transform\n\nNow, let's use the compute Morlet wavelet transform algorithm to compute a\ntime-frequency representation of our simulated data, using Morlet wavelets.\n\nTo apply the continuous Morlet wavelet transform, we need to specify frequencies of\ninterest. The wavelet transform can then be used to compute the power at these\nfrequencies across time.\n\nFor this example, we'll compute the Morlet wavelet transform on 50 equally-spaced\nfrequencies from 5 Hz to 100 Hz.\n\n\n"
      ]
    },
    {
      "cell_type": "code",
      "execution_count": null,
      "metadata": {
        "collapsed": false
      },
      "outputs": [],
      "source": [
        "# Settings for the wavelet transform algorithm\nfreqs = np.linspace(5, 100, 50)\n\n# Compute wavelet transform using compute Morlet wavelet transform algorithm\nmwt = compute_wavelet_transform(sig, fs=fs, n_cycles=7, freqs=freqs)"
      ]
    },
    {
      "cell_type": "code",
      "execution_count": null,
      "metadata": {
        "collapsed": false
      },
      "outputs": [],
      "source": [
        "# Plot morlet wavelet transform\nplot_timefrequency(times, freqs, mwt)"
      ]
    },
    {
      "cell_type": "markdown",
      "metadata": {},
      "source": [
        "In the plot above, we can see the time-frequency representation from the\nMorlet-wavelet transformed signal.\n\nNote that having simulated a bursty signal at 20 Hz, we can see that the\ntime-frequency representation shows periods with high power at this frequency.\n\n\n"
      ]
    },
    {
      "cell_type": "markdown",
      "metadata": {},
      "source": [
        "### Computing wavelets across different frequency ranges\n\nIf we want to compute the time-frequency representation across a different frequency range,\nwe can change the frequencies passed to the Morlet wavelet transform algorithm.\n\nFor the next example, let's use an array of frequencies from 15 Hz to 50 Hz with a\nspacing of 5 Hz.\n\n\n"
      ]
    },
    {
      "cell_type": "code",
      "execution_count": null,
      "metadata": {
        "collapsed": false
      },
      "outputs": [],
      "source": [
        "# Settings for the wavelet transform algorithm\nfreqs = np.arange(15, 50, 5)\n\n# Compute wavelet transform using compute Morlet wavelet transform algorithm\nmwt = compute_wavelet_transform(sig, fs=fs, n_cycles=7, freqs=freqs)"
      ]
    },
    {
      "cell_type": "code",
      "execution_count": null,
      "metadata": {
        "collapsed": false
      },
      "outputs": [],
      "source": [
        "# Plot morlet wavelet transform\nplot_timefrequency(times, freqs, mwt)"
      ]
    },
    {
      "cell_type": "markdown",
      "metadata": {},
      "source": [
        "From the plot above, you can see the Morlet-wavelet transformed signal for the new frequency\nrange. Again, we can see the how power at the frequency of our simulated oscillation.\n\n\n"
      ]
    },
    {
      "cell_type": "markdown",
      "metadata": {},
      "source": [
        "## Wavelet Description\n\nLet's look a little further into what a Wavelet is. In general, a wavelet is simply a small\n\"wave\" like signal. By sweeping this wave across our data, we can see how much of this 'wave'\nis in our signal, which is useful to quantify variations of signal amplitude across time.\n\nA Morlet wavelet is a particular type of wavelet in which the wavelet has been multiplied\nby a Gaussian envelope.\n\nSome parameters are needed to define a Morlet wavelet. These parameters are the\nsampling frequency, the fundamental frequency, and the number of cycles per frequency.\n\nFor more information on Morlet wavelets, see:\n[Morlet wavelets in time and frequency](https://www.youtube.com/watch?v=7ahrcB5HL0k)\na video on Youtube from Mike X Cohen.\n\n\n"
      ]
    },
    {
      "cell_type": "markdown",
      "metadata": {},
      "source": [
        "### Example Plot of Morlet Wavelet\n\nHere, we provide an example plot of an individual Morlet wavelet. We'll use the\n`scipy.signal` function `morlet` to create a wavelet that is 5 cycles long.\n\n\n"
      ]
    },
    {
      "cell_type": "code",
      "execution_count": null,
      "metadata": {
        "collapsed": false
      },
      "outputs": [],
      "source": [
        "# Define sampling rate, number of cycles, fundamental frequency, and length for the wavelet\nn_cycles = 5\nfreq = 5\nscaling = 1.0\nomega = n_cycles\nwavelet_len = int(n_cycles * fs / freq)\n\n# Create wavelet\nwavelet = signal.morlet(wavelet_len, omega, scaling)"
      ]
    },
    {
      "cell_type": "code",
      "execution_count": null,
      "metadata": {
        "collapsed": false
      },
      "outputs": [],
      "source": [
        "# Plot the real part of the wavelet\n_, ax = plt.subplots()\nax.plot(np.real(wavelet))\nax.set_axis_off()"
      ]
    },
    {
      "cell_type": "markdown",
      "metadata": {},
      "source": [
        "### Real & Imaginary Dimensions\n\nNote that wavelets have both real and imaginary dimensions.\n\n\n"
      ]
    },
    {
      "cell_type": "code",
      "execution_count": null,
      "metadata": {
        "collapsed": false
      },
      "outputs": [],
      "source": [
        "# Plot both real and imaginary dimensions of the wavelet\n_, ax = plt.subplots()\nax.plot(np.real(wavelet))\nax.plot(np.imag(wavelet))\nax.set_axis_off()"
      ]
    },
    {
      "cell_type": "code",
      "execution_count": null,
      "metadata": {
        "collapsed": false
      },
      "outputs": [],
      "source": [
        "# Plot real and imaginary components in a 3D plot\nfig = plt.figure()\nax = fig.add_subplot(111, projection='3d')\nax.plot(np.linspace(0, scaling, wavelet.size), wavelet.real, wavelet.imag)\nax.set(xlabel='Scaling', ylabel='Real Amplitude', zlabel='Imag Amplitude')"
      ]
    },
    {
      "cell_type": "markdown",
      "metadata": {},
      "source": [
        "In the plots above, you can see both the real and imaginary components of the Morlet-wavelet.\n\nNote that the function we have been using, :func:`~.compute_wavelet_transform`\ncreates Morlet wavelets in the same way we have been doing here, by using the\n`morlet` function from scipy.\n\n\n"
      ]
    },
    {
      "cell_type": "markdown",
      "metadata": {},
      "source": [
        "### Changing Parameters\n\nAdjusting the input parameters results in a different wavelet.\n\nFor example, let's try this same plot but with a different number of cycles:\n\n\n"
      ]
    },
    {
      "cell_type": "code",
      "execution_count": null,
      "metadata": {
        "collapsed": false
      },
      "outputs": [],
      "source": [
        "# Define settings for a new wavelet\nn_cycles = 10\nfreq = 5\nscaling = 1.0\nomega = n_cycles\nwavelet_len = int(n_cycles * fs / freq)\n\n# Create wavelet\nwavelet = signal.morlet(wavelet_len, omega, scaling)\n\n# Plot wavelet\n_, ax = plt.subplots()\nax.plot(np.real(wavelet))\nax.plot(np.imag(wavelet))\nax.set_axis_off()"
      ]
    },
    {
      "cell_type": "markdown",
      "metadata": {},
      "source": [
        "As you can see, when you increase the n_cycles parameter, you get more oscillations (cycles)\nin the wavelet.\n\n\n"
      ]
    },
    {
      "cell_type": "markdown",
      "metadata": {},
      "source": [
        "## Time-Frequency Representations\n\nLet's now return to the Morlet wavelet transform we were originally using. How this function\nworks is it creates wavelets, as we've been doing above, and then applies them to the data\nwith the :func:`~.convolve_wavelet` function. This function convolves the raw signal with\nour complex Morlet wavelet.\n\nThe complex Morlet wavelet can be thought of as a complex sine tapered by a Gaussian. The\nresult of the convolution returns a complex array (with real and imaginary components, like\nwe plotted above) which represents how much power of the frequency of the wavelet was\nfound in our signal.\n\n\n"
      ]
    },
    {
      "cell_type": "markdown",
      "metadata": {},
      "source": [
        "### Changing Parameters\n\nReturning to the Morlet-wavelet transform algorithm, we can adjust input parameters\nto demonstrate how changes in the number of cycles per frequency affects the outputs.\n\n\n"
      ]
    },
    {
      "cell_type": "code",
      "execution_count": null,
      "metadata": {
        "collapsed": false
      },
      "outputs": [],
      "source": [
        "# Compute the wavelet transform with a higher number of cycles\nfreqs = np.arange(15, 50, 5)\nmwt = compute_wavelet_transform(sig, fs=fs, n_cycles=15, freqs=freqs)\n\n# Plot the wavelet transform\nplot_timefrequency(times, freqs, mwt)"
      ]
    },
    {
      "cell_type": "markdown",
      "metadata": {},
      "source": [
        "As you can see, increasing n_cycles results in what looks like smoother pattern of activity\nacross time. This is because the wavelets, with more cycles, are longer. This can help\nincrease frequency resolution, but decreases temporal resolution, due to the time-frequency\ntrade off.\n\n\n"
      ]
    },
    {
      "cell_type": "markdown",
      "metadata": {},
      "source": [
        "If we adjust other input parameters, such as the frequency resolution, we can also get a\ndifferent result.\n\n\n"
      ]
    },
    {
      "cell_type": "code",
      "execution_count": null,
      "metadata": {
        "collapsed": false
      },
      "outputs": [],
      "source": [
        "# Compute the wavelet transform with a different set of frequencies\nfreqs = np.arange(10, 60, 10)\nmwt = compute_wavelet_transform(sig, fs=fs, n_cycles=15, freqs=freqs)\n\n# Plot the wavelet transform\nplot_timefrequency(times, freqs, mwt)"
      ]
    },
    {
      "cell_type": "markdown",
      "metadata": {},
      "source": [
        "In the above, we used a larger frequency step, with the same starting and ending frequencies.\n\nDoing so changes the frequency resolution of our estimation.\n\n\n"
      ]
    }
  ],
  "metadata": {
    "kernelspec": {
      "display_name": "Python 3",
      "language": "python",
      "name": "python3"
    },
    "language_info": {
      "codemirror_mode": {
        "name": "ipython",
        "version": 3
      },
      "file_extension": ".py",
      "mimetype": "text/x-python",
      "name": "python",
      "nbconvert_exporter": "python",
      "pygments_lexer": "ipython3",
      "version": "3.8.12"
    }
  },
  "nbformat": 4,
  "nbformat_minor": 0
}