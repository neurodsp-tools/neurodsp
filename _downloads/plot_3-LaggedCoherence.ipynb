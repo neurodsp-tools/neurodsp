{
  "cells": [
    {
      "cell_type": "code",
      "execution_count": null,
      "metadata": {
        "collapsed": false
      },
      "outputs": [],
      "source": [
        "%matplotlib inline"
      ]
    },
    {
      "cell_type": "markdown",
      "metadata": {},
      "source": [
        "\nLagged Coherence\n================\nhis notebook shows how to use the neurodsp module to compute lagged coherence.\nFor more details, see Fransen et al., 2015, Neuroimage.\n\n"
      ]
    },
    {
      "cell_type": "code",
      "execution_count": null,
      "metadata": {
        "collapsed": false
      },
      "outputs": [],
      "source": [
        "import numpy as np\nfrom neurodsp.laggedcoherence import lagged_coherence\nimport matplotlib.pyplot as plt"
      ]
    },
    {
      "cell_type": "markdown",
      "metadata": {},
      "source": [
        "Simulate signal with oscillatory bursts\n---------------------------------------\n\n"
      ]
    },
    {
      "cell_type": "code",
      "execution_count": null,
      "metadata": {
        "collapsed": false
      },
      "outputs": [],
      "source": [
        "# Parameters for simulated signal\nN = 5000\nFs = 1000\nburst_freq = 10\nburst_starts = [0, 3000]\nburst_seconds = 1\nburst_samples = burst_seconds*Fs\n\n# Design burst kernel\nburst_kernel_t = np.arange(0, burst_seconds, 1/Fs)\nburst_kernel = 2*np.sin(burst_kernel_t*2*np.pi*burst_freq)\n\n# Generate random signal with bursts\nt = np.arange(0, N/Fs, 1/Fs)\nnp.random.seed(0)\nx = np.random.randn(N)\nfor i in burst_starts:\n    x[i:i+burst_samples] += burst_kernel\n\n# Plot example signal\nplt.figure(figsize=(12,3))\nplt.plot(t, x, 'k')"
      ]
    },
    {
      "cell_type": "markdown",
      "metadata": {},
      "source": [
        "Compute lagged coherence for an alpha oscillation\n-------------------------------------------------\n\n"
      ]
    },
    {
      "cell_type": "code",
      "execution_count": null,
      "metadata": {
        "collapsed": false
      },
      "outputs": [],
      "source": [
        "f_range = (8, 12)\nlag_coh_alpha = lagged_coherence(x, f_range, Fs)\nprint('Lagged coherence = ', lag_coh_alpha)"
      ]
    },
    {
      "cell_type": "markdown",
      "metadata": {},
      "source": [
        "Compute lagged coherence across the frequency spectrum\n------------------------------------------------------\n\nNotice that lagged coherence peaks around 10Hz (the frequency of our\noscillator), but it is not very specific to that frequency.\n\n"
      ]
    },
    {
      "cell_type": "code",
      "execution_count": null,
      "metadata": {
        "collapsed": false
      },
      "outputs": [],
      "source": [
        "lag_coh_by_f, f = lagged_coherence(x, (1, 40), Fs, return_spectrum=True)\n\n# Visualize lagged coherence as a function of frequency\nplt.figure(figsize=(6,3))\nplt.plot(f, lag_coh_by_f, 'k.-')\nplt.xlabel('Frequency (Hz)')\nplt.ylabel('Lagged coherence')\nplt.tight_layout()"
      ]
    },
    {
      "cell_type": "markdown",
      "metadata": {},
      "source": [
        "Compute lagged coherence for time segments with and without burst\n-----------------------------------------------------------------\n\nNote that lagged coherence is greater when analyzing a neural signal that has a burst in the frequency range of interest, compared to a signal that does not have an oscillator.\n\n"
      ]
    },
    {
      "cell_type": "code",
      "execution_count": null,
      "metadata": {
        "collapsed": false
      },
      "outputs": [],
      "source": [
        "samp_burst = np.arange(1000)\nsamp_noburst = np.arange(1000, 2000)\n\nlag_coh_burst = lagged_coherence(x[samp_burst], f_range, Fs)\nlag_coh_noburst = lagged_coherence(x[samp_noburst], f_range, Fs)\nprint('Lagged coherence, bursting = ', lag_coh_burst)\nprint('Lagged coherence, not bursting = ', lag_coh_noburst)"
      ]
    },
    {
      "cell_type": "markdown",
      "metadata": {},
      "source": [
        "Compute lagged coherence of an example neural signal\n----------------------------------------------------\n\n"
      ]
    },
    {
      "cell_type": "code",
      "execution_count": null,
      "metadata": {
        "collapsed": false
      },
      "outputs": [],
      "source": [
        "# Load signal\nx = np.load('./data/sample_data_1.npy')\nx_filt_true = np.load('./data/sample_data_1_filt.npy')\nFs = 1000\nt = np.arange(0, len(x)/Fs, 1/Fs)\nf_range = (13,30)\n\n# Plot example signal\nplt.figure(figsize=(12,3))\nplt.plot(t, x, 'k')\nplt.xlim((0,5))\nplt.xlabel('Time (s)')\nplt.ylabel('Voltage (uV)')\nplt.tight_layout()\n\nf_range = (13, 30)\nlag_coh_beta = lagged_coherence(x, f_range, Fs)\nprint('Lagged coherence = ', lag_coh_beta)"
      ]
    }
  ],
  "metadata": {
    "kernelspec": {
      "display_name": "Python 3",
      "language": "python",
      "name": "python3"
    },
    "language_info": {
      "codemirror_mode": {
        "name": "ipython",
        "version": 3
      },
      "file_extension": ".py",
      "mimetype": "text/x-python",
      "name": "python",
      "nbconvert_exporter": "python",
      "pygments_lexer": "ipython3",
      "version": "3.6.4"
    }
  },
  "nbformat": 4,
  "nbformat_minor": 0
}