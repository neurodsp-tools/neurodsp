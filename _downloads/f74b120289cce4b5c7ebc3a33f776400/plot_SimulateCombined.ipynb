{
  "cells": [
    {
      "cell_type": "markdown",
      "metadata": {},
      "source": [
        "\n# Simulating Combined Signals\n\nSimulate combined signals, with periodic and aperiodic components.\n\nThis tutorial covers the ``neurodsp.sim.combined`` module.\n"
      ]
    },
    {
      "cell_type": "code",
      "execution_count": null,
      "metadata": {
        "collapsed": false
      },
      "outputs": [],
      "source": [
        "# Import sim functions\nfrom neurodsp.sim.combined import sim_combined, sim_peak_oscillation\nfrom neurodsp.sim.aperiodic import sim_powerlaw\nfrom neurodsp.utils import set_random_seed\n\n# Import function to compute power spectra\nfrom neurodsp.spectral import compute_spectrum\n\n# Import utilities for plotting data\nfrom neurodsp.utils import create_times\nfrom neurodsp.plts.spectral import plot_power_spectra\nfrom neurodsp.plts.time_series import plot_time_series"
      ]
    },
    {
      "cell_type": "code",
      "execution_count": null,
      "metadata": {
        "collapsed": false
      },
      "outputs": [],
      "source": [
        "# Set the random seed, for consistency simulating data\nset_random_seed(0)\n\n# Set some general settings, to be used across all simulations\nfs = 1000\nn_seconds = 3\ntimes = create_times(n_seconds, fs)"
      ]
    },
    {
      "cell_type": "markdown",
      "metadata": {},
      "source": [
        "## Simulate Combined Periodic & Aperiodic Signals\n\nIn order to simulate a signal that looks more like a brain signal, you may want\nto simulate an oscillation together with aperiodic activity.\n\nWe can do this with the :func:`~.sim_combined` function, in which you specify\na set of components that you want to add together to create a complex signal.\n\nYou can use :func:`~.sim_combined` with any combination\nof any of the other simulation functions.\n\nEach component is indicated as a string label, indicating the desired function to use,\nin a dictionary, with an associated dictionary of any and all parameters to use for that\ncomponent as a dictionary.\n\n\n"
      ]
    },
    {
      "cell_type": "code",
      "execution_count": null,
      "metadata": {
        "collapsed": false
      },
      "outputs": [],
      "source": [
        "# Define the components of the combined signal to simulate\ncomponents = {'sim_synaptic_current' : {'n_neurons' : 1000, 'firing_rate' : 2, 't_ker' : 1.0,\n                                        'tau_r' : 0.002, 'tau_d' : 0.02},\n              'sim_oscillation' : {'freq' : 8}}"
      ]
    },
    {
      "cell_type": "code",
      "execution_count": null,
      "metadata": {
        "collapsed": false
      },
      "outputs": [],
      "source": [
        "# Simulate an oscillation over an aperiodic component\nsignal = sim_combined(n_seconds, fs, components)"
      ]
    },
    {
      "cell_type": "code",
      "execution_count": null,
      "metadata": {
        "collapsed": false
      },
      "outputs": [],
      "source": [
        "# Plot the simulated data, in the time domain\nplot_time_series(times, signal)"
      ]
    },
    {
      "cell_type": "code",
      "execution_count": null,
      "metadata": {
        "collapsed": false
      },
      "outputs": [],
      "source": [
        "# Plot the simulated data, in the frequency domain\nfreqs, psd = compute_spectrum(signal, fs)\nplot_power_spectra(freqs, psd)"
      ]
    },
    {
      "cell_type": "markdown",
      "metadata": {},
      "source": [
        "We can switch out any components that we want, for example trading the stationary oscillation\nfor a bursting oscillation, also with an aperiodic component.\n\nWe can also control the relative proportions of each component, by using a parameter called\n`component_variances` that specifies the variance of each component.\n\n\n"
      ]
    },
    {
      "cell_type": "code",
      "execution_count": null,
      "metadata": {
        "collapsed": false
      },
      "outputs": [],
      "source": [
        "# Define the components of the combined signal to simulate\ncomponents = {'sim_synaptic_current' : {'n_neurons' : 1000, 'firing_rate' : 2,\n                                        't_ker' : 1.0, 'tau_r' : 0.002, 'tau_d' : 0.02},\n              'sim_bursty_oscillation' : {'freq' : 10}}\ncomponent_variances = [1, 0.5]"
      ]
    },
    {
      "cell_type": "code",
      "execution_count": null,
      "metadata": {
        "collapsed": false
      },
      "outputs": [],
      "source": [
        "# Simulate a bursty oscillation combined with aperiodic activity\nsig = sim_combined(n_seconds, fs, components, component_variances)"
      ]
    },
    {
      "cell_type": "code",
      "execution_count": null,
      "metadata": {
        "collapsed": false
      },
      "outputs": [],
      "source": [
        "# Plot the simulated data, in the time domain\nplot_time_series(times, sig)"
      ]
    },
    {
      "cell_type": "code",
      "execution_count": null,
      "metadata": {
        "collapsed": false
      },
      "outputs": [],
      "source": [
        "# Plot the simulated data, in the frequency domain\nfreqs, psd = compute_spectrum(sig, fs)\nplot_power_spectra(freqs, psd)"
      ]
    },
    {
      "cell_type": "markdown",
      "metadata": {},
      "source": [
        "## Simulating Multiple Components from the Same Function\n\nIf you wish, you can also combine multiple components from the same simulation function.\n\nTo do so, replace the dictionary of parameters with a list of parameters, where each\nentry is a dictionary for each component, using the same simulation function.\n\n\n"
      ]
    },
    {
      "cell_type": "code",
      "execution_count": null,
      "metadata": {
        "collapsed": false
      },
      "outputs": [],
      "source": [
        "# Define the components of a signal with multiple oscillatory components\ncomponents = {'sim_oscillation' : [{'freq' : 10}, {'freq' : 20}]}\n\n# Simulate a combined signal with multiple oscillations\nsig = sim_combined(n_seconds, fs, components)"
      ]
    },
    {
      "cell_type": "code",
      "execution_count": null,
      "metadata": {
        "collapsed": false
      },
      "outputs": [],
      "source": [
        "# Plot the simulated data, in the time domain\nplot_time_series(times, sig)"
      ]
    },
    {
      "cell_type": "markdown",
      "metadata": {},
      "source": [
        "This can also be combined with other types of components.\n\nFor example, here we can combine multiple oscillations with an aperiodic component,\nwhile also controlling the relative proportions of each.\n\n\n"
      ]
    },
    {
      "cell_type": "code",
      "execution_count": null,
      "metadata": {
        "collapsed": false
      },
      "outputs": [],
      "source": [
        "# Define the components of the combined signal to simulate\ncomponents = {'sim_powerlaw' : {'exponent': -2, 'f_range' : [2, None]},\n              'sim_oscillation' : [{'freq' : 10}, {'freq' : 20}]}\ncomponent_variances = [0.5, 1, 1]\n\n# Simulate a combined signal with multiple oscillations\nsig = sim_combined(n_seconds, fs, components)"
      ]
    },
    {
      "cell_type": "code",
      "execution_count": null,
      "metadata": {
        "collapsed": false
      },
      "outputs": [],
      "source": [
        "# Plot the simulated data, in the time domain\nplot_time_series(times, sig)"
      ]
    },
    {
      "cell_type": "markdown",
      "metadata": {},
      "source": [
        "## Simulate Peak Oscillation\n\nNext, we will simulate a time series with a peak in the power spectrum, that we can\ndefine in terms of the specific location and shape of the oscillatory peak.\n\nIn order to make this simulation, we precompute an aperiodic signal, to which\nwe can add an oscillatory component to make the overall signal.\n\nTo do so, we use the :func:`~.sim_peak_oscillation` function to add an oscillation to\nthe aperiodic component, specifying a desired central frequency, bandwidth, and peak height.\n\n\n"
      ]
    },
    {
      "cell_type": "code",
      "execution_count": null,
      "metadata": {
        "collapsed": false
      },
      "outputs": [],
      "source": [
        "# Precompute an aperiodic time series\nap_sig = sim_powerlaw(n_seconds, fs, exponent=-1)\n\n# Define settings that define the peak to add\nfreq = 10\nbw = 3\nheight = 2\n\n# Simulate the peak oscillation signal\nsig = sim_peak_oscillation(ap_sig, fs, freq, bw, height)"
      ]
    },
    {
      "cell_type": "code",
      "execution_count": null,
      "metadata": {
        "collapsed": false
      },
      "outputs": [],
      "source": [
        "# Plot the simulated data, in the time domain\nplot_time_series(times, sig)"
      ]
    },
    {
      "cell_type": "code",
      "execution_count": null,
      "metadata": {
        "collapsed": false
      },
      "outputs": [],
      "source": [
        "# Plot the simulated data, in the frequency domain\nfreqs, psd = compute_spectrum(sig, fs)\nplot_power_spectra(freqs, psd)"
      ]
    }
  ],
  "metadata": {
    "kernelspec": {
      "display_name": "Python 3",
      "language": "python",
      "name": "python3"
    },
    "language_info": {
      "codemirror_mode": {
        "name": "ipython",
        "version": 3
      },
      "file_extension": ".py",
      "mimetype": "text/x-python",
      "name": "python",
      "nbconvert_exporter": "python",
      "pygments_lexer": "ipython3",
      "version": "3.8.12"
    }
  },
  "nbformat": 4,
  "nbformat_minor": 0
}