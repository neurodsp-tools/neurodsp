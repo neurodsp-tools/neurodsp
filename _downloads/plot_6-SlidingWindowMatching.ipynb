{
  "cells": [
    {
      "cell_type": "code",
      "execution_count": null,
      "metadata": {
        "collapsed": false
      },
      "outputs": [],
      "source": [
        "%matplotlib inline"
      ]
    },
    {
      "cell_type": "markdown",
      "metadata": {},
      "source": [
        "\nSliding Window Matching\n=======================\nFind recurrent patterns in a neural signal using Sliding Window Matching.\n\nThis notebook shows how to implement sliding window matching (SWM) for\nidentifying recurring patterns in a neural signal, like the shape of an\noscillatory waveform. For more details, see Gips et al., 2017, J Neuro\nMethods.\n\n\n"
      ]
    },
    {
      "cell_type": "code",
      "execution_count": null,
      "metadata": {
        "collapsed": false
      },
      "outputs": [],
      "source": [
        "import numpy as np\nfrom neurodsp.swm import sliding_window_matching\nimport matplotlib.pyplot as plt"
      ]
    },
    {
      "cell_type": "markdown",
      "metadata": {},
      "source": [
        "Load neural signal\n------------------\n\n"
      ]
    },
    {
      "cell_type": "code",
      "execution_count": null,
      "metadata": {
        "collapsed": false
      },
      "outputs": [],
      "source": [
        "sig = np.load('./data/sample_data_1.npy')\nFs = 1000\nt = np.arange(0, len(sig)/Fs, 1/Fs)\nf_range = (13,30)\n\n# Plot example signal\nplt.figure(figsize=(12,3))\nplt.plot(t, sig, 'k')\nplt.xlim((4,5))\nplt.xlabel('Time (s)')\nplt.ylabel('Voltage (uV)')\nplt.tight_layout()"
      ]
    },
    {
      "cell_type": "markdown",
      "metadata": {},
      "source": [
        "Apply sliding window matching to neural signal\n----------------------------------------------\n\nBecause we define the window length to be about 1 cycle, this should roughly\nextract the waveform shape of the neural oscillation. Notice that the beta\ncycles have sharper troughs than peaks, and the average window is a beta cycle with a sharp trough.\n\nHowever, notice that these results change dramatically by changing the random seed. Using more data and increasing the number of iterations would help the robustness of the algorithm.\n\n"
      ]
    },
    {
      "cell_type": "code",
      "execution_count": null,
      "metadata": {
        "collapsed": false
      },
      "outputs": [],
      "source": [
        "# Define window length, in seconds\nL = .055\n\n# Define minimum window spacing, in seconds\nG = .2\n\nnp.random.seed(1)\navg_window, window_starts, J = sliding_window_matching(sig, Fs, L, G, max_iterations=500)\n\nplt.figure(figsize=(4,4))\nplt.plot(avg_window, 'k')\nplt.xlabel('Time (samples)')\nplt.ylabel('Voltage (a.u.)')\nplt.title('Average pattern in neural signal')\nplt.tight_layout()"
      ]
    }
  ],
  "metadata": {
    "kernelspec": {
      "display_name": "Python 3",
      "language": "python",
      "name": "python3"
    },
    "language_info": {
      "codemirror_mode": {
        "name": "ipython",
        "version": 3
      },
      "file_extension": ".py",
      "mimetype": "text/x-python",
      "name": "python",
      "nbconvert_exporter": "python",
      "pygments_lexer": "ipython3",
      "version": "3.6.4"
    }
  },
  "nbformat": 4,
  "nbformat_minor": 0
}