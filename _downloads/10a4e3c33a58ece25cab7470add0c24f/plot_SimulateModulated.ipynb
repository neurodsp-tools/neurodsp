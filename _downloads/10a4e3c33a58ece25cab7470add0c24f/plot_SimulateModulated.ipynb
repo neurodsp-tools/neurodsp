{
  "cells": [
    {
      "cell_type": "markdown",
      "metadata": {},
      "source": [
        "\n# Modulating Signals\n\nApply amplitude modulation to simulated signals.\n"
      ]
    },
    {
      "cell_type": "markdown",
      "metadata": {},
      "source": [
        "## Amplitude Modulation\n\nAmplitude modulation is a where the amplitude of a signal is modulate by another signal.\n\n\n"
      ]
    },
    {
      "cell_type": "code",
      "execution_count": null,
      "metadata": {
        "collapsed": false
      },
      "outputs": [],
      "source": [
        "# Import sim functions\nfrom neurodsp.sim import sim_powerlaw, sim_oscillation\nfrom neurodsp.utils import set_random_seed\n\n# Import sim functions for modulation\nfrom neurodsp.sim import sim_modulated_signal\nfrom neurodsp.sim.utils import modulate_signal\n\n# Import utilities for plotting data\nfrom neurodsp.utils import create_times\nfrom neurodsp.plts import plot_time_series"
      ]
    },
    {
      "cell_type": "code",
      "execution_count": null,
      "metadata": {
        "collapsed": false
      },
      "outputs": [],
      "source": [
        "# Set the random seed, for consistency simulating data\nset_random_seed(0)\n\n# Set some general settings, to be used across all simulations\nn_seconds = 10\nfs = 1000\ntimes = create_times(n_seconds, fs)"
      ]
    },
    {
      "cell_type": "markdown",
      "metadata": {},
      "source": [
        "### Modulate Signal\n\nTo apply amplitude modulation, we can use the :func:`~.modulate_signal` function.\n\nUsing this approach, creating a modulated signal includes the following steps:\n\n- Simulate a signal\n- Simulate a modulator\n- Apply the modulator to the signal\n\n\n"
      ]
    },
    {
      "cell_type": "markdown",
      "metadata": {},
      "source": [
        "#### Oscillatory Amplitude Modulation\n\nTo start, we will simulate an an oscillatory signal that has oscillatory amplitude modulation.\n\n\n"
      ]
    },
    {
      "cell_type": "code",
      "execution_count": null,
      "metadata": {
        "collapsed": false
      },
      "outputs": [],
      "source": [
        "# Simulate base signal, as a 10 Hz oscillation\nsig = sim_oscillation(n_seconds, fs, 10)\n\n# Simulate a modulating signal, here a 1 Hz sine wave\nmod = sim_oscillation(n_seconds, fs, 1)"
      ]
    },
    {
      "cell_type": "code",
      "execution_count": null,
      "metadata": {
        "collapsed": false
      },
      "outputs": [],
      "source": [
        "# Apply the amplitude modulation to the signal\nmsig = modulate_signal(sig, mod)"
      ]
    },
    {
      "cell_type": "code",
      "execution_count": null,
      "metadata": {
        "collapsed": false
      },
      "outputs": [],
      "source": [
        "# Plot the amplitude modulated signal\nplot_time_series(times, msig)"
      ]
    },
    {
      "cell_type": "markdown",
      "metadata": {},
      "source": [
        "#### Aperiodic Amplitude Modulation\n\nNext, we will apply a different amplitude modulation,\nthis time applying aperiodic amplitude modulation to the same oscillatory signal.\n\n\n"
      ]
    },
    {
      "cell_type": "code",
      "execution_count": null,
      "metadata": {
        "collapsed": false
      },
      "outputs": [],
      "source": [
        "# Simulate a different modulating signal, this time\nmod = sim_powerlaw(n_seconds, fs, exponent=-2)\n\n# Apply the amplitude modulation to the signal\nmsig = modulate_signal(sig, mod)"
      ]
    },
    {
      "cell_type": "code",
      "execution_count": null,
      "metadata": {
        "collapsed": false
      },
      "outputs": [],
      "source": [
        "# Plot the amplitude modulated signal\nplot_time_series(times, msig)"
      ]
    },
    {
      "cell_type": "markdown",
      "metadata": {},
      "source": [
        "#### Call signatures\n\nIn the above, we explicitly simulated both the base signal and the modulating signal.\n\nWhen using :func:`~.modulate_signal`, we can also pass in instruction\n\nNote also that any signal can be the base and/or the modulator.\n\nIn the following example,\nwe will amplitude modulate a powerlaw signal with an oscillatory modulation.\n\n\n"
      ]
    },
    {
      "cell_type": "code",
      "execution_count": null,
      "metadata": {
        "collapsed": false
      },
      "outputs": [],
      "source": [
        "# Simulate a new signal to modulate, this time an aperiodic signal\nsig = sim_powerlaw(n_seconds, fs, exponent=-1)"
      ]
    },
    {
      "cell_type": "code",
      "execution_count": null,
      "metadata": {
        "collapsed": false
      },
      "outputs": [],
      "source": [
        "# Define and apply amplitude modulation to the signal\nmsig = modulate_signal(sig, 'sim_oscillation', fs, {'freq' : 2.5})"
      ]
    },
    {
      "cell_type": "code",
      "execution_count": null,
      "metadata": {
        "collapsed": false
      },
      "outputs": [],
      "source": [
        "# Plot the amplitude modulated signal\nplot_time_series(times, msig)"
      ]
    },
    {
      "cell_type": "markdown",
      "metadata": {},
      "source": [
        "### Sim modulated signal\n\nIf you want to simulated amplitude modulated signals directly,\nthere is also the :func:`~.sim_modulated_signal` function.\n\nInstead of taking in pre-computed signals, this function takes in instructions\nfor both the main and modulated signal, creates both and then returns the modulated signal.\n\n\n"
      ]
    },
    {
      "cell_type": "code",
      "execution_count": null,
      "metadata": {
        "collapsed": false
      },
      "outputs": [],
      "source": [
        "# Simulate a modulated signal, passing in instruction for the main and modulating signal\nmsig = sim_modulated_signal(n_seconds, fs,\n                            'sim_oscillation', {'freq' : 10},\n                            'sim_oscillation', {'freq' : 1})"
      ]
    },
    {
      "cell_type": "code",
      "execution_count": null,
      "metadata": {
        "collapsed": false
      },
      "outputs": [],
      "source": [
        "# Plot the amplitude modulated signal\nplot_time_series(times, msig)"
      ]
    },
    {
      "cell_type": "code",
      "execution_count": null,
      "metadata": {
        "collapsed": false
      },
      "outputs": [],
      "source": [
        "# Simulate another modulated signal\nmsig = sim_modulated_signal(n_seconds, fs,\n                            'sim_oscillation', {'freq' : 10},\n                            'sim_powerlaw', {'exponent' : -2})"
      ]
    },
    {
      "cell_type": "code",
      "execution_count": null,
      "metadata": {
        "collapsed": false
      },
      "outputs": [],
      "source": [
        "# Plot the amplitude modulated signal\nplot_time_series(times, msig)"
      ]
    }
  ],
  "metadata": {
    "kernelspec": {
      "display_name": "Python 3",
      "language": "python",
      "name": "python3"
    },
    "language_info": {
      "codemirror_mode": {
        "name": "ipython",
        "version": 3
      },
      "file_extension": ".py",
      "mimetype": "text/x-python",
      "name": "python",
      "nbconvert_exporter": "python",
      "pygments_lexer": "ipython3",
      "version": "3.8.12"
    }
  },
  "nbformat": 4,
  "nbformat_minor": 0
}