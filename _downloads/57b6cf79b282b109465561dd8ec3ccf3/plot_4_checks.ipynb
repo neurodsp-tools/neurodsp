{
  "cells": [
    {
      "cell_type": "markdown",
      "metadata": {},
      "source": [
        "\n# Filter Checks\n\nStrategies and approaches for proper filter design and application.\n\nThis tutorial covers available functionality and recommended approaches for checking\nand applying filters, including utilities available across ``neurodsp.filt``.\n"
      ]
    },
    {
      "cell_type": "code",
      "execution_count": null,
      "metadata": {
        "collapsed": false
      },
      "outputs": [],
      "source": [
        "from neurodsp.sim import sim_combined\nfrom neurodsp.filt import filter_signal\nfrom neurodsp.utils import create_times\nfrom neurodsp.plts import plot_time_series"
      ]
    },
    {
      "cell_type": "markdown",
      "metadata": {},
      "source": [
        "## Filtering Best Practices\n\nAlthough filtering can increase the signal-to-noise ratio (SNR), improper filter design\nmay result can also introduce confounding distortions and artifacts.\n\nIn order to avoid these issues, filters need to be carefully designed and applied. Some\nguidelines for doing so in the context of electrophysiology data are covered in these\narticles:\n\n- [Widman et al., 2015](https://pubmed.ncbi.nlm.nih.gov/25128257/)\n- [de Cheveigne & Nelken, 2019](https://pubmed.ncbi.nlm.nih.gov/30998899/)\n\nGeneral recommendations based on these articles include to:\n\n1. Consider and examine the frequency and impulse responses of the filter\n2. Use simulated data to evaluate the practical effects of the filter\n3. Manually inspect the filtered signal, and comparing to the original signal\n\nWhen you design and apply filters with NeuroDSP, filter definition and properties checks are\nautomatically applied with the :func:`~.check_filter_definition` and\n:func:`~.check_filter_properties` functions.\n\nIf you see warnings or errors when applying filters, it likely stems from these checks.\nNote that passing these checks does not automatically mean the filter is ideal, but at\nleast some common issues may be caught through this process.\n\n\n"
      ]
    },
    {
      "cell_type": "code",
      "execution_count": null,
      "metadata": {
        "collapsed": false
      },
      "outputs": [],
      "source": [
        "# Define general settings for simulations\nfs = 500\nn_seconds = 3\ntimes = create_times(n_seconds, fs)"
      ]
    },
    {
      "cell_type": "markdown",
      "metadata": {},
      "source": [
        "## Filter Attenuation\n\nFilter attenuation refers to the degree to which frequencies are attenuated by a filter.\n\nYou might sometimes see a user warning that warns about the level of attenuation. This\nwarning is given whenever the constructed filter has a frequency response that does not\nhit a specified level of attenuation in the stopband. By default, the warning appears\nif the level of attenuation does not go below -20dB.\n\nYou can check filter properties by plotting the frequency response when you apply a filter.\n\nIn the following example, we will use an example of filtering out line noise, with\ndifferent filter lengths that do and do not achieve sufficient attenuation.\n\n\n"
      ]
    },
    {
      "cell_type": "code",
      "execution_count": null,
      "metadata": {
        "collapsed": false
      },
      "outputs": [],
      "source": [
        "# Generate a signal for this example, with an oscillation and 60 Hz line noise\ncomponents = {'sim_oscillation' : [{'freq' : 6}, {'freq' : 60}]}\nvariances = [1, 0.2]\nsig = sim_combined(n_seconds, fs, components, variances)"
      ]
    },
    {
      "cell_type": "code",
      "execution_count": null,
      "metadata": {
        "collapsed": false
      },
      "outputs": [],
      "source": [
        "# Define filter settings\nf_range = (58, 62)\npasstype = 'bandstop'"
      ]
    },
    {
      "cell_type": "code",
      "execution_count": null,
      "metadata": {
        "collapsed": false
      },
      "outputs": [],
      "source": [
        "# Apply a short filter, one that won't achieve our desired attenuation\nsig_filt_short = filter_signal(sig, fs, passtype, f_range,\n                               n_seconds=0.25, plot_properties=True)"
      ]
    },
    {
      "cell_type": "markdown",
      "metadata": {},
      "source": [
        "Notice that when we apply the filter above, with a short filter length, we get a\nwarning about the filter attenuation. The filter we have defined does not get to a\nsufficient attenuation level.\n\n\n"
      ]
    },
    {
      "cell_type": "code",
      "execution_count": null,
      "metadata": {
        "collapsed": false
      },
      "outputs": [],
      "source": [
        "# This user warning disappears if we elongate the filter\nsig_filt_long = filter_signal(sig, fs, passtype, f_range,\n                              n_seconds=1, plot_properties=True)"
      ]
    },
    {
      "cell_type": "markdown",
      "metadata": {},
      "source": [
        "When we make the filter definition longer, we see that the warning is now gone.\n\nTo see the difference in attenuation, compare the frequency response of two filters. In\nparticular, have a look at the scales of the frequency response, to see the different levels\nof attenuation each filter attains.\n\n\n"
      ]
    },
    {
      "cell_type": "markdown",
      "metadata": {},
      "source": [
        "## Time-frequency resolution trade off\n\nWhen designing and applying filters, one has to keep in mind the time-frequency resolution\ntrade off. For filters, this relates to changing the filter length. With longer filter kernels,\nwe get improved frequency resolution, but worse time resolution. With shorter filter kernels,\ntemporal resolution increases, but the frequency resolution is worse.\n\n### Two bandpass filters (one long and one short)\n\nFor an example, lets consider two FIR bandpass filters, with different lengths, and how\nthis relates to their filter properties. We will once again use and compare a short and\na long filter, this time focusing on the different resolutions of the outputs.\n\n\n"
      ]
    },
    {
      "cell_type": "code",
      "execution_count": null,
      "metadata": {
        "collapsed": false
      },
      "outputs": [],
      "source": [
        "# Generate a signal with aperiodic activity, a low frequency drift, and an oscillation\ncomponents = {'sim_powerlaw' : {'exponent' : 0},\n              'sim_oscillation' : [{'freq' : 1}, {'freq' : 6}]}\nvariances = [0.1, 1, 1]\nsig = sim_combined(n_seconds, fs, components, variances)\n\n# Set the first second to 0\nsig[:fs] = 0"
      ]
    },
    {
      "cell_type": "code",
      "execution_count": null,
      "metadata": {
        "collapsed": false
      },
      "outputs": [],
      "source": [
        "# Define the frequency band of interest\npassband = 'bandpass'\nf_range = (4, 8)\n\n# Filter the data\nsig_filt_short = filter_signal(sig, fs, passband, f_range, n_seconds=.1)\nsig_filt_long = filter_signal(sig, fs, passband, f_range, n_seconds=1)"
      ]
    },
    {
      "cell_type": "code",
      "execution_count": null,
      "metadata": {
        "collapsed": false
      },
      "outputs": [],
      "source": [
        "# Plot filtered signal\nplot_time_series(times, [sig, sig_filt_short, sig_filt_long],\n                 ['Raw', 'Short Filter', 'Long Filter'])"
      ]
    },
    {
      "cell_type": "markdown",
      "metadata": {},
      "source": [
        "In the plot above, we can see that the short filter preserves the start of the oscillation\nbetter than the long filter (i.e. the short filter has better temporal resolution).\n\nNotice also that the long filter correctly removed the 1Hz oscillation, but the short\nfilter did not (i.e. the long filter has better frequency resolution).\n\nAnother way to examine these properties is by looking at the properties of the two filters.\n\n\n"
      ]
    },
    {
      "cell_type": "code",
      "execution_count": null,
      "metadata": {
        "collapsed": false
      },
      "outputs": [],
      "source": [
        "# Filter and visualize properties for the short filter\nsig_filt_short = filter_signal(sig, fs, 'bandpass', f_range, n_seconds=.1,\n                               plot_properties=True)"
      ]
    },
    {
      "cell_type": "code",
      "execution_count": null,
      "metadata": {
        "collapsed": false
      },
      "outputs": [],
      "source": [
        "# Filter and visualize properties for the long filter\nsig_filt_long = filter_signal(sig, fs, 'bandpass', f_range, n_seconds=1,\n                              plot_properties=True)"
      ]
    },
    {
      "cell_type": "markdown",
      "metadata": {},
      "source": [
        "By comparing between the filter definitions for the two filters (short and long), we\ncan see the different resolutions. Note how the short filter have a much less specific\nfrequency response, but a much more localized impulse response. By comparison, the longer\nfilter has a much more localized frequency response, but a more temporally diffuse\nimpulse response.\n\nTemporal and frequency resolution are always a trade-off, and there is no single solution\nto the overall \"best\" filter. Rather, filter design depends on the application, and whether\ntemporal or frequency resolution is more important for a given application.\n\n\n"
      ]
    },
    {
      "cell_type": "markdown",
      "metadata": {},
      "source": [
        "## Reporting on Filters\n\nDesigning and applying appropriate filters takes some care and attention. If you are reporting\non work that includes using filters, then these reports should also include information\nfor readers to be able to assess the filters that were applied.\n\nFollowing [Widman et al., 2015](https://pubmed.ncbi.nlm.nih.gov/25128257/)\ninformation that is recommended to report when using filters includes:\n\n- Filter passtype\n- Cutoff frequency and definition\n- Filter order\n- Transition bandwidth\n- Passband ripple and stopband attenuation\n- Filter delay and causality\n- Direction of application\n\n\n"
      ]
    }
  ],
  "metadata": {
    "kernelspec": {
      "display_name": "Python 3",
      "language": "python",
      "name": "python3"
    },
    "language_info": {
      "codemirror_mode": {
        "name": "ipython",
        "version": 3
      },
      "file_extension": ".py",
      "mimetype": "text/x-python",
      "name": "python",
      "nbconvert_exporter": "python",
      "pygments_lexer": "ipython3",
      "version": "3.8.12"
    }
  },
  "nbformat": 4,
  "nbformat_minor": 0
}