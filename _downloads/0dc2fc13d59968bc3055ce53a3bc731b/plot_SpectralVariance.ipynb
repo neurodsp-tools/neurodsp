{
  "cells": [
    {
      "cell_type": "markdown",
      "metadata": {},
      "source": [
        "\n# Spectral Domain Analysis: Variance\n\nApply spectral domain analyses, calculating variance measures.\n\nThis tutorial primarily covers the ``neurodsp.spectral.variance`` module.\n"
      ]
    },
    {
      "cell_type": "markdown",
      "metadata": {},
      "source": [
        "## Overview\n\nThis tutorial covers computing and displaying a spectral histogram, and\ncomputing the spectral coefficient of variation (SCV).\n\n\n"
      ]
    },
    {
      "cell_type": "code",
      "execution_count": null,
      "metadata": {
        "collapsed": false
      },
      "outputs": [],
      "source": [
        "# Import spectral variance functions\nfrom neurodsp.spectral import compute_spectral_hist, compute_scv, compute_scv_rs\n\n# Import function to compute power spectra\nfrom neurodsp.spectral import compute_spectrum\n\n# Import utilities for loading and plotting data\nfrom neurodsp.utils import create_times\nfrom neurodsp.utils.download import load_ndsp_data\nfrom neurodsp.plts.time_series import plot_time_series\nfrom neurodsp.plts.spectral import (plot_spectral_hist, plot_scv,\n                                    plot_scv_rs_lines, plot_scv_rs_matrix)"
      ]
    },
    {
      "cell_type": "markdown",
      "metadata": {},
      "source": [
        "### Load example neural signal\n\nFirst, we load the sample data, an example channel of rat hippocampal LFP data.\n\n\n"
      ]
    },
    {
      "cell_type": "code",
      "execution_count": null,
      "metadata": {
        "collapsed": false
      },
      "outputs": [],
      "source": [
        "# Download, if needed, and load example data files\nsig = load_ndsp_data('sample_data_2.npy', folder='data')\n\n# Set sampling rate, and create a times vector for plotting\nfs = 1000\ntimes = create_times(len(sig)/fs, fs)"
      ]
    },
    {
      "cell_type": "code",
      "execution_count": null,
      "metadata": {
        "collapsed": false
      },
      "outputs": [],
      "source": [
        "# Plot the loaded signal\nplot_time_series(times, sig, xlim=[0, 3])"
      ]
    },
    {
      "cell_type": "markdown",
      "metadata": {},
      "source": [
        "Plotting the data, we observe a strong theta oscillation (~6-8 Hz).\n\n\n"
      ]
    },
    {
      "cell_type": "markdown",
      "metadata": {},
      "source": [
        "## Spectral histogram\n\nFirst, let's look at computing spectral histograms, with\n:func:`~.compute_spectral_hist`.\n\nThe PSD is an estimate of the central tendency (mean/median) of the signal's power\nat each frequency, with the assumption that the signal is relatively stationary and\nthat the variance around the mean comes from various forms of noise.\n\nHowever, in physiological data, we may be interested in visualizing the distribution of\npower values around the mean at each frequency, as estimated in sequential slices of\nshort-time Fourier transform (STFT), since it may reveal non-stationarities in the data\nor particular frequencies that are not like the rest. Here, we simply bin the log-power\nvalues across time, in a histogram, to observe the noise distribution at each frequency.\n\n\n"
      ]
    },
    {
      "cell_type": "code",
      "execution_count": null,
      "metadata": {
        "collapsed": false
      },
      "outputs": [],
      "source": [
        "# Calculate the spectral histogram\nfreqs, bins, spect_hist = compute_spectral_hist(sig, fs, nbins=50, f_range=(0, 80),\n                                                cut_pct=(0.1, 99.9))\n\n# Calculate a power spectrum, with median Welch\nfreq_med, psd_med = compute_spectrum(sig, fs, method='welch',\n                                     avg_type='median', nperseg=fs*2)\n\n# Plot the spectral histogram\nplot_spectral_hist(freqs, bins, spect_hist, freq_med, psd_med)"
      ]
    },
    {
      "cell_type": "markdown",
      "metadata": {},
      "source": [
        "Notice in the plot that not only is theta power higher overall (shifted up),\nit also has lower variance around its mean.\n\n\n"
      ]
    },
    {
      "cell_type": "markdown",
      "metadata": {},
      "source": [
        "## Spectral Coefficient of Variation (SCV)\n\nNext, let's look at computing the spectral coefficient of variation, with\n:func:`~.compute_scv`.\n\nAs noted above, the range of log-power values in the theta frequency range is lower\ncompared to other frequencies, while that of 30-100Hz appear to be quite constant\nacross the entire frequency axis (homoscedasticity).\n\nTo quantify that, we compute the coefficient of variation (standard deviation/mean) as a\nnormalized estimate of variance.\n\n\n"
      ]
    },
    {
      "cell_type": "code",
      "execution_count": null,
      "metadata": {
        "collapsed": false
      },
      "outputs": [],
      "source": [
        "# Calculate SCV\nfreqs, scv = compute_scv(sig, fs, nperseg=int(fs), noverlap=0)"
      ]
    },
    {
      "cell_type": "markdown",
      "metadata": {},
      "source": [
        "There is also a plotting function for SCV, :func:`~.plot_scv`.\n\n\n"
      ]
    },
    {
      "cell_type": "code",
      "execution_count": null,
      "metadata": {
        "collapsed": false
      },
      "outputs": [],
      "source": [
        "# Plot the SCV\nplot_scv(freqs, scv)"
      ]
    },
    {
      "cell_type": "markdown",
      "metadata": {},
      "source": [
        "As shown above, SCV calculated from the entire segment of data is quite noisy due to the\nsingle estimate of mean and standard deviation.\n\nTo overcome this, we can compute a bootstrap-resampled estimate of SCV, by randomly drawing\nslices from the non-overlapping spectrogram and taking their average.\n\nThe resampled spectral coefficient of variation can be computed with :func:`~.compute_scv_rs`.\n\n\n"
      ]
    },
    {
      "cell_type": "code",
      "execution_count": null,
      "metadata": {
        "collapsed": false
      },
      "outputs": [],
      "source": [
        "# Calculate SCV with the resampling method\nfreqs, t_inds, scv_rs = compute_scv_rs(sig, fs, nperseg=fs, method='bootstrap',\n                                       rs_params=(20, 200))"
      ]
    },
    {
      "cell_type": "markdown",
      "metadata": {},
      "source": [
        "You can plot the resampled SCV, as lines, with :func:`~.plot_scv_rs_lines`.\n\n\n"
      ]
    },
    {
      "cell_type": "code",
      "execution_count": null,
      "metadata": {
        "collapsed": false
      },
      "outputs": [],
      "source": [
        "# Plot the SCV, from the resampling method\nplot_scv_rs_lines(freqs, scv_rs)"
      ]
    },
    {
      "cell_type": "markdown",
      "metadata": {},
      "source": [
        "Another way to compute the resampled SCV is via a sliding window approach, essentially\nsmoothing over consecutive slices of the spectrogram to compute the mean and standard\ndeviation estimates.\n\n\n"
      ]
    },
    {
      "cell_type": "code",
      "execution_count": null,
      "metadata": {
        "collapsed": false
      },
      "outputs": [],
      "source": [
        "# Calculate SCV with the resampling method\nfreqs, t_inds, scv_rs = compute_scv_rs(sig, fs, method='rolling', rs_params=(10, 2))"
      ]
    },
    {
      "cell_type": "markdown",
      "metadata": {},
      "source": [
        "You can plot the resampled SCV, as a matrix, with :func:`~.plot_scv_rs_matrix`.\n\n\n"
      ]
    },
    {
      "cell_type": "code",
      "execution_count": null,
      "metadata": {
        "collapsed": false
      },
      "outputs": [],
      "source": [
        "# Plot the SCV, from the resampling method\nplot_scv_rs_matrix(freqs, t_inds, scv_rs)"
      ]
    },
    {
      "cell_type": "markdown",
      "metadata": {},
      "source": [
        "In the plot below, we see that the theta band (~7Hz) consistently has CV of less\nthan 1 (negative in log10).\n\n\n"
      ]
    }
  ],
  "metadata": {
    "kernelspec": {
      "display_name": "Python 3",
      "language": "python",
      "name": "python3"
    },
    "language_info": {
      "codemirror_mode": {
        "name": "ipython",
        "version": 3
      },
      "file_extension": ".py",
      "mimetype": "text/x-python",
      "name": "python",
      "nbconvert_exporter": "python",
      "pygments_lexer": "ipython3",
      "version": "3.8.3"
    }
  },
  "nbformat": 4,
  "nbformat_minor": 0
}