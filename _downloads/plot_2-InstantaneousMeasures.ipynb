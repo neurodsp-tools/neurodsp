{
  "cells": [
    {
      "cell_type": "code",
      "execution_count": null,
      "metadata": {
        "collapsed": false
      },
      "outputs": [],
      "source": [
        "%matplotlib inline"
      ]
    },
    {
      "cell_type": "markdown",
      "metadata": {},
      "source": [
        "\nTime-frequency analysis\n=======================\nIn this tutorial, we will show how to estimate instantaneous measures of phase,\namplitude, and frequency.\n\n"
      ]
    },
    {
      "cell_type": "code",
      "execution_count": null,
      "metadata": {
        "collapsed": false
      },
      "outputs": [],
      "source": [
        "import numpy as np\nfrom neurodsp.timefrequency import amp_by_time, freq_by_time, phase_by_time\nimport matplotlib.pyplot as plt"
      ]
    },
    {
      "cell_type": "markdown",
      "metadata": {},
      "source": [
        "Load example neural signal\n--------------------------\n\n"
      ]
    },
    {
      "cell_type": "code",
      "execution_count": null,
      "metadata": {
        "collapsed": false
      },
      "outputs": [],
      "source": [
        "sig = np.load('./data/sample_data_1.npy')\nFs = 1000\nt = np.arange(0, len(sig)/Fs, 1/Fs)\nf_range = (13,30)\n\n# Load filtered version of signal\nsig_filt_true = np.load('./data/sample_data_1_filt.npy')\n\n# Plot signal\nplt.figure(figsize=(12,3))\nplt.plot(t, sig, 'k')\nplt.xlim((4,5))\nplt.xlabel('Time (s)')\nplt.ylabel('Voltage (uV)')"
      ]
    },
    {
      "cell_type": "markdown",
      "metadata": {},
      "source": [
        "Compute and plot instantaneous phase\n------------------------------------\n\n"
      ]
    },
    {
      "cell_type": "code",
      "execution_count": null,
      "metadata": {
        "collapsed": false
      },
      "outputs": [],
      "source": [
        "pha = phase_by_time(sig, Fs, f_range)\n\n# Plot example signal\nplt.figure(figsize=(12,4))\nplt.subplot(2,1,1)\nplt.plot(t, sig, 'k')\nplt.xlim((4,5))\nplt.ylabel('Voltage (uV)')\nplt.subplot(2,1,2)\nplt.plot(t, pha, 'k')\nplt.xlim((4,5))\nplt.yticks([-np.pi, 0, np.pi], ['$\\pi$',0,'$\\pi$'])\nplt.xlabel('Time (s)')\nplt.ylabel('Phase (rad)')"
      ]
    },
    {
      "cell_type": "markdown",
      "metadata": {},
      "source": [
        "Compute and plot instantaneous amplitude\n----------------------------------------\n\n"
      ]
    },
    {
      "cell_type": "code",
      "execution_count": null,
      "metadata": {
        "collapsed": false
      },
      "outputs": [],
      "source": [
        "amp = amp_by_time(sig, Fs, f_range)\n\n# Plot example signal\nplt.figure(figsize=(12,4))\nplt.subplot(2,1,1)\nplt.plot(t, sig, 'k', label='raw voltage')\nplt.plot(t, amp, 'r', label='amplitude')\nplt.legend(loc='best')\nplt.xlim((4,5))\nplt.ylabel('Voltage (uV)')\nplt.subplot(2,1,2)\nplt.plot(t, sig_filt_true, 'b', label='beta-filtered voltage')\nplt.plot(t, amp, 'r', label='amplitude')\nplt.legend(loc='best')\nplt.xlim((4,5))\nplt.xlabel('Time (s)')\nplt.ylabel('Voltage (uV)')"
      ]
    },
    {
      "cell_type": "markdown",
      "metadata": {},
      "source": [
        "Compute and plot instantaneous frequency\n----------------------------------------\n\nNote that some people apply median filters to this instantaneous frequency\nestimate in order to make it smoother (see e.g. Samaha & Postle, 2015)\n\n"
      ]
    },
    {
      "cell_type": "code",
      "execution_count": null,
      "metadata": {
        "collapsed": false
      },
      "outputs": [],
      "source": [
        "i_f = freq_by_time(sig, Fs, f_range)\n\n# Plot example signal\nplt.figure(figsize=(12,6))\nplt.subplot(3,1,1)\nplt.plot(t, sig, 'k', label='raw voltage')\nplt.legend(loc='best')\nplt.ylabel('Voltage (uV)')\nplt.xlim((4,5))\nplt.subplot(3,1,2)\nplt.plot(t, sig_filt_true, 'b', label='beta-filtered voltage')\nplt.legend(loc='best')\nplt.ylabel('Voltage (uV)')\nplt.xlim((4,5))\nplt.subplot(3,1,3)\nplt.plot(t, i_f, 'r')\nplt.legend(loc='best')\nplt.xlim((4,5))\nplt.xlabel('Time (s)')\nplt.ylabel('Instantaneous\\nFrequency (Hz)')\nplt.ylim((10,30))"
      ]
    }
  ],
  "metadata": {
    "kernelspec": {
      "display_name": "Python 3",
      "language": "python",
      "name": "python3"
    },
    "language_info": {
      "codemirror_mode": {
        "name": "ipython",
        "version": 3
      },
      "file_extension": ".py",
      "mimetype": "text/x-python",
      "name": "python",
      "nbconvert_exporter": "python",
      "pygments_lexer": "ipython3",
      "version": "3.6.4"
    }
  },
  "nbformat": 4,
  "nbformat_minor": 0
}