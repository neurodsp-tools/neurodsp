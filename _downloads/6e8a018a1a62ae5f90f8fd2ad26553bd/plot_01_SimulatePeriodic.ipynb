{
  "cells": [
    {
      "cell_type": "markdown",
      "metadata": {},
      "source": [
        "\n# Simulating Periodic Signals\n\nSimulate periodic, or oscillatory, signals.\n\nThis tutorial covers the ``neurodsp.sim.periodic`` module.\n"
      ]
    },
    {
      "cell_type": "code",
      "execution_count": null,
      "metadata": {
        "collapsed": false
      },
      "outputs": [],
      "source": [
        "import numpy as np\n\n# Import sim functions\nfrom neurodsp.sim import (sim_oscillation, sim_bursty_oscillation,\n                          sim_variable_oscillation, sim_damped_oscillation)\nfrom neurodsp.utils import set_random_seed\n\n# Import function to compute power spectra\nfrom neurodsp.spectral import compute_spectrum\n\n# Import utilities for plotting data\nfrom neurodsp.utils import create_times\nfrom neurodsp.plts.spectral import plot_power_spectra\nfrom neurodsp.plts.time_series import plot_time_series"
      ]
    },
    {
      "cell_type": "code",
      "execution_count": null,
      "metadata": {
        "collapsed": false
      },
      "outputs": [],
      "source": [
        "# Set the random seed, for consistency simulating data\nset_random_seed(0)\n\n# Set some general settings, to be used across all simulations\nfs = 1000"
      ]
    },
    {
      "cell_type": "markdown",
      "metadata": {},
      "source": [
        "## Simulate a Stationary Oscillation\n\nLet's start by simulating an oscillation. We'll start with a simple, sinusoidal, oscillation.\n\nContinuous periodic signals can be created with :func:`~.sim_oscillation`.\n\n\n"
      ]
    },
    {
      "cell_type": "code",
      "execution_count": null,
      "metadata": {
        "collapsed": false
      },
      "outputs": [],
      "source": [
        "# Simulation settings\nn_seconds = 1\ntimes = create_times(n_seconds, fs)\n\n# Define oscillation frequency\nosc_freq = 6.6\n\n# Simulate a sinusoidal oscillation\nosc_sine = sim_oscillation(n_seconds, fs, osc_freq, cycle='sine')"
      ]
    },
    {
      "cell_type": "code",
      "execution_count": null,
      "metadata": {
        "collapsed": false
      },
      "outputs": [],
      "source": [
        "# Plot the simulated data, in the time domain\nplot_time_series(times, osc_sine)"
      ]
    },
    {
      "cell_type": "markdown",
      "metadata": {},
      "source": [
        "## Cycle Kernels\n\nTo simulate oscillations, we can use a sinusoidal kernel, as above, or any of a\nselection of other cycle kernels.\n\nDifferent kernels represent different shapes and properties that may be useful to\nsimulate different aspects of periodic neural activity.\n\nCycle kernel options include:\n\n- ``sine``: a sine wave cycle\n- ``asine``: an asymmetric sine wave\n- ``sawtooth``: a sawtooth wave\n- ``gaussian``: a gaussian cycle\n- ``skewed_gaussian`` : a skewed gaussian cycle\n- ``exp``: a cycle with exponential decay\n- ``2exp``: a cycle with exponential rise and decay\n- ``exp_cos``: an exponential cosine cycle\n- ``asym_harmonic``: an asymmetric cycle made as a sum of sinusoids\n\nNote that these cycle kernels are all created with the\n:func:`~.sim_cycle` function.\n\n\n"
      ]
    },
    {
      "cell_type": "markdown",
      "metadata": {},
      "source": [
        "## Simulate a Shapely Oscillation\n\nNext let's simulate an asymmetric oscillation, using the `asine` cycle kernel,\nwhich stands for 'asymmetric sinusoidal'.\n\nUsing the `asine` kernel, we can simulate arbitrary rise-decay symmetry of oscillations.\n\nWe'll plot it over our original sinusoidal oscillation, so we can compare them.\n\n\n"
      ]
    },
    {
      "cell_type": "code",
      "execution_count": null,
      "metadata": {
        "collapsed": false
      },
      "outputs": [],
      "source": [
        "# Define settings\nrdsym = 0.2\n\n# Simulate a non-sinusoidal oscillation\nosc_shape = sim_oscillation(n_seconds, fs, osc_freq,\n                            cycle='asine', rdsym=rdsym)"
      ]
    },
    {
      "cell_type": "code",
      "execution_count": null,
      "metadata": {
        "collapsed": false
      },
      "outputs": [],
      "source": [
        "# Plot the simulated data, in the time domain\nplot_time_series(times, [osc_sine, osc_shape],\n                 labels=['rdsym='+str(.5), 'rdsym='+str(rdsym)])"
      ]
    },
    {
      "cell_type": "markdown",
      "metadata": {},
      "source": [
        "We can also compare these signals in the frequency domain.\n\nNotice that the asymmetric oscillation has strong harmonics resulting from the\nnon-sinusoidal nature of the oscillation.\n\n\n"
      ]
    },
    {
      "cell_type": "code",
      "execution_count": null,
      "metadata": {
        "collapsed": false
      },
      "outputs": [],
      "source": [
        "# Plot the simulated data, in the frequency domain\nfreqs_sine, psd_sine = compute_spectrum(osc_sine, fs)\nfreqs_shape, psd_shape = compute_spectrum(osc_shape, fs)\n\nplot_power_spectra([freqs_sine, freqs_shape], [psd_sine, psd_shape])"
      ]
    },
    {
      "cell_type": "markdown",
      "metadata": {},
      "source": [
        "## Simulate a Bursty Oscillation\n\nSometimes we want to study oscillations that come and go, so it can be useful to simulate\noscillations with this property.\n\nBursty oscillations can be simulated with :func:`~.sim_bursty_oscillation`.\n\n### Burst Probability\n\nOne way to control the bursty-ness of the simulated signal, is to control\nthe probability that a burst will start or stop with each new cycle.\n\n\n"
      ]
    },
    {
      "cell_type": "code",
      "execution_count": null,
      "metadata": {
        "collapsed": false
      },
      "outputs": [],
      "source": [
        "# Simulation settings\nn_seconds = 3\ntimes = create_times(n_seconds, fs)\n\n# Define oscillation frequency\nosc_freq = 30\n\n# Burst settings\nenter_burst = 0.1\nleave_burst = 0.1"
      ]
    },
    {
      "cell_type": "code",
      "execution_count": null,
      "metadata": {
        "collapsed": false
      },
      "outputs": [],
      "source": [
        "# Simulate a bursty oscillation\nburst = sim_bursty_oscillation(n_seconds, fs, osc_freq,\n                               enter_burst=enter_burst,\n                               leave_burst=leave_burst)"
      ]
    },
    {
      "cell_type": "code",
      "execution_count": null,
      "metadata": {
        "collapsed": false
      },
      "outputs": [],
      "source": [
        "# Plot the simulated burst signal\nplot_time_series(times, burst, xlim=[0, n_seconds])"
      ]
    },
    {
      "cell_type": "markdown",
      "metadata": {},
      "source": [
        "By updating the burst settings, we can change the overall probability of bursting.\n\nFor example, we can shorten burst duration by increasing the probability to leave bursts.\n\nAlternatively, we can increase the number of bursts by increasing the probability\nto enter a burst.\n\n\n"
      ]
    },
    {
      "cell_type": "code",
      "execution_count": null,
      "metadata": {
        "collapsed": false
      },
      "outputs": [],
      "source": [
        "# Simulate a bursty oscillation, with a higher probability to leave bursts\nshort_burst = sim_bursty_oscillation(n_seconds, fs, osc_freq,\n                                     enter_burst=0.1, leave_burst=0.4)\n\n# Simulate a bursty oscillation, with a higher probability of entering bursts\nmore_bursts = sim_bursty_oscillation(n_seconds, fs, osc_freq,\n                                     enter_burst=0.4, leave_burst=0.1)"
      ]
    },
    {
      "cell_type": "code",
      "execution_count": null,
      "metadata": {
        "collapsed": false
      },
      "outputs": [],
      "source": [
        "# Plot the simulated burst signals\nplot_time_series(times, short_burst, xlim=[0, n_seconds], title='Shorter Burst')"
      ]
    },
    {
      "cell_type": "code",
      "execution_count": null,
      "metadata": {
        "collapsed": false
      },
      "outputs": [],
      "source": [
        "plot_time_series(times, more_bursts, xlim=[0, n_seconds], title='More Bursts')"
      ]
    },
    {
      "cell_type": "markdown",
      "metadata": {},
      "source": [
        "### Burst Durations\n\nAnother way to control the bursty-ness is to define the burst durations.\n\nStill using :func:`~.sim_bursty_oscillation`, rather than defining burst probabilities,\nwe can define the number of cycle within / between bursts.\n\n\n"
      ]
    },
    {
      "cell_type": "code",
      "execution_count": null,
      "metadata": {
        "collapsed": false
      },
      "outputs": [],
      "source": [
        "# Burst settings\nburst_params = dict(n_cycles_burst=3, n_cycles_off=2)"
      ]
    },
    {
      "cell_type": "code",
      "execution_count": null,
      "metadata": {
        "collapsed": false
      },
      "outputs": [],
      "source": [
        "# Simulate a bursty oscillation, defined in terms of durations\nburst = sim_bursty_oscillation(n_seconds, fs, osc_freq, 'durations',\n                               burst_params=burst_params)"
      ]
    },
    {
      "cell_type": "code",
      "execution_count": null,
      "metadata": {
        "collapsed": false
      },
      "outputs": [],
      "source": [
        "# Plot the simulated burst signal\nplot_time_series(times, burst, xlim=[0, n_seconds])"
      ]
    },
    {
      "cell_type": "markdown",
      "metadata": {},
      "source": [
        "## Simulate Variable Oscillations\n\nAnother option is to simulate oscillations that vary in their parameters over time.\n\nTo do this, we can use :func:`~.sim_variable_oscillation`, which allows for defining\nparameters per cycle.\n\n\n"
      ]
    },
    {
      "cell_type": "code",
      "execution_count": null,
      "metadata": {
        "collapsed": false
      },
      "outputs": [],
      "source": [
        "# Define variable frequencies\nfreqs = np.tile([10, 12, 10, 8, 6, 8], 5)"
      ]
    },
    {
      "cell_type": "code",
      "execution_count": null,
      "metadata": {
        "collapsed": false
      },
      "outputs": [],
      "source": [
        "# Simulate variable oscillatory signal\nvariable = sim_variable_oscillation(n_seconds, fs, freqs)"
      ]
    },
    {
      "cell_type": "code",
      "execution_count": null,
      "metadata": {
        "collapsed": false
      },
      "outputs": [],
      "source": [
        "# Plot the simulated variable signal\nplot_time_series(times, variable, xlim=[0, n_seconds])"
      ]
    },
    {
      "cell_type": "markdown",
      "metadata": {},
      "source": [
        "In the above, we defined a variable frequency for a sinusoidal signal.\n\nWe can also define cycle-by-cycle values for other parameters, including for other cycle types.\n\n\n"
      ]
    },
    {
      "cell_type": "code",
      "execution_count": null,
      "metadata": {
        "collapsed": false
      },
      "outputs": [],
      "source": [
        "# Define ranges of frequencies and rise decay symmetries\nfreqs = np.concatenate([np.linspace(5, 14, 10), np.linspace(13, 5, 9)])\nrdsyms = np.concatenate([np.linspace(0, .9, 10), np.linspace(.8, 0, 9)])"
      ]
    },
    {
      "cell_type": "code",
      "execution_count": null,
      "metadata": {
        "collapsed": false
      },
      "outputs": [],
      "source": [
        "# Simulate variable oscillatory signal\nvariable = sim_variable_oscillation(None, fs, freqs, cycle='asine', rdsym=rdsyms)"
      ]
    },
    {
      "cell_type": "code",
      "execution_count": null,
      "metadata": {
        "collapsed": false
      },
      "outputs": [],
      "source": [
        "# Plot the simulated variable signal\ntimes = np.arange(0, len(variable)/fs, 1/fs)\n\nplot_time_series(times, variable)"
      ]
    },
    {
      "cell_type": "markdown",
      "metadata": {},
      "source": [
        "## Simulate Damped Oscillations\n\nWe can also simulated damped oscillations, using :func:`~.sim_damped_oscillation`.\n\n\n"
      ]
    },
    {
      "cell_type": "code",
      "execution_count": null,
      "metadata": {
        "collapsed": false
      },
      "outputs": [],
      "source": [
        "# Reset general simulation settings\nn_seconds = 2.\ntimes = create_times(n_seconds, fs)\n\n# Define oscillation frequency\nosc_freq = 10\n\n# Define dampening parameters\ndamping = 1."
      ]
    },
    {
      "cell_type": "code",
      "execution_count": null,
      "metadata": {
        "collapsed": false
      },
      "outputs": [],
      "source": [
        "# Simulate a damped oscillation\ndamped = sim_damped_oscillation(n_seconds, fs, osc_freq, damping)"
      ]
    },
    {
      "cell_type": "code",
      "execution_count": null,
      "metadata": {
        "collapsed": false
      },
      "outputs": [],
      "source": [
        "# Plot the simulated damped oscillation\nplot_time_series(times, damped, xlim=[0, n_seconds])"
      ]
    }
  ],
  "metadata": {
    "kernelspec": {
      "display_name": "Python 3",
      "language": "python",
      "name": "python3"
    },
    "language_info": {
      "codemirror_mode": {
        "name": "ipython",
        "version": 3
      },
      "file_extension": ".py",
      "mimetype": "text/x-python",
      "name": "python",
      "nbconvert_exporter": "python",
      "pygments_lexer": "ipython3",
      "version": "3.8.3"
    }
  },
  "nbformat": 4,
  "nbformat_minor": 0
}