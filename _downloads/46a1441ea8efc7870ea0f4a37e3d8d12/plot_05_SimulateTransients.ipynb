{
  "cells": [
    {
      "cell_type": "markdown",
      "metadata": {},
      "source": [
        "\n# Simulating Cycles & Transients\n\nSimulating cycles and transient events.\n\nThis tutorial covers ``neurodsp.sim.cycles`` and ``neurodsp.sim.transients``.\n"
      ]
    },
    {
      "cell_type": "code",
      "execution_count": null,
      "metadata": {
        "collapsed": false
      },
      "outputs": [],
      "source": [
        "# Import utilities for simulations & plotting\nfrom neurodsp.utils import set_random_seed\nfrom neurodsp.plts import plot_time_series\n\n# Import cycles\nfrom neurodsp.sim.cycles import sim_cycle\n\n# Import transients\nfrom neurodsp.sim.transients import sim_damped_erp, sim_synaptic_kernel, sim_action_potential"
      ]
    },
    {
      "cell_type": "code",
      "execution_count": null,
      "metadata": {
        "collapsed": false
      },
      "outputs": [],
      "source": [
        "# Set the random seed, for consistency simulating data\nset_random_seed(0)\n\n# Set some general simulation settings\nfs = 1000"
      ]
    },
    {
      "cell_type": "markdown",
      "metadata": {},
      "source": [
        "## Simulating Cycles\n\nNeuroDSP contains a collection of cycles that can be simulated.\n\nThe :func:`~.sim_cycle` function can be used to simulate individual cycles.\n\nThis function takes in a label for the type of cycle to simulate, as well as any\nsettings for this cycle type.\n\nAvailable cycles include:\n\n- sine: a sine wave cycle\n- asine: an asymmetric sine cycle\n- sawtooth: a sawtooth cycle\n- gaussian: a gaussian cycle\n- skewed_gaussian: a skewed gaussian cycle\n- exp: a cycle with exponential decay\n- 2exp: a cycle with exponential rise and decay\n- exp_cos: an exponential cosine cycle\n- asym_harmonic: an asymmetric cycle made as a sum of harmonics\n\nNote that each of these cycles also have their own function, each\nlabeled as `sim_{LABEL}_cycle`.\n\nNote that these cycles are the same as are available to simulate periodic signals.\n\n"
      ]
    },
    {
      "cell_type": "code",
      "execution_count": null,
      "metadata": {
        "collapsed": false
      },
      "outputs": [],
      "source": [
        "# Settings\nn_seconds = 0.1\n\n# Simulate cycle\ncycle = sim_cycle(n_seconds, fs, 'sine')"
      ]
    },
    {
      "cell_type": "code",
      "execution_count": null,
      "metadata": {
        "collapsed": false
      },
      "outputs": [],
      "source": [
        "# Plot simulated cycle\nplot_time_series(None, cycle, figsize=(5, 3))"
      ]
    },
    {
      "cell_type": "code",
      "execution_count": null,
      "metadata": {
        "collapsed": false
      },
      "outputs": [],
      "source": [
        "# Simulate a cycle with a phase shift\ncycle = sim_cycle(n_seconds, fs, 'sine', phase=0.5)\n\n# Plot simulated cycle\nplot_time_series(None, cycle, figsize=(5, 3))"
      ]
    },
    {
      "cell_type": "code",
      "execution_count": null,
      "metadata": {
        "collapsed": false
      },
      "outputs": [],
      "source": [
        "# Simulate a sawtooth cycle\ncycle = sim_cycle(0.25, fs, 'sawtooth', width=0.25)\n\n# Plot simulated cycle\nplot_time_series(None, cycle, figsize=(5, 3))"
      ]
    },
    {
      "cell_type": "markdown",
      "metadata": {},
      "source": [
        "## Simulating ERPs\n\nEvent-related potentials (ERPs) are transient events commonly seen in neural data.\n\nCurrently, ERPs can be simulated with the :func:`~.sim_dampled_erp` function,\nwhich simulates a simplified ERP complex as an exponentially decaying sine wave.\n\nThis function takes in settings that define the amplitude and frequency of the sine\nwave, as well as a damping parameter.\n\n\n"
      ]
    },
    {
      "cell_type": "code",
      "execution_count": null,
      "metadata": {
        "collapsed": false
      },
      "outputs": [],
      "source": [
        "# Reset general settings\nn_seconds = 0.5\n\n# ERP settings\namp = 1\nfreq = 7\ndecay = 0.05"
      ]
    },
    {
      "cell_type": "code",
      "execution_count": null,
      "metadata": {
        "collapsed": false
      },
      "outputs": [],
      "source": [
        "# Simulate ERP\nerp = sim_damped_erp(n_seconds, fs, amp, freq, decay)"
      ]
    },
    {
      "cell_type": "code",
      "execution_count": null,
      "metadata": {
        "collapsed": false
      },
      "outputs": [],
      "source": [
        "# Plot the simulated ERP\nplot_time_series(None, erp, figsize=(5, 3))"
      ]
    },
    {
      "cell_type": "markdown",
      "metadata": {},
      "source": [
        "## Simulate Synaptic Kernels\n\nThe :func:`~.sim_synaptic_kernel` function can be used to simulate synaptic kernels.\n\nThis function works by taking in rise and decay time constants.\n\n\n"
      ]
    },
    {
      "cell_type": "code",
      "execution_count": null,
      "metadata": {
        "collapsed": false
      },
      "outputs": [],
      "source": [
        "# Reset general settings\nn_seconds = 2.5\n\n# Kernel settings\ntau_r = 0.15\ntau_d = 0.15"
      ]
    },
    {
      "cell_type": "code",
      "execution_count": null,
      "metadata": {
        "collapsed": false
      },
      "outputs": [],
      "source": [
        "# Simulate synaptic kernel\nkernel = sim_synaptic_kernel(n_seconds, fs, tau_r=0.25, tau_d=0.25)"
      ]
    },
    {
      "cell_type": "code",
      "execution_count": null,
      "metadata": {
        "collapsed": false
      },
      "outputs": [],
      "source": [
        "# Plot the simulated synaptic kernel\nplot_time_series(None, kernel, figsize=(4, 3))"
      ]
    },
    {
      "cell_type": "markdown",
      "metadata": {},
      "source": [
        "## Simulating Action Potentials\n\nThere is also the :func:`~.sim_action_potential` function for simulating action potentials.\n\nThis function simulates an action potential as a sum of skewed Gaussians.\n\nTo create an action potential with this function, define the settings for the\ncomponent skewed Gaussians.\n\n\n"
      ]
    },
    {
      "cell_type": "code",
      "execution_count": null,
      "metadata": {
        "collapsed": false
      },
      "outputs": [],
      "source": [
        "# Reset general settings\nn_seconds = 0.01\nfs = 30000\n\n# Define settings for simulating an action potential\ncenters = (.35, .45, .6)\nstds = (.1, .1, .1)\nalphas = (-1, 0, 1)\nheights = (1.5, -5, 0.5)"
      ]
    },
    {
      "cell_type": "code",
      "execution_count": null,
      "metadata": {
        "collapsed": false
      },
      "outputs": [],
      "source": [
        "# Simulate an action potential\nap = sim_action_potential(n_seconds, fs, centers, stds, alphas, heights)"
      ]
    },
    {
      "cell_type": "code",
      "execution_count": null,
      "metadata": {
        "collapsed": false
      },
      "outputs": [],
      "source": [
        "# Plot simulated action potential\nplot_time_series(None, ap, figsize=(5, 3))"
      ]
    }
  ],
  "metadata": {
    "kernelspec": {
      "display_name": "Python 3",
      "language": "python",
      "name": "python3"
    },
    "language_info": {
      "codemirror_mode": {
        "name": "ipython",
        "version": 3
      },
      "file_extension": ".py",
      "mimetype": "text/x-python",
      "name": "python",
      "nbconvert_exporter": "python",
      "pygments_lexer": "ipython3",
      "version": "3.8.3"
    }
  },
  "nbformat": 4,
  "nbformat_minor": 0
}