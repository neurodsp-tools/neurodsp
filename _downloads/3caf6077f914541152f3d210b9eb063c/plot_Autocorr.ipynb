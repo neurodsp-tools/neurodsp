{
  "cells": [
    {
      "cell_type": "markdown",
      "metadata": {},
      "source": [
        "\n# Autocorrelation Measures\n\nApply autocorrelation measures to neural signals.\n\nAutocorrelation is the correlation of a signal with delayed copies of itself.\nAutocorrelation measures can be useful to investigate properties of neural signals.\n\nThis tutorial covers ``neurodsp.aperiodic.autocorr``.\n"
      ]
    },
    {
      "cell_type": "code",
      "execution_count": null,
      "metadata": {
        "collapsed": false
      },
      "outputs": [],
      "source": [
        "import numpy as np\nimport matplotlib.pyplot as plt\n\nfrom neurodsp.sim import sim_powerlaw, sim_oscillation\n\n# Import the function for computing autocorrelation\nfrom neurodsp.aperiodic import compute_autocorr"
      ]
    },
    {
      "cell_type": "markdown",
      "metadata": {},
      "source": [
        "## Autocorrelation Measures\n\nAutocorrelation is computed as the correlation between the original signal and delayed\ncopies, across different lags.\n\nThe result is a measure of how correlated a signal is to itself, across time,\nand the timescale of autocorrelation.\n\n### Algorithm Settings\n\nSettings for computing autocorrelation are:\n\n- `max_lag` : the maximum lag to compute autocorrelation for\n- `lag_step` : the step size to advance across when computing autocorrelation\n\nBoth parameters are defined in samples, with defaults of using a step size of 1 sample,\nstepping up to a maximum lag of 1000 samples.\n\nAutocorrelation can be computed with :func:`~.compute_autocorr` function, which\nreturns `timepoints` at which autocorrelation was calculated, and `autocorrs`, which are\nthe resulting correlation coefficients.\n\n\n"
      ]
    },
    {
      "cell_type": "markdown",
      "metadata": {},
      "source": [
        "## Autocorrelation of Periodic Signals\n\nFirst, let's examine periodic signals, specifically sine waves.\n\nNote that periodic signals are by definition rhythmic. This means that we should expect\nthe autocorrelation to also have a rhythmic pattern across time.\n\nImagine, for example, moving one sine wave across another. At some points, when they are\nin phase, they will line up exactly (have a high correlation), while at others, when they\nare out of phase, they will have either low or anti-correlation.\n\n\n"
      ]
    },
    {
      "cell_type": "code",
      "execution_count": null,
      "metadata": {
        "collapsed": false
      },
      "outputs": [],
      "source": [
        "# Simulation settings\nn_seconds = 10\nfs = 1000\n\n# Define the frequencies for the sinusoids\nfreq1 = 10\nfreq2 = 20\n\n# Simulate sinusoids\nsig_osc1 = sim_oscillation(n_seconds, fs, freq1)\nsig_osc2 = sim_oscillation(n_seconds, fs, freq2)"
      ]
    },
    {
      "cell_type": "code",
      "execution_count": null,
      "metadata": {
        "collapsed": false
      },
      "outputs": [],
      "source": [
        "# Compute autocorrelation on the periodic time series\ntimepoints_osc1, autocorrs_osc1 = compute_autocorr(sig_osc1)\ntimepoints_osc2, autocorrs_osc2 = compute_autocorr(sig_osc2)"
      ]
    },
    {
      "cell_type": "markdown",
      "metadata": {},
      "source": [
        "### Autocorrelation of a sinusoidal signal\n\nThe autocorrelation of the first sine wave is plotted below.\n\n\n"
      ]
    },
    {
      "cell_type": "code",
      "execution_count": null,
      "metadata": {
        "collapsed": false
      },
      "outputs": [],
      "source": [
        "# Plot autocorrelations\n_, ax = plt.subplots(figsize=(6, 4))\nax.plot(timepoints_osc1, autocorrs_osc1)\nax.set(xlabel='lag (samples)', ylabel='autocorrelation');"
      ]
    },
    {
      "cell_type": "markdown",
      "metadata": {},
      "source": [
        "As we can see, the autocorrelation of a sinusoid is itself a sinusoid!\n\nThis reflects that a sinusoid related to itself will oscillate between being\npositively and negatively correlated with itself.\n\nNext, let's compare the autocorrelation of different sinusoids.\n\n\n"
      ]
    },
    {
      "cell_type": "code",
      "execution_count": null,
      "metadata": {
        "collapsed": false
      },
      "outputs": [],
      "source": [
        "# Plot autocorrelations for two different sinusoids\n_, ax = plt.subplots(figsize=(6, 4))\nax.plot(timepoints_osc1, autocorrs_osc1, alpha=0.75, label='10 Hz')\nax.plot(timepoints_osc2, autocorrs_osc2, alpha=0.75, label='20 Hz')\nax.set(xlabel='lag (samples)', ylabel='autocorrelation')\nplt.legend(loc='upper right')"
      ]
    },
    {
      "cell_type": "markdown",
      "metadata": {},
      "source": [
        "In the above, we can see that the autocorrelation of sinusoids with different frequencies\nleads to autocorrelation results with different timescales.\n\nIf you compare to the number of samples on the x-axis, keeping in mind the sampling\nrate (1000 Hz), you can check that the autocorrelation of a sinusoidal signal is\na sinusoid of the same frequency.\n\n\n"
      ]
    },
    {
      "cell_type": "markdown",
      "metadata": {},
      "source": [
        "## Autocorrelation of Aperiodic Signals\n\nNext, lets consider the autocorrelation of aperiodic signals.\n\nHere we will use white noise, as an example of a signal without autocorrelation, and\npink noise, which does, by definition, have temporal auto-correlations.\n\n\n"
      ]
    },
    {
      "cell_type": "code",
      "execution_count": null,
      "metadata": {
        "collapsed": false
      },
      "outputs": [],
      "source": [
        "# Simulate a white noise signal\nsig_wn = sim_powerlaw(n_seconds, fs, exponent=0)\n\n# Simulate a pink noise signal\nsig_pn = sim_powerlaw(n_seconds, fs, exponent=-1)"
      ]
    },
    {
      "cell_type": "code",
      "execution_count": null,
      "metadata": {
        "collapsed": false
      },
      "outputs": [],
      "source": [
        "# Compute autocorrelation on the aperiodic time series\ntimepoints_wn, autocorrs_wn = compute_autocorr(sig_wn)\ntimepoints_pn, autocorrs_pn = compute_autocorr(sig_pn)"
      ]
    },
    {
      "cell_type": "code",
      "execution_count": null,
      "metadata": {
        "collapsed": false
      },
      "outputs": [],
      "source": [
        "# Plot the autocorrelations of the aperiodic signals\n_, ax = plt.subplots(figsize=(5, 4))\nax.plot(timepoints_wn, autocorrs_wn, label='White Noise')\nax.plot(timepoints_pn, autocorrs_pn, label='Pink Noise')\nax.set(xlabel=\"lag (samples)\", ylabel=\"autocorrelation\")\nplt.legend()"
      ]
    },
    {
      "cell_type": "markdown",
      "metadata": {},
      "source": [
        "In the above, we can see that for white noise, the autocorrelation is only high at\na lag of 0 samples, with all other lags being uncorrelated.\n\nBy comparison, the pink noise signal has a pattern of decreasing autocorrelation\nacross increasing lags. This is characteristic of powerlaw data.\n\n"
      ]
    }
  ],
  "metadata": {
    "kernelspec": {
      "display_name": "Python 3",
      "language": "python",
      "name": "python3"
    },
    "language_info": {
      "codemirror_mode": {
        "name": "ipython",
        "version": 3
      },
      "file_extension": ".py",
      "mimetype": "text/x-python",
      "name": "python",
      "nbconvert_exporter": "python",
      "pygments_lexer": "ipython3",
      "version": "3.8.12"
    }
  },
  "nbformat": 4,
  "nbformat_minor": 0
}