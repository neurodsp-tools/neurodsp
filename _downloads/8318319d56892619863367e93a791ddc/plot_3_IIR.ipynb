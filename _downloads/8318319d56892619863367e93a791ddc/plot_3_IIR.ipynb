{
  "cells": [
    {
      "cell_type": "markdown",
      "metadata": {},
      "source": [
        "\n# IIR Filters\n\nDesign, apply, and evaluate IIR Filters.\n\nThis tutorial covers the design and application of Infinite Impulse Response (IIR) filters,\navailable in ``neurodsp.filt.iir``.\n"
      ]
    },
    {
      "cell_type": "code",
      "execution_count": null,
      "metadata": {
        "collapsed": false
      },
      "outputs": [],
      "source": [
        "# Import functions for simulating test data\nfrom neurodsp.sim import sim_combined\nfrom neurodsp.utils import set_random_seed, create_times\n\n# Import functions for IIR filtering\nfrom neurodsp.filt import filter_signal\nfrom neurodsp.filt.iir import design_iir_filter, apply_iir_filter\nfrom neurodsp.filt.utils import compute_frequency_response, compute_transition_band\n\n# Import plotting functions\nfrom neurodsp.plts import plot_frequency_response, plot_time_series"
      ]
    },
    {
      "cell_type": "markdown",
      "metadata": {},
      "source": [
        "## IIR Filters\n\nInfinite impulse response filters are filters for which the response to a single impulse\nis infinite. These filters are sometimes useful due to their efficiency.\n\nIIR filters have an impulse response that is dependent on past values of the impulse\nand impulse response (i.e. recursion or feedback), producing a response that is never zero.\nBecause to this, the IIR filters are not typically applied using convolution.\n\nThe math introduced in the FIR tutorial may be extended to IIR filters, with a\nsecond expression representing feedback:\n\n\\begin{align}y(n) = \\sum_{k=0}^M b_k x(n-k) - \\sum_{k=1}^N a_k y(n-k)\\end{align}\n\n\\begin{align}H(z) = \\frac{\\sum_{k=0}^M b_k z^{-k}}{\\sum_{k=1}^N a_k z^{-k}}\\end{align}\n\nThe IIR filters available in NeuroDSP are Butterworth digital filters, applied using cascaded\nsecond-order sections (SOS), all of which is used from the scipy implementations.\nFor more information on the specifics of these filters, see the scipy documentation.\n\n\n"
      ]
    },
    {
      "cell_type": "markdown",
      "metadata": {},
      "source": [
        "Simulate an example signal to use for this example.\n\n\n"
      ]
    },
    {
      "cell_type": "code",
      "execution_count": null,
      "metadata": {
        "collapsed": false
      },
      "outputs": [],
      "source": [
        "# Set the random seed, for consistency simulating data\nset_random_seed(0)\n\n# Define settings for simulating time series\nn_seconds = 1\nfs = 1000\ncomponents = {'sim_powerlaw' : {'exponent' : 0},\n              'sim_oscillation' : {'freq' : 10}}\nvariances = [0.1, 1]\n\n# Simulate time series, and create associated time definition\ntimes = create_times(n_seconds, fs)\nsig = sim_combined(n_seconds, fs, components, variances)"
      ]
    },
    {
      "cell_type": "markdown",
      "metadata": {},
      "source": [
        "## Design\n\nNeurodsp supports Butterworth IIR filter, which we can design with\nthe :func:`~.design_iir_filter` function.\n\nTo create a Butterworth IIR filter, we need to specify the passband and the frequency range.\n\nWe also need to set the filter order, which controls how smooth (low orders) or steep\n(high orders) the roll-off of the transition band is.\n\n\n"
      ]
    },
    {
      "cell_type": "code",
      "execution_count": null,
      "metadata": {
        "collapsed": false
      },
      "outputs": [],
      "source": [
        "# Define filter settings\npass_type = 'bandpass'\nf_range = (1, 50)\nbutterworth_order = 12\n\n# Design the filter, getting the second-order series (sos) values for the filter\nsos = design_iir_filter(fs, pass_type, f_range, butterworth_order)"
      ]
    },
    {
      "cell_type": "markdown",
      "metadata": {},
      "source": [
        "Now that we have our filter definition, we can evaluate our filter.\n\nNext, we can calculate the frequency response, $b_k$, for our IIR filter.\n\n\n"
      ]
    },
    {
      "cell_type": "code",
      "execution_count": null,
      "metadata": {
        "collapsed": false
      },
      "outputs": [],
      "source": [
        "# Compute the frequency response for the IIR filter\nf_db, db = compute_frequency_response(sos, None, fs)\n\n# Plot the frequency response\nplot_frequency_response(f_db, db)"
      ]
    },
    {
      "cell_type": "markdown",
      "metadata": {},
      "source": [
        "Above, we can see our frequency response of our filter, which shows us how different\nfrequencies are affected by our filter. Ideally, we want zero attenuation in our passband,\nand a lot of attenuation in the stopband(s).\n\nAnother way to quantify these properties is the transition band, which is bandwidth (in Hz)\nthat it takes for the filter to change from high to low attenuation. This quantifies how\nsharp the transition is between stopband and passband. By default, transition bands are computed\nas the range between -20 dB and -3 dB attenuation, but you can also customize these values.\n\n\n"
      ]
    },
    {
      "cell_type": "code",
      "execution_count": null,
      "metadata": {
        "collapsed": false
      },
      "outputs": [],
      "source": [
        "# Compute the transition band of the filter\nt_band = compute_transition_band(f_db, db)\n\n# Print the transition band\nprint('Transition band: {:4.2f}'.format(t_band))"
      ]
    },
    {
      "cell_type": "markdown",
      "metadata": {},
      "source": [
        "In the above, we have designed and evaluated an IIR filter. Note that the properties of the\nfilter will depend on the passband and cutoff frequencies, and especially the filter order.\n\nYou can explore changing these settings to see how they impact the filter properties.\n\n\n"
      ]
    },
    {
      "cell_type": "markdown",
      "metadata": {},
      "source": [
        "## Apply\n\nThe filter we previously designed may now be applied to a signal, which can be done with\nthe :func:`~.apply_iir_filter` function.\n\n\n"
      ]
    },
    {
      "cell_type": "code",
      "execution_count": null,
      "metadata": {
        "collapsed": false
      },
      "outputs": [],
      "source": [
        "# Apply the filter to our signal\nsig_filt = apply_iir_filter(sig, sos)\n\n# Plot the filtered and original time series\nplot_time_series(times, [sig, sig_filt], ['Raw', 'Filtered'])"
      ]
    },
    {
      "cell_type": "markdown",
      "metadata": {},
      "source": [
        "In the above, we can see both the original signal, and the filtered version.\n\nNote that inspecting the filtered signal together with the original signal is recommended.\n\n\n"
      ]
    },
    {
      "cell_type": "markdown",
      "metadata": {},
      "source": [
        "### Using filter_signal\n\nIn the above, we did a step-by-step procedure of designing, evaluating, and applying our filter.\n\nNote that all of these elements can also be done directly through the\n:func:`~.filter_signal` function.\n\n\n"
      ]
    },
    {
      "cell_type": "code",
      "execution_count": null,
      "metadata": {
        "collapsed": false
      },
      "outputs": [],
      "source": [
        "sig_filt, sos = filter_signal(sig, fs, pass_type, f_range,\n                              filter_type='iir', butterworth_order=butterworth_order,\n                              plot_properties=True, print_transitions=True,\n                              return_filter=True)"
      ]
    },
    {
      "cell_type": "markdown",
      "metadata": {},
      "source": [
        "## Example Application: Line Noise Removal\n\nA common application of IIR filters is for line noise removal.\n\nIn this example, a 3rd order Butterworth filter is applied to remove 60Hz noise.\n\n\n"
      ]
    },
    {
      "cell_type": "code",
      "execution_count": null,
      "metadata": {
        "collapsed": false
      },
      "outputs": [],
      "source": [
        "# Generate a signal, with a low frequency oscillation and 60 Hz line noise\ncomponents = {'sim_oscillation' : [{'freq' : 6}, {'freq' : 60}]}\nvariances = [1, 0.2]\nsig = sim_combined(n_seconds, fs, components, variances)"
      ]
    },
    {
      "cell_type": "code",
      "execution_count": null,
      "metadata": {
        "collapsed": false
      },
      "outputs": [],
      "source": [
        "# Filter settings\nf_range = (58, 62)\norder = 3\n\n# Bandstop filter the data to remove line noise\nsig_filt = filter_signal(sig, fs, 'bandstop', f_range,\n                         filter_type='iir', butterworth_order=3)"
      ]
    },
    {
      "cell_type": "code",
      "execution_count": null,
      "metadata": {
        "collapsed": false
      },
      "outputs": [],
      "source": [
        "# Plot filtered signal\nplot_time_series(times, [sig, sig_filt], ['Raw', 'Filtered'])"
      ]
    },
    {
      "cell_type": "markdown",
      "metadata": {},
      "source": [
        "One thing you might notice in the plot above is that there are edge artifacts. The data\npoints at the edge of the signal don't appear to the fully filtered, and some of the high\nfrequency activity remains. This is because data points at the edge of a signal do not\nget fully processed by the filter.\n\nNote that, different from FIR filters, with IIR filters there is no simple way to remove\nthese edges, since, due to the recursion of IIR filters, we can't as easily define the\nextent of the edge effect. Because of this, edges are not automatically excluded, but as\nwe can see edge effects can still be present, and may need to be considered.\n\n\n"
      ]
    }
  ],
  "metadata": {
    "kernelspec": {
      "display_name": "Python 3",
      "language": "python",
      "name": "python3"
    },
    "language_info": {
      "codemirror_mode": {
        "name": "ipython",
        "version": 3
      },
      "file_extension": ".py",
      "mimetype": "text/x-python",
      "name": "python",
      "nbconvert_exporter": "python",
      "pygments_lexer": "ipython3",
      "version": "3.8.12"
    }
  },
  "nbformat": 4,
  "nbformat_minor": 0
}