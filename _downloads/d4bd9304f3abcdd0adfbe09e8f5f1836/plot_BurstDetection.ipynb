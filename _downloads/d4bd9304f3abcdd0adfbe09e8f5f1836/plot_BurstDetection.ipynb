{
  "cells": [
    {
      "cell_type": "markdown",
      "metadata": {},
      "source": [
        "\n# Burst Detection\n\nAnalyze neural signals for bursts of oscillations of interest.\n\nThis tutorial primarily covers the ``neurodsp.burst`` module.\n"
      ]
    },
    {
      "cell_type": "code",
      "execution_count": null,
      "metadata": {
        "collapsed": false
      },
      "outputs": [],
      "source": [
        "# Import burst detection functions\nfrom neurodsp.burst import detect_bursts_dual_threshold, compute_burst_stats\n\n# Import simulation code for creating test data\nfrom neurodsp.sim import sim_combined\nfrom neurodsp.utils import set_random_seed, create_times\n\n# Import utilities for loading and plotting data\nfrom neurodsp.utils.download import load_ndsp_data\nfrom neurodsp.plts.time_series import plot_time_series, plot_bursts"
      ]
    },
    {
      "cell_type": "code",
      "execution_count": null,
      "metadata": {
        "collapsed": false
      },
      "outputs": [],
      "source": [
        "# Set the random seed, for consistency simulating data\nset_random_seed(0)"
      ]
    },
    {
      "cell_type": "markdown",
      "metadata": {},
      "source": [
        "## Simulate a Bursty Oscillation\n\nFirst, we'll simulate a combined signal with a bursty oscillation in the alpha range,\nwith an aperiodic component.\n\n\n"
      ]
    },
    {
      "cell_type": "code",
      "execution_count": null,
      "metadata": {
        "collapsed": false
      },
      "outputs": [],
      "source": [
        "# Simulation settings\nfs = 1000\nn_seconds = 5\n\n# Define simulation components\ncomponents = {'sim_synaptic_current' : {'n_neurons':1000, 'firing_rate':2,\n                                        't_ker':1.0, 'tau_r':0.002, 'tau_d':0.02},\n              'sim_bursty_oscillation' : {'freq' : 10, 'enter_burst' : .2, 'leave_burst' : .2}}\n\n# Simulate a signal with a bursty oscillation with an aperiodic component & a time vector\nsig = sim_combined(n_seconds, fs, components)\ntimes = create_times(n_seconds, fs)"
      ]
    },
    {
      "cell_type": "code",
      "execution_count": null,
      "metadata": {
        "collapsed": false
      },
      "outputs": [],
      "source": [
        "# Plot the simulated data\nplot_time_series(times, sig, 'Simulated EEG')"
      ]
    },
    {
      "cell_type": "markdown",
      "metadata": {},
      "source": [
        "In the simulated signal above, we can see some bursty 10 Hz oscillations.\n\n\n"
      ]
    },
    {
      "cell_type": "markdown",
      "metadata": {},
      "source": [
        "## Dual Amplitude Threshold Algorithm\n\nFirst, let's use the dual-amplitude threshold algorithm for burst detection, which\nwe can use with the :func:`~.detect_bursts_dual_threshold` function.\n\nThis algorithm first computes the amplitude at each point in time for a given\nfrequency range. This amplitude is then normalized by the average (default: median)\namplitude of the whole time series. Two thresholds are defined based off of this\nnormalized amplitude. In order for a burst to be detected, the amplitude must cross\nthe higher amplitude threshold. The burst lasts until the amplitude then falls below\nthe lower amplitude threshold.\n\n**Other Parameters**\n\n- `avg_type`: used to set the average for normalization to either 'median' or 'mean'\n- `magnitude_type`: used to set the metric for thresholding, to 'amplitude' or 'power'\n\n\n"
      ]
    },
    {
      "cell_type": "code",
      "execution_count": null,
      "metadata": {
        "collapsed": false
      },
      "outputs": [],
      "source": [
        "# Settings for the dual threshold algorithm\namp_dual_thresh = (1, 2)\nf_range = (8, 12)\n\n# Detect bursts using dual threshold algorithm\nbursting = detect_bursts_dual_threshold(sig, fs, amp_dual_thresh, f_range)"
      ]
    },
    {
      "cell_type": "markdown",
      "metadata": {},
      "source": [
        "You can plot detected bursts using :func:`~.plot_bursts`.\n\n\n"
      ]
    },
    {
      "cell_type": "code",
      "execution_count": null,
      "metadata": {
        "collapsed": false
      },
      "outputs": [],
      "source": [
        "# Plot original signal and burst activity\nplot_bursts(times, sig, bursting, labels=['Simulated EEG', 'Detected Burst'])"
      ]
    },
    {
      "cell_type": "markdown",
      "metadata": {},
      "source": [
        "The graph above shows the bursting activity in red.\n\nThe algorithm was used with thresh=(1, 2), so any time point with more than 3 times the\nmedian magnitude in the alpha range (8-12 Hz) was marked as bursting activity.\n\n\n"
      ]
    },
    {
      "cell_type": "markdown",
      "metadata": {},
      "source": [
        "### Checking Burst Statistics\n\nOnce you have detected bursts, you can calculate some statistics on those bursts with\n:func:`~.detect_bursts_dual_threshold`.\n\n\n"
      ]
    },
    {
      "cell_type": "code",
      "execution_count": null,
      "metadata": {
        "collapsed": false
      },
      "outputs": [],
      "source": [
        "# Compute burst statistics\nburst_stats = compute_burst_stats(bursting, fs)\n\n# Print out burst statistic information\nfor key, val in burst_stats.items():\n    print('{:15} \\t: {}'.format(key, val))"
      ]
    },
    {
      "cell_type": "markdown",
      "metadata": {},
      "source": [
        "## Burst Detection on Real Data\n\nNext up, we'll load a sample of real neural data, and try out the burst detection.\n\n\n"
      ]
    },
    {
      "cell_type": "code",
      "execution_count": null,
      "metadata": {
        "collapsed": false
      },
      "outputs": [],
      "source": [
        "# Download, if needed, and load example data file\nsig = load_ndsp_data('sample_data_1.npy', folder='data')\n\n# Set sampling rate, and create a times vector for plotting\nfs = 1000\ntimes = create_times(len(sig)/fs, fs)"
      ]
    },
    {
      "cell_type": "code",
      "execution_count": null,
      "metadata": {
        "collapsed": false
      },
      "outputs": [],
      "source": [
        "# Set the frequency range to look for bursts\nf_range = (8, 12)\n\n# Detect bursts using the dual threshold algorithm\nbursting = detect_bursts_dual_threshold(sig, fs, (3, 3), f_range)"
      ]
    },
    {
      "cell_type": "code",
      "execution_count": null,
      "metadata": {
        "collapsed": false
      },
      "outputs": [],
      "source": [
        "# Plot original signal and burst activity\nplot_bursts(times, sig, bursting, labels=['Data', 'Detected Burst'])"
      ]
    },
    {
      "cell_type": "markdown",
      "metadata": {},
      "source": [
        "No bursts were detected! There could be a number of reasons for this.\nOne of the easy things to do is to adjust the parameters for burst detection.\n\nLet's try making the thresholds lower.\n\n\n"
      ]
    },
    {
      "cell_type": "code",
      "execution_count": null,
      "metadata": {
        "collapsed": false
      },
      "outputs": [],
      "source": [
        "# Detect bursts using dual threshold algorithm\nbursting = detect_bursts_dual_threshold(sig, fs, (1, 2), f_range)\n\n# Plot original signal and burst activity\nplot_bursts(times, sig, bursting, labels=['Data', 'Detected Burst'])"
      ]
    },
    {
      "cell_type": "markdown",
      "metadata": {},
      "source": [
        "Better, but not very good. Note the undetected cycles just before 9s.\n\nThere's another serious issue: we're looking for alpha bursts,\nbut the bursts in this data are *beta* bursts.\n\n\n"
      ]
    },
    {
      "cell_type": "code",
      "execution_count": null,
      "metadata": {
        "collapsed": false
      },
      "outputs": [],
      "source": [
        "# Detect bursts\nbursting = detect_bursts_dual_threshold(sig, fs, (1, 2), (13, 30))\n\n# Plot original signal and burst activity\nplot_bursts(times, sig, bursting, labels=['Data', 'Detected Burst'])"
      ]
    },
    {
      "cell_type": "markdown",
      "metadata": {},
      "source": [
        "Much better! This just goes to show that burst detection is an art that\nrequires some knowledge of the data you're working with.\n\nFinally, we can again check our burst statistics.\n\n\n"
      ]
    },
    {
      "cell_type": "code",
      "execution_count": null,
      "metadata": {
        "collapsed": false
      },
      "outputs": [],
      "source": [
        "# Compute burst statistics\nburst_stats = compute_burst_stats(bursting, fs)\n\n# Print out burst statistic information\nfor key, val in burst_stats.items():\n    print('{:15} \\t: {}'.format(key, val))"
      ]
    }
  ],
  "metadata": {
    "kernelspec": {
      "display_name": "Python 3",
      "language": "python",
      "name": "python3"
    },
    "language_info": {
      "codemirror_mode": {
        "name": "ipython",
        "version": 3
      },
      "file_extension": ".py",
      "mimetype": "text/x-python",
      "name": "python",
      "nbconvert_exporter": "python",
      "pygments_lexer": "ipython3",
      "version": "3.8.3"
    }
  },
  "nbformat": 4,
  "nbformat_minor": 0
}