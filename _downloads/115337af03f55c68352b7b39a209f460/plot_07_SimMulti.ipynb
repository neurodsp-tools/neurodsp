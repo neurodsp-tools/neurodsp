{
  "cells": [
    {
      "cell_type": "markdown",
      "metadata": {},
      "source": [
        "\n# Simulating Multiple Signals\n\nSimulate multiple signals together.\n"
      ]
    },
    {
      "cell_type": "code",
      "execution_count": null,
      "metadata": {
        "collapsed": false
      },
      "outputs": [],
      "source": [
        "from neurodsp.sim.update import SigIter\nfrom neurodsp.sim.aperiodic import sim_powerlaw\nfrom neurodsp.sim.multi import (sim_multiple, sim_from_sampler,\n                                sim_across_values, sim_multi_across_values)\nfrom neurodsp.sim.update import create_updater, create_sampler, ParamSampler\nfrom neurodsp.plts.time_series import plot_time_series, plot_multi_time_series\nfrom neurodsp.utils.data import create_times"
      ]
    },
    {
      "cell_type": "markdown",
      "metadata": {},
      "source": [
        "## Simulate Multiple Signals Together\n\nThe :func:`~.sim_multiple` function can be used to simulate multiple signals\nfrom the same set of parameters.\n\n\n"
      ]
    },
    {
      "cell_type": "code",
      "execution_count": null,
      "metadata": {
        "collapsed": false
      },
      "outputs": [],
      "source": [
        "# Define a set of simulation parameters\nparams = {'n_seconds' : 5, 'fs' : 250, 'exponent' : -1, 'f_range' : [0.5, None]}\n\n# Simulate multiple iterations from the same parameter definition\nsigs = sim_multiple(sim_powerlaw, params, 3)"
      ]
    },
    {
      "cell_type": "markdown",
      "metadata": {},
      "source": [
        "The output the above function is a :class:~.Simulations object that stores multiple\nsimulated signals along with relevant metadata.\n\n\n"
      ]
    },
    {
      "cell_type": "code",
      "execution_count": null,
      "metadata": {
        "collapsed": false
      },
      "outputs": [],
      "source": [
        "# Check the metadata stored in the simulations object\nprint(sigs.function, ':', sigs.params)"
      ]
    },
    {
      "cell_type": "code",
      "execution_count": null,
      "metadata": {
        "collapsed": false
      },
      "outputs": [],
      "source": [
        "# Create a times definition corresponding to the simulations\ntimes = create_times(params['n_seconds'], params['fs'])\n\n# Plot the simulated signals\nplot_multi_time_series(times, sigs)"
      ]
    },
    {
      "cell_type": "markdown",
      "metadata": {},
      "source": [
        "## SigIter\n\nIn some cases, it may be useful to define a way to sample iterations from the same set of\nsimulation parameters. To do so, we can use the :class:`~.SigIter` class.\n\nUsing this class, we can define an object that stores the simulation function, the\nset of parameters, and optionally a number of simulations to create, and use this object\nto yield simulated signals.\n\n\n"
      ]
    },
    {
      "cell_type": "code",
      "execution_count": null,
      "metadata": {
        "collapsed": false
      },
      "outputs": [],
      "source": [
        "# Initialize a SigIter object\nsig_iter = SigIter(sim_powerlaw, params, 3)"
      ]
    },
    {
      "cell_type": "code",
      "execution_count": null,
      "metadata": {
        "collapsed": false
      },
      "outputs": [],
      "source": [
        "# Iterate with the object to create simulations\nfor tsig in sig_iter:\n    plot_time_series(times, tsig)"
      ]
    },
    {
      "cell_type": "markdown",
      "metadata": {},
      "source": [
        "## Simulate From Sampler\n\nWe can also use the :func:`~.sim_from_sampler` function to simulate signals,\nsampling parameter values from a sampler definition.\n\n\n"
      ]
    },
    {
      "cell_type": "code",
      "execution_count": null,
      "metadata": {
        "collapsed": false
      },
      "outputs": [],
      "source": [
        "# Define base set of parameters\nparams = {'n_seconds' : 5, 'fs' : 250, 'exponent' : None}\n\n# Create an updater and sampler to sample from\nexp_sampler = {create_updater('exponent') : create_sampler([-2, -1, 0])}\n\n# Create a ParamSampler object\nsampler = ParamSampler(params, exp_sampler)"
      ]
    },
    {
      "cell_type": "code",
      "execution_count": null,
      "metadata": {
        "collapsed": false
      },
      "outputs": [],
      "source": [
        "# Simulate a set of signals from the defined sampler\nsampled_sims = sim_from_sampler(sim_powerlaw, sampler, 3)"
      ]
    },
    {
      "cell_type": "markdown",
      "metadata": {},
      "source": [
        "The output of the above is a :class:~.VariableSimulations object that stores simulations\nacross variable simulation parameters, storing the simulated time series as well as the\nsimulation parameters for each simulated signal.\n\n\n"
      ]
    },
    {
      "cell_type": "code",
      "execution_count": null,
      "metadata": {
        "collapsed": false
      },
      "outputs": [],
      "source": [
        "# Check some of the metadata stored in the VariableSimulations object\nprint(sampled_sims.function)\nfor paramdef in sampled_sims.params:\n    print(paramdef)"
      ]
    },
    {
      "cell_type": "code",
      "execution_count": null,
      "metadata": {
        "collapsed": false
      },
      "outputs": [],
      "source": [
        "# Plot the set of sampled simulations\nplot_multi_time_series(times, sampled_sims)"
      ]
    },
    {
      "cell_type": "markdown",
      "metadata": {},
      "source": [
        "## Simulate Across Values\n\nSometimes we may want to simulate signals across a set defined range of parameter values.\n\nTo do so, we can use the :func:`~.sim_across_values` function, which takes a definition of\nparameter values to simulate across.\n\n\n"
      ]
    },
    {
      "cell_type": "code",
      "execution_count": null,
      "metadata": {
        "collapsed": false
      },
      "outputs": [],
      "source": [
        "# Define a set of parameters, stepping across exponent values\nmulti_params = [\n    {'n_seconds' : 5, 'fs' : 250, 'exponent' : -2},\n    {'n_seconds' : 5, 'fs' : 250, 'exponent' : -1},\n    {'n_seconds' : 5, 'fs' : 250, 'exponent' : -0},\n]\n\n# Simulate a set of signals\nsims_across_params = sim_across_values(sim_powerlaw, multi_params)"
      ]
    },
    {
      "cell_type": "markdown",
      "metadata": {},
      "source": [
        "The output of the above is a :class:~.VariableSimulations object that stores simulations\nacross varying simulation parameters (same as with the sampled simulations).\n\n\n"
      ]
    },
    {
      "cell_type": "code",
      "execution_count": null,
      "metadata": {
        "collapsed": false
      },
      "outputs": [],
      "source": [
        "# Plot the simulated time series from sampled parameters\nplot_multi_time_series(times, sims_across_params)"
      ]
    },
    {
      "cell_type": "markdown",
      "metadata": {},
      "source": [
        "## Simulate Multiple Instances Across Values\n\nFinally, we may want to simulate multiple instances across a set of parameter definitions.\n\nTo do so, we can use the :func:`~.sim_multi_across_values` function, which takes a set of\nparameter definitions and a number of simulations to create per definition.\n\n\n"
      ]
    },
    {
      "cell_type": "code",
      "execution_count": null,
      "metadata": {
        "collapsed": false
      },
      "outputs": [],
      "source": [
        "# Simulate a set of signals\nn_sims = 3\nsims_multi_across_params = sim_multi_across_values(sim_powerlaw, multi_params, n_sims)"
      ]
    },
    {
      "cell_type": "markdown",
      "metadata": {},
      "source": [
        "The output of the above is a :class:~.MultiSimulations object that stores sets of simulations\nacross different parameters, and relevant metadata. Each set of simulations is stored within\nthis object as a :class:~.Simulations object.\n\n\n"
      ]
    },
    {
      "cell_type": "code",
      "execution_count": null,
      "metadata": {
        "collapsed": false
      },
      "outputs": [],
      "source": [
        "# The length of the object is the number of parameter sets\nprint('# of sets of signals:', len(sims_across_params))"
      ]
    },
    {
      "cell_type": "markdown",
      "metadata": {},
      "source": [
        "In the above, we created a set of parameters per definition, which by default are returned\nin a dictionary.\n\n\n"
      ]
    },
    {
      "cell_type": "code",
      "execution_count": null,
      "metadata": {
        "collapsed": false
      },
      "outputs": [],
      "source": [
        "# Plot the simulated signals, accessing signals from each simulation definition\nplot_multi_time_series(None, sims_across_params[0])\nplot_multi_time_series(None, sims_across_params[1])\nplot_multi_time_series(None, sims_across_params[2])"
      ]
    }
  ],
  "metadata": {
    "kernelspec": {
      "display_name": "Python 3",
      "language": "python",
      "name": "python3"
    },
    "language_info": {
      "codemirror_mode": {
        "name": "ipython",
        "version": 3
      },
      "file_extension": ".py",
      "mimetype": "text/x-python",
      "name": "python",
      "nbconvert_exporter": "python",
      "pygments_lexer": "ipython3",
      "version": "3.8.3"
    }
  },
  "nbformat": 4,
  "nbformat_minor": 0
}