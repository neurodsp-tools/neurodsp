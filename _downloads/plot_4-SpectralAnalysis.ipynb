{
  "cells": [
    {
      "cell_type": "code",
      "execution_count": null,
      "metadata": {
        "collapsed": false
      },
      "outputs": [],
      "source": [
        "%matplotlib inline"
      ]
    },
    {
      "cell_type": "markdown",
      "metadata": {},
      "source": [
        "\nSpectral domain analysis\n========================\nIn this tutorial, we will demonstrate how to use the spectral (or, frequency) domain analysis functions in neurodsp.spectral. We will cover:\n    - computing the power spectral density (PSD)\n    - fitting the 1/f noise in the PSD with a line in loglog domain\n    - computing and displaying the spectral histogram\n    - computing the spectral coefficient of variation (SCV) and the resampled estimates\n\nDetailed explanations for each of the above concept are provided below as we come across them.\n\n"
      ]
    },
    {
      "cell_type": "code",
      "execution_count": null,
      "metadata": {
        "collapsed": false
      },
      "outputs": [],
      "source": [
        "# importing libraries\nfrom scipy import signal\nimport numpy as np\nimport scipy as sp\nfrom scipy import io\nimport matplotlib.pylab as plt\nfrom neurodsp import spectral, plts"
      ]
    },
    {
      "cell_type": "code",
      "execution_count": null,
      "metadata": {
        "collapsed": false
      },
      "outputs": [],
      "source": [
        "# First, we load the sample data, which is a segment of rat hippocampal LFP taken from the\n# publicly available neuro database CRCNS (hc2). Relevant publication: Mizuseki et al, 2012, Nature Neuro\ndata = io.loadmat('./data/sample_data_2.mat', squeeze_me=True)\nx = data['x']\nfs = data['fs']\nt = np.arange(len(x))/fs\nplt.plot(t, x)\nplt.xlim((0,3))\nplt.xlabel('Time (s)')\nplt.ylabel('Voltage')\nplt.show()\n\n# Plotting the data, we observe a strong theta oscillation (~6-8 Hz)"
      ]
    },
    {
      "cell_type": "markdown",
      "metadata": {},
      "source": [
        "Computing the power spectral density (PSD)\n==========================================\nPSD is the frequency domain representation of time series. Through the Fourier transform, the signal is split into orthogonal components of different frequency. In this toolbox, there are a few ways of estimating the PSD:\n  - 'mean' : same as Welch's method; mean over spectrogram of data. This is the most straightforward and \"standard\" way of computing the PSD.\n  - 'median' : similar to Welch's method; median (instead of mean) over spectrogram of data. This diminishes the effect of outlier power values from signal artifacts.\n  - 'medfilt' : median filtered of FFT magnitude squared.\n\n"
      ]
    },
    {
      "cell_type": "code",
      "execution_count": null,
      "metadata": {
        "collapsed": false
      },
      "outputs": [],
      "source": [
        "freq_mean, P_mean = spectral.compute_spectrum(x, fs, method='mean', nperseg=fs*2) # mean of spectrogram (Welch)\nfreq_med, P_med = spectral.compute_spectrum(x, fs, method='median', nperseg=fs*2) # median of spectrogram (\"median Welch\")\nfreq_mf, P_mf = spectral.compute_spectrum(x, fs, method='medfilt')\n\nplt.figure(figsize=(8,8))\nplt.loglog(freq_mean[:200],P_mean[:200], label='Welch')\nplt.loglog(freq_med[:200],P_med[:200], label='Median Welch')\nplt.loglog(freq_mf[100:10000],P_mf[100:10000], label='Median Filter FFT')\nplt.legend()\nplt.xlabel('Frequency (Hz)')\nplt.ylabel('Power (V^2/Hz)')\nplt.show()"
      ]
    },
    {
      "cell_type": "markdown",
      "metadata": {},
      "source": [
        "Fitting 1/f noise of PSD with a straight line in loglog scale\n-------------------------------------------------------------\nNotice in the above PSDs that there is a region of linear decrease when plotted in double log-scale, between 30-100Hz. This \"1/f slope\" has been found to correlate with aging, memory, and cognitive control in several previous publications, and has been proposed to reflect the physiological balance between excitation and inhibition.\n\nSee for example: Voytek et al., JNeuro, 2015; Podvalny et al., JNeurophysiol, 2015; Gao et al., NeuroImage, 2017; Lombardi et al., Chaos, 2017\n\nHere, we can fit the 1/f slope between any two frequencies while excluding a number of frequency ranges within that fit region, and we can plot the PSD and line to visually evaluate goodness of fit.\n\nNOTE:\nSpectral parameterization (in particular, the 1/f aperiodic component) has been discontinued from neurodsp.\nPlease refer to [FOOOF](https://github.com/voytekresearch/fooof) for a complete and up-to-date spectral parameterizaton.\n\n"
      ]
    },
    {
      "cell_type": "markdown",
      "metadata": {},
      "source": [
        "Spectral histogram\n------------------\nThe PSD is an estimate of the central tendency (mean/median) of the signal's power at each frequency, with the assumption that the signal is relatively stationary and that the variance around the mean comes from various forms of noise.\n\nHowever, in physiological data, we may be interested in visualizing the distribution of power values around the mean at each frequency, as estimated in sequential slices of short-time Fourier transform (STFT), since it may reveal non-stationarities in the data or particular frequencies that are not like the rest. Here, we simply bin the log-power values across time, in a histogram, to observe the noise distribution at each frequency.\n\n"
      ]
    },
    {
      "cell_type": "code",
      "execution_count": null,
      "metadata": {
        "collapsed": false
      },
      "outputs": [],
      "source": [
        "f, bins, spect_hist = spectral.spectral_hist(x, fs, nbins=50, f_lim=(0,80), cutpct=(0.1,99.9))\n#plts.spectral.plot_spectral_hist(f, bins, spect_hist, freq_med, P_med)\n\n# Notice in the below plot that not only is theta power higher overall (shifted up),\n#    it also has lower variance around its mean."
      ]
    },
    {
      "cell_type": "markdown",
      "metadata": {},
      "source": [
        "Spectral Coefficient of Variation\n=================================\nAs noted above, the range of log-power values in the theta frequency range is lower compared to other frequencies, while that of 30-100Hz appear to be quite constant across the entire frequency axis (homoscedasticity). To quantify that, we compute the coefficient of variation (standard deviation/mean) as a normalized estimate of variance.\n\n"
      ]
    },
    {
      "cell_type": "code",
      "execution_count": null,
      "metadata": {
        "collapsed": false
      },
      "outputs": [],
      "source": [
        "f, scv = spectral.compute_scv(x, fs, nperseg=int(fs),noverlap=0)\nplt.figure(figsize=(5,5))\nplt.loglog(f,scv)\nplt.xlim([1, 200])\nplt.xlabel('Frequency (Hz)')\nplt.ylabel('SCV')\nplt.show()"
      ]
    },
    {
      "cell_type": "markdown",
      "metadata": {},
      "source": [
        "As shown above, SCV calculated from the entire segment of data is quite noise due to the single estimate of mean and standard deviation. To overcome this, we can compute a bootstrap-resampled estimate of SCV, by randomly drawing slices from the non-overlapping spectrogram and taking their average.\n\n"
      ]
    },
    {
      "cell_type": "code",
      "execution_count": null,
      "metadata": {
        "collapsed": false
      },
      "outputs": [],
      "source": [
        "f, T, SCVrs = spectral.compute_scv_rs(x, fs,nperseg=fs, method='bootstrap', rs_params=(20, 200))\nplt.figure(figsize=(8,8))\nplt.loglog(f, SCVrs, 'k', alpha=0.1);\nplt.loglog(f, np.mean(SCVrs, axis=1), lw=2)\nplt.loglog(f, len(f)*[1.])\nplt.xlim((1,200))\nplt.xlabel('Frequency (Hz)')\nplt.ylabel('SCV')\nplt.show()"
      ]
    },
    {
      "cell_type": "markdown",
      "metadata": {},
      "source": [
        "Another way to compute the resampled SCV is via a sliding window approach, essentially smoothing over consecutive slices of the spectrogram to compute the mean and std estimates.\n\n"
      ]
    },
    {
      "cell_type": "code",
      "execution_count": null,
      "metadata": {
        "collapsed": false
      },
      "outputs": [],
      "source": [
        "f, T, SCVrs = spectral.compute_scv_rs(x, fs, method='rolling', rs_params=(10,2))\nplt.figure(figsize=(10,5))\nplt.imshow(np.log10(SCVrs), aspect='auto', extent=(T[0],T[-1],f[-1],f[0]))\nplt.colorbar(label='SCV')\nplt.ylim((100,0))\nplt.ylabel('Frequency (Hz)')\nplt.xlabel('Time (s)')\nplt.show()\n# In the plot below, we see that the theta band (~7Hz) consistently has CV of less than 1 (negative in log10)"
      ]
    },
    {
      "cell_type": "markdown",
      "metadata": {},
      "source": [
        "Spectral Rotation\n=================\nAnother included utility function is spectral rotation, which rotates the power spectrum about a given axis frequency, by an amount indicated by the exponent (negative is clockwise, positive is counterclockwise).\n\nThis function is mostly useful for investigating the effect of rotating the spectrum in frequency domain on the time domain signal. Effectively, this performs a very specific type of filtering with an ultra long filter kernel.\n\nFor complete details, see the **Simulation** tutorial.\n\n"
      ]
    },
    {
      "cell_type": "code",
      "execution_count": null,
      "metadata": {
        "collapsed": false
      },
      "outputs": [],
      "source": [
        "P_rot = spectral.rotate_powerlaw(freq_med,P_med,delta_f=-1,f_rotation=35)\nplt.figure(figsize=(5,5))\nplt.loglog(freq_med[:200], P_med[:200], label='Original')\nplt.loglog(freq_med[:200], P_rot[:200], label='Rotated')\nplt.legend()"
      ]
    }
  ],
  "metadata": {
    "kernelspec": {
      "display_name": "Python 3",
      "language": "python",
      "name": "python3"
    },
    "language_info": {
      "codemirror_mode": {
        "name": "ipython",
        "version": 3
      },
      "file_extension": ".py",
      "mimetype": "text/x-python",
      "name": "python",
      "nbconvert_exporter": "python",
      "pygments_lexer": "ipython3",
      "version": "3.6.4"
    }
  },
  "nbformat": 4,
  "nbformat_minor": 0
}