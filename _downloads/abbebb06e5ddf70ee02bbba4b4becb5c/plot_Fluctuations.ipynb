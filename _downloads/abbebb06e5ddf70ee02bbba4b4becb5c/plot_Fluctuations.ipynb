{
  "cells": [
    {
      "cell_type": "markdown",
      "metadata": {},
      "source": [
        "\n# Fluctuation analyses\n\nApply fluctuation analyses, such as detrended fluctuation analysis (DFA) to neural signals.\n\nDFA was first proposed in the context of genetics in\n[Peng et al, 1994](https://doi.org/10.1103/PhysRevE.49.1685),\nand was recently reviewed in the context of neural data in\n[Hardstone et al, 2012](https://doi.org/10.3389/fphys.2012.00450).\n\nThis tutorial covers ``neurodsp.aperiodic.dfa``.\n"
      ]
    },
    {
      "cell_type": "code",
      "execution_count": null,
      "metadata": {
        "collapsed": false
      },
      "outputs": [],
      "source": [
        "import matplotlib.pyplot as plt\n\nfrom neurodsp.sim import sim_powerlaw\n\n# Import the function for computing fluctuation analyses\nfrom neurodsp.aperiodic import compute_fluctuations"
      ]
    },
    {
      "cell_type": "markdown",
      "metadata": {},
      "source": [
        "## Detrended Fluctuation Analysis\n\nDetrended fluctuation analysis (DFA) is a method for analyzing the self-similarity of a signal.\n\nDFA is in some ways similar to autocorrelation measures, and is typically used to look\nfor long-range, powerlaw correlations. It does so by dividing the signals into windows,\nfitting local trends, and then examining the pattern across window sizes.\n\nFor more information on the details of DFA, see the description of the algorithm on\n[Wikipedia](https://en.wikipedia.org/wiki/Detrended_fluctuation_analysis).\n\n### DFA Exponent\n\nThe output of the DFA algorithm is the 'DFA exponent', which is the slope of the linear fit\nbetween windows sizes and fluctuations. The value of this exponent can be interpreted in\nterms of the properties of the signal.\n\nIn particular, DFA exponents represent:\n\n- $0 < \\alpha < 0.5$ : anti-correlated\n- $\\alpha = 0.5$ : white noise\n- $0.5 < \\alpha < 1$ : correlated (stationary)\n- $\\alpha = 1.0$ : 1/f\n- $1 < \\alpha < 2$ : correlated (non-stationary)\n\n\n"
      ]
    },
    {
      "cell_type": "markdown",
      "metadata": {},
      "source": [
        "## Applying DFA\n\nHere, to introduce DFA, we will use colored noise signals (white noise and pink noise).\nThese signals have different auto-correlation properties, and so should have different DFA\nresults, which we can then compare between the signals.\n\nNote that DFA can be applied to multiple signal types. Though here we using simulated\naperiodic time series, in analyses of neural field data, DFA is most often used to examine\namplitude time series of neural oscillations.\n\n\n"
      ]
    },
    {
      "cell_type": "code",
      "execution_count": null,
      "metadata": {
        "collapsed": false
      },
      "outputs": [],
      "source": [
        "# Simulation settings\nn_seconds = 10\nfs = 500\n\n# Simulate a white noise signal\nsig_wn = sim_powerlaw(n_seconds, fs, exponent=0)\n\n# Simulate a pink noise powerlaw signal\nsig_pl = sim_powerlaw(n_seconds, fs, exponent=-1)"
      ]
    },
    {
      "cell_type": "markdown",
      "metadata": {},
      "source": [
        "### Calculating DFA\n\nThe DFA algorithm involves:\n\n1. Removing the mean of a signal (detrending)\n2. Computing the cumulative sum of the signal\n3. Splitting the signal into equal-sized windows\n4. Fitting a polynomial across the windows\n5. Calculate the mean squared residual (fluctuation) of the fit\n\nSteps 3-5 are repeated for various window sizes.\n\nThe DFA algorithm is available through the :func:`~.compute_fluctuations` function.\n\n### Algorithm Settings\n\nThe DFA algorithm requires certain settings, including:\n\n- `n_scales` : the number of scales to estimate fluctuations over\n- `min_scale` : the shortest scale, in seconds, to compute over\n- `max_scale` : the longest scale, in seconds, to compute over\n\n\n"
      ]
    },
    {
      "cell_type": "code",
      "execution_count": null,
      "metadata": {
        "collapsed": false
      },
      "outputs": [],
      "source": [
        "# Compute DFA for a white noise signal\nts_wn, flucs_wn, exp_wn = compute_fluctuations(sig_wn, fs, n_scales=10,\n                                               min_scale=0.01, max_scale=1.0)\n\n# Compute DFA for a pink noise signal\nts_pl, flucs_pl, exp_pl = compute_fluctuations(sig_pl, fs, n_scales=10,\n                                               min_scale=0.01, max_scale=1.0)"
      ]
    },
    {
      "cell_type": "markdown",
      "metadata": {},
      "source": [
        "### Results\n\nThe :func:`~.compute_fluctuations` function returns the time scales and\nmeasured fluctuations from the DFA analysis.\n\nIn the plot below, fluctuations are plotted across window sizes for both signals in\nlog-log space.\n\n\n"
      ]
    },
    {
      "cell_type": "code",
      "execution_count": null,
      "metadata": {
        "collapsed": false
      },
      "outputs": [],
      "source": [
        "_, ax = plt.subplots(figsize=(5, 5))\n\nax.loglog(ts_wn, flucs_wn, label=\"White Noise\")\nax.loglog(ts_pl, flucs_pl, label=\"Power Law\")\n\nax.set(title=\"Fluctuations Across Window Sizes\",\n       xlabel=\"Time Scales\", ylabel=\"Fluctuations\")\nplt.legend();"
      ]
    },
    {
      "cell_type": "markdown",
      "metadata": {},
      "source": [
        "The function also returns the DFA exponent, equivalent to the slope of the log-log\nplot of fluctuations and timescales.\n\n\n"
      ]
    },
    {
      "cell_type": "code",
      "execution_count": null,
      "metadata": {
        "collapsed": false
      },
      "outputs": [],
      "source": [
        "# Check calculated DFA exponents\nprint(\"White noise signal DFA exponent:\\t {:1.3f}\".format(exp_wn))\nprint(\"Power law signal DFA exponent:\\t {:1.3f}\".format(exp_pl))"
      ]
    },
    {
      "cell_type": "markdown",
      "metadata": {},
      "source": [
        "As we can see the, DFA exponent for the white noise signal is ~=0.5 while for the\npowerlaw signal it is ~=1. These match with the expected values for these signals.\n\n\n"
      ]
    }
  ],
  "metadata": {
    "kernelspec": {
      "display_name": "Python 3",
      "language": "python",
      "name": "python3"
    },
    "language_info": {
      "codemirror_mode": {
        "name": "ipython",
        "version": 3
      },
      "file_extension": ".py",
      "mimetype": "text/x-python",
      "name": "python",
      "nbconvert_exporter": "python",
      "pygments_lexer": "ipython3",
      "version": "3.8.3"
    }
  },
  "nbformat": 4,
  "nbformat_minor": 0
}