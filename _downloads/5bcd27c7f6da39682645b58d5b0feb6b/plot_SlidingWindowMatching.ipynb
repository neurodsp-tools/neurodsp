{
  "cells": [
    {
      "cell_type": "markdown",
      "metadata": {},
      "source": [
        "\n# Sliding Window Matching\n\nFind recurring patterns in neural signals using Sliding Window Matching.\n\nThis tutorial primarily covers the :func:`~.sliding_window_matching` function.\n"
      ]
    },
    {
      "cell_type": "markdown",
      "metadata": {},
      "source": [
        "## Overview\n\nNon-periodic or non-sinusoidal properties can be difficult to assess in frequency domain\nmethods. To try and address this, the sliding window matching (SWM) algorithm has been\nproposed for detecting and measuring recurring, but unknown, patterns in time series data.\nPatterns of interest may be transient events, and/or the waveform shape of neural oscillations.\n\nIn this example, we will explore applying the SWM algorithm to some LFP data.\n\nThe SWM approach tries to find recurring patterns (or motifs) in the data, using sliding\nwindows. An iterative process samples window randomly, and compares each to the average\nwindow. The goal is to find a selection of windows that look maximally like the average\nwindow, at which point the occurrences of the window have been detected, and the average\nwindow pattern can be examined.\n\nThe sliding window matching algorithm is described in\n[Gips et al, 2017](https://doi.org/10.1016/j.jneumeth.2016.11.001)\n\n\n"
      ]
    },
    {
      "cell_type": "code",
      "execution_count": null,
      "metadata": {
        "collapsed": false
      },
      "outputs": [],
      "source": [
        "import numpy as np\n\n# Import the sliding window matching function\nfrom neurodsp.rhythm import sliding_window_matching\n\n# Import utilities for loading and plotting data\nfrom neurodsp.utils.download import load_ndsp_data\nfrom neurodsp.plts.rhythm import plot_swm_pattern\nfrom neurodsp.plts.time_series import plot_time_series\nfrom neurodsp.utils import set_random_seed, create_times\nfrom neurodsp.utils.norm import normalize_sig"
      ]
    },
    {
      "cell_type": "code",
      "execution_count": null,
      "metadata": {
        "collapsed": false
      },
      "outputs": [],
      "source": [
        "# Set random seed, for reproducibility\nset_random_seed(0)"
      ]
    },
    {
      "cell_type": "markdown",
      "metadata": {},
      "source": [
        "## Load neural signal\n\nFirst, we will load a segment of ECoG data, as an example time series.\n\n\n"
      ]
    },
    {
      "cell_type": "code",
      "execution_count": null,
      "metadata": {
        "collapsed": false
      },
      "outputs": [],
      "source": [
        "# Download, if needed, and load example data files\nsig = load_ndsp_data('sample_data_1.npy', folder='data')\nsig = normalize_sig(sig, mean=0, variance=1)\n\n# Set sampling rate, and create a times vector for plotting\nfs = 1000\ntimes = create_times(len(sig)/fs, fs)"
      ]
    },
    {
      "cell_type": "markdown",
      "metadata": {},
      "source": [
        "Next, we can visualize this data segment. As we can see this segment of data has\nsome prominent bursts of oscillations, in this case, in the beta frequency.\n\n\n"
      ]
    },
    {
      "cell_type": "code",
      "execution_count": null,
      "metadata": {
        "collapsed": false
      },
      "outputs": [],
      "source": [
        "# Plot example signal\nplot_time_series(times, sig)"
      ]
    },
    {
      "cell_type": "markdown",
      "metadata": {},
      "source": [
        "## Apply sliding window matching\n\nThe beta oscillation in our data segment looks like it might have some non-sinusoidal\nproperties. We can investigate this with sliding window matching.\n\nSliding window matching can be applied with the\n:func:`~.sliding_window_matching` function.\n\n\n"
      ]
    },
    {
      "cell_type": "markdown",
      "metadata": {},
      "source": [
        "### Data Preprocessing\n\nTypically, the input signal does not have to be filtered into a band of interest to use SWM.\n\nIf the goal is to characterize non-sinusoidal rhythms, you typically won't want to\napply a filter that will smooth out the features of interest.\n\nHowever, if the goal is to characterize higher frequency activity, it can be useful to\napply a highpass filter, so that the method does not converge on a lower frequency motif.\n\nIn our case, the beta rhythm of interest is the most prominent, low frequency, feature of the\ndata, so we won't apply a filter.\n\n\n"
      ]
    },
    {
      "cell_type": "markdown",
      "metadata": {},
      "source": [
        "### Algorithm Settings\n\nThe SWM algorithm has some algorithm specific settings that need to be applied, including:\n\n- `win_len` : the length of the window, defined in seconds\n- `win_spacing` : the minimum distance between windows, also defined in seconds\n\nThe length of the window influences the patterns that are extracted from the data.\nTypically, you want to set the window length to match the expected timescale of the\npatterns under study.\n\nFor our purposes, we will define the window length to be about 1 cycle of a beta oscillation,\nwhich should help the algorithm to find the waveform shape of the neural oscillation.\n\n\n"
      ]
    },
    {
      "cell_type": "code",
      "execution_count": null,
      "metadata": {
        "collapsed": false
      },
      "outputs": [],
      "source": [
        "# Define window length & minimum window spacing, both in seconds\nwin_len = .055\nwin_spacing = .055"
      ]
    },
    {
      "cell_type": "code",
      "execution_count": null,
      "metadata": {
        "collapsed": false
      },
      "outputs": [],
      "source": [
        "# Apply the sliding window matching algorithm to the time series\nwindows, window_starts = sliding_window_matching(sig, fs, win_len, win_spacing, var_thresh=.5)"
      ]
    },
    {
      "cell_type": "markdown",
      "metadata": {},
      "source": [
        "### Examine the Results\n\nWhat we got back from the SWM function are the calculate average window, the list\nof indices in the data of the windows, and the calculated costs for each iteration of\nthe algorithm run.\n\nIn order to visualize the resulting pattern, we can use\n:func:`~.plot_swm_pattern`.\n\n\n"
      ]
    },
    {
      "cell_type": "code",
      "execution_count": null,
      "metadata": {
        "collapsed": false
      },
      "outputs": [],
      "source": [
        "# Compute the average window\navg_window = np.mean(windows, 0)\n\n# Plot the discovered pattern\nplot_swm_pattern(avg_window)"
      ]
    },
    {
      "cell_type": "markdown",
      "metadata": {},
      "source": [
        "In the above average pattern, that looks to capture a beta rhythm, we can notice some\nwaveform shape of the extracted rhythm.\n\n\n"
      ]
    },
    {
      "cell_type": "markdown",
      "metadata": {},
      "source": [
        "### Concluding Notes\n\nOne thing to keep in mind is that the SWM algorithm includes a random element of sampling\nand comparing the windows - meaning it is not deterministic. Because of this, results\ncan change with different random seeds.\n\nTo explore this, go back and change the random seed, and see how the output changes.\n\nYou can also set the number of iterations that the algorithm sweeps through. Increasing\nthe number of iterations, and using longer data segments, can help improve the robustness\nof the algorithm results.\n\n\n"
      ]
    }
  ],
  "metadata": {
    "kernelspec": {
      "display_name": "Python 3",
      "language": "python",
      "name": "python3"
    },
    "language_info": {
      "codemirror_mode": {
        "name": "ipython",
        "version": 3
      },
      "file_extension": ".py",
      "mimetype": "text/x-python",
      "name": "python",
      "nbconvert_exporter": "python",
      "pygments_lexer": "ipython3",
      "version": "3.8.12"
    }
  },
  "nbformat": 4,
  "nbformat_minor": 0
}