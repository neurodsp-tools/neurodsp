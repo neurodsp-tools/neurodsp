{
  "cells": [
    {
      "cell_type": "markdown",
      "metadata": {},
      "source": [
        "\n# Simulating Aperiodic Signals\n\nSimulate aperiodic signals.\n\nThis tutorial covers the the ``neurodsp.sim.aperiodic`` module.\n"
      ]
    },
    {
      "cell_type": "code",
      "execution_count": null,
      "metadata": {
        "collapsed": false
      },
      "outputs": [],
      "source": [
        "# Import sim functions\nfrom neurodsp.sim import (sim_powerlaw, sim_random_walk, sim_synaptic_current,\n                          sim_knee, sim_frac_gaussian_noise, sim_frac_brownian_motion)\nfrom neurodsp.utils import set_random_seed\n\n# Import function to compute power spectra\nfrom neurodsp.spectral import compute_spectrum\n\n# Import utilities for plotting data\nfrom neurodsp.utils import create_times\nfrom neurodsp.plts.spectral import plot_power_spectra\nfrom neurodsp.plts.time_series import plot_time_series"
      ]
    },
    {
      "cell_type": "code",
      "execution_count": null,
      "metadata": {
        "collapsed": false
      },
      "outputs": [],
      "source": [
        "# Set the random seed, for consistency simulating data\nset_random_seed(0)\n\n# Set some general settings, to be used across all simulations\nfs = 1000\nn_seconds = 10\n\n# Create a times vector for the simulations\ntimes = create_times(n_seconds, fs)"
      ]
    },
    {
      "cell_type": "markdown",
      "metadata": {},
      "source": [
        "## Simulate 1/f Activity\n\nOften, we want to simulate aperiodic activity similar to what we see in neural recordings.\n\nNeural signals display 1/f-like activity, whereby power decreases linearly across\nincreasing frequencies, when plotted in log-log.\n\nTo simulate activity with powerlaw distributions, use the\n:func:`~.sim_powerlaw` function.\n\nLet's start with a power law signal, specifically a brown noise process, or a signal\nfor which the power spectrum is distributed as 1/f^2.\n\n\n"
      ]
    },
    {
      "cell_type": "code",
      "execution_count": null,
      "metadata": {
        "collapsed": false
      },
      "outputs": [],
      "source": [
        "# Set the exponent for brown noise, which is -2\nexponent = -2\n\n# Simulate powerlaw activity\nbr_noise = sim_powerlaw(n_seconds, fs, exponent)"
      ]
    },
    {
      "cell_type": "code",
      "execution_count": null,
      "metadata": {
        "collapsed": false
      },
      "outputs": [],
      "source": [
        "# Plot the simulated data, in the time domain\nplot_time_series(times, br_noise, title='Brown Noise')"
      ]
    },
    {
      "cell_type": "code",
      "execution_count": null,
      "metadata": {
        "collapsed": false
      },
      "outputs": [],
      "source": [
        "# Plot the simulated data, in the frequency domain\nfreqs, psd = compute_spectrum(br_noise, fs)\nplot_power_spectra(freqs, psd)"
      ]
    },
    {
      "cell_type": "markdown",
      "metadata": {},
      "source": [
        "### Simulate Filtered 1/f Activity\n\nThe power law simulation function is also integrated with a filter. This can be useful\nfor filtering out some low frequencies, as is often done with neural signals,\nto remove the very slow drifts that we see in the pure 1/f simulations.\n\nTo filter a simulated power law signal, simply pass in a filter range, and the filter will\nbe applied to the simulated data before being returned.\n\nHere we will apply a high-pass filter. We can see that the resulting signal has much less\nlow-frequency drift than the first one.\n\n\n"
      ]
    },
    {
      "cell_type": "code",
      "execution_count": null,
      "metadata": {
        "collapsed": false
      },
      "outputs": [],
      "source": [
        "# Simulate highpass-filtered brown noise with a 1Hz highpass filter\nf_hipass_brown = 1\nbrown_filt = sim_powerlaw(n_seconds, fs, exponent, f_range=(f_hipass_brown, None))"
      ]
    },
    {
      "cell_type": "code",
      "execution_count": null,
      "metadata": {
        "collapsed": false
      },
      "outputs": [],
      "source": [
        "# Plot the simulated data, in the time domain\nplot_time_series(times, brown_filt, title='High-Passed Brown Noise')"
      ]
    },
    {
      "cell_type": "code",
      "execution_count": null,
      "metadata": {
        "collapsed": false
      },
      "outputs": [],
      "source": [
        "# Plot the simulated data, in the frequency domain\nfreqs, psd = compute_spectrum(brown_filt, fs)\nplot_power_spectra(freqs, psd)"
      ]
    },
    {
      "cell_type": "markdown",
      "metadata": {},
      "source": [
        "Note: the :func:`~.sim_powerlaw` function can simulate arbitrary\npower law exponents, such as pink noise (-1), or any other exponent.\n\n\n"
      ]
    },
    {
      "cell_type": "markdown",
      "metadata": {},
      "source": [
        "## Random Walk Activity\n\nWe can also simulate an Ornstein-Uhlenbeck process, which is a random walk process with memory.\n\nWe can do this with the :func:`~.sim_random_walk` function.\n\n\n"
      ]
    },
    {
      "cell_type": "code",
      "execution_count": null,
      "metadata": {
        "collapsed": false
      },
      "outputs": [],
      "source": [
        "# Simulate aperiodic signals from a random walk process\nrw_ap = sim_random_walk(n_seconds, fs)"
      ]
    },
    {
      "cell_type": "code",
      "execution_count": null,
      "metadata": {
        "collapsed": false
      },
      "outputs": [],
      "source": [
        "# Plot the simulated data, in the time domain\nplot_time_series(times, rw_ap, title='Random Walk')"
      ]
    },
    {
      "cell_type": "markdown",
      "metadata": {},
      "source": [
        "## Simulate Synaptic Activity\n\nAnother model for simulating aperiodic, neurally plausible activity, is to simulate\nsynaptic current activity, as a Lorentzian function.\n\nThis is available with the :func:`~.sim_synaptic_current` function.\n\nThe synaptic current model is Poisson activity convolved with exponential kernels\nthat mimic the shape of post-synaptic potentials.\n\nFor more details on the usage of such models for simulating neural signals, see\n[Gao et al, 2017](https://doi.org/10.1016/j.neuroimage.2017.06.078).\n\n\n"
      ]
    },
    {
      "cell_type": "code",
      "execution_count": null,
      "metadata": {
        "collapsed": false
      },
      "outputs": [],
      "source": [
        "# Simulate aperiodic activity from the synaptic kernel model\nsyn_ap = sim_synaptic_current(n_seconds, fs)"
      ]
    },
    {
      "cell_type": "code",
      "execution_count": null,
      "metadata": {
        "collapsed": false
      },
      "outputs": [],
      "source": [
        "# Plot the simulated data, in the time domain\nplot_time_series(times, syn_ap, title='Simulated Synaptic Activity')"
      ]
    },
    {
      "cell_type": "markdown",
      "metadata": {},
      "source": [
        "Both the random walk, and synaptic model produce 1/f scaling in higher frequencies with a\nfixed exponent of -2, as we can see in the power spectra plot below.\n\n\n"
      ]
    },
    {
      "cell_type": "code",
      "execution_count": null,
      "metadata": {
        "collapsed": false
      },
      "outputs": [],
      "source": [
        "# Plot the simulated data, in the frequency domain\nfreqs, rw_psd = compute_spectrum(rw_ap, fs)\nfreqs, syn_psd = compute_spectrum(syn_ap, fs)\n\nplot_power_spectra(freqs, [rw_psd, syn_psd], ['Random Walk', 'Synaptic'])"
      ]
    },
    {
      "cell_type": "markdown",
      "metadata": {},
      "source": [
        "## Simulate Knee Signal\n\nTo simulate signals with a knee, being able to control both exponents, and the knee,\nuse the :func:`~.sim_knee` function.\n\n\n"
      ]
    },
    {
      "cell_type": "code",
      "execution_count": null,
      "metadata": {
        "collapsed": false
      },
      "outputs": [],
      "source": [
        "# Simulate a knee signal, with specified exponents & knee\nknee_ap1 = sim_knee(n_seconds, fs, exponent1=-0.5, exponent2=-1, knee=100)\n\n# Plot the simulated data, in the time domain\nplot_time_series(times, knee_ap1, title='Simulated Knee Signal')"
      ]
    },
    {
      "cell_type": "code",
      "execution_count": null,
      "metadata": {
        "collapsed": false
      },
      "outputs": [],
      "source": [
        "# Simulate another knee signal, with different exponents & knee\nknee_ap2 = sim_knee(n_seconds, fs, exponent1=-1, exponent2=-2, knee=100)\n\n# Plot the simulated data, in the time domain\nplot_time_series(times, knee_ap2, title='Simulated Knee Signal')"
      ]
    },
    {
      "cell_type": "code",
      "execution_count": null,
      "metadata": {
        "collapsed": false
      },
      "outputs": [],
      "source": [
        "# Compute power spectra of the simulated knee signals\nfreqs, knee_psd1 = compute_spectrum(knee_ap1, fs)\nfreqs, knee_psd2 = compute_spectrum(knee_ap2, fs)\n\n# Plot the simulated data, in the frequency domain\nplot_power_spectra(freqs, [knee_psd1, knee_psd2], ['Knee1', 'Knee2'])"
      ]
    },
    {
      "cell_type": "markdown",
      "metadata": {},
      "source": [
        "## Simulate Fractional Noise\n\nWe also include methods from the field of statistics to simulate other forms\nof aperiodic signals.\n\nThese include:\n\n- fractional gaussian noise, which can be simulated as a self-similar stochastic process\n- fractional brownian motion, which is generalization of brownian motion\n\nBoth of these signal types can be used to simulate aperiodic time series, with\npowerlaw spectral densities.\n\n\n"
      ]
    },
    {
      "cell_type": "markdown",
      "metadata": {},
      "source": [
        "### Fractional Gaussian Noise\n\nTo simulate a fractional gaussian noise signal, use the\nthe :func:`~.sim_frac_gaussian_noise` function.\n\n\n"
      ]
    },
    {
      "cell_type": "code",
      "execution_count": null,
      "metadata": {
        "collapsed": false
      },
      "outputs": [],
      "source": [
        "# Simulate fractional gaussian noise signal\ngn_ap = sim_frac_gaussian_noise(n_seconds, fs, exponent=-.5)\n\n# Plot the simulated data, in the time domain\nplot_time_series(times, gn_ap, title='Simulated Fractional Gaussian Noise')"
      ]
    },
    {
      "cell_type": "markdown",
      "metadata": {},
      "source": [
        "### Fractional Brownian Motion\n\nTo simulate a fractional brownian motion signal, use the\n:func:`~.sim_frac_brownian_motion` function.\n\n\n"
      ]
    },
    {
      "cell_type": "code",
      "execution_count": null,
      "metadata": {
        "collapsed": false
      },
      "outputs": [],
      "source": [
        "# Simulate fractional brownian motion signal\nbm_ap = sim_frac_brownian_motion(n_seconds, fs, exponent=-2)\n\n# Plot the simulated data, in the time domain\nplot_time_series(times, bm_ap, title='Simulated Fractional Brownian Motion')"
      ]
    }
  ],
  "metadata": {
    "kernelspec": {
      "display_name": "Python 3",
      "language": "python",
      "name": "python3"
    },
    "language_info": {
      "codemirror_mode": {
        "name": "ipython",
        "version": 3
      },
      "file_extension": ".py",
      "mimetype": "text/x-python",
      "name": "python",
      "nbconvert_exporter": "python",
      "pygments_lexer": "ipython3",
      "version": "3.8.12"
    }
  },
  "nbformat": 4,
  "nbformat_minor": 0
}