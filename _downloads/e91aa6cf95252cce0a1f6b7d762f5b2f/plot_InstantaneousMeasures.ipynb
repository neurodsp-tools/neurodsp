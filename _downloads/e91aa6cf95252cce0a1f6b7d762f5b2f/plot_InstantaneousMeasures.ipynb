{
  "cells": [
    {
      "cell_type": "markdown",
      "metadata": {},
      "source": [
        "\n# Time-frequency analysis\n\nEstimate instantaneous measures of phase, amplitude, and frequency.\n\nThis tutorial primarily covers the ``neurodsp.timefrequency`` module.\n"
      ]
    },
    {
      "cell_type": "code",
      "execution_count": null,
      "metadata": {
        "collapsed": false
      },
      "outputs": [],
      "source": [
        "import matplotlib.pyplot as plt\n\n# Import time-frequency functions\nfrom neurodsp.timefrequency import amp_by_time, freq_by_time, phase_by_time\n\n# Import utilities for loading and plotting data\nfrom neurodsp.utils import create_times\nfrom neurodsp.utils.download import load_ndsp_data\nfrom neurodsp.plts.time_series import plot_time_series, plot_instantaneous_measure"
      ]
    },
    {
      "cell_type": "markdown",
      "metadata": {},
      "source": [
        "## Load example neural signal\n\nFirst, we will load an example neural signal to use for our time-frequency measures.\n\n\n"
      ]
    },
    {
      "cell_type": "code",
      "execution_count": null,
      "metadata": {
        "collapsed": false
      },
      "outputs": [],
      "source": [
        "# Load a neural signal, as well as a filtered version of the same signal\nsig = load_ndsp_data('sample_data_1.npy', folder='data')\nsig_filt_true = load_ndsp_data('sample_data_1_filt.npy', folder='data')\n\n# Set sampling rate, and create a times vector for plotting\nfs = 1000\ntimes = create_times(len(sig)/fs, fs)\n\n# Set the frequency range to be used\nf_range = (13, 30)"
      ]
    },
    {
      "cell_type": "markdown",
      "metadata": {},
      "source": [
        "Throughout this example, we will use :func:`~.plot_time_series` to plot time series,\nand :func:`~.plot_instantaneous_measure` to plot instantaneous measures.\n\n\n"
      ]
    },
    {
      "cell_type": "code",
      "execution_count": null,
      "metadata": {
        "collapsed": false
      },
      "outputs": [],
      "source": [
        "# Plot signal\nplot_time_series(times, sig)"
      ]
    },
    {
      "cell_type": "markdown",
      "metadata": {},
      "source": [
        "## Instantaneous Phase\n\nInstantaneous phase is a measure of the phase of a signal, over time.\n\nInstantaneous phase can be analyzed with the :func:`~.phase_by_time` function.\n\n\n"
      ]
    },
    {
      "cell_type": "code",
      "execution_count": null,
      "metadata": {
        "collapsed": false
      },
      "outputs": [],
      "source": [
        "# Compute instantaneous phase from a signal\npha = phase_by_time(sig, fs, f_range)"
      ]
    },
    {
      "cell_type": "code",
      "execution_count": null,
      "metadata": {
        "collapsed": false
      },
      "outputs": [],
      "source": [
        "# Plot example signal\n_, axs = plt.subplots(2, 1, figsize=(15, 6))\nplot_time_series(times, sig, xlim=[4, 5], xlabel=None, ax=axs[0])\nplot_instantaneous_measure(times, pha, colors='r', xlim=[4, 5], ax=axs[1])"
      ]
    },
    {
      "cell_type": "markdown",
      "metadata": {},
      "source": [
        "## Instantaneous Amplitude\n\nInstantaneous amplitude is a measure of the amplitude of a signal, over time.\n\nInstantaneous amplitude can be analyzed with the :func:`~.amp_by_time` function.\n\n\n"
      ]
    },
    {
      "cell_type": "code",
      "execution_count": null,
      "metadata": {
        "collapsed": false
      },
      "outputs": [],
      "source": [
        "# Compute instantaneous amplitude from a signal\namp = amp_by_time(sig, fs, f_range)"
      ]
    },
    {
      "cell_type": "code",
      "execution_count": null,
      "metadata": {
        "collapsed": false
      },
      "outputs": [],
      "source": [
        "# Plot example signal\n_, axs = plt.subplots(2, 1, figsize=(15, 6))\nplot_instantaneous_measure(times, [sig, amp], 'amplitude',\n                           labels=['Raw Signal', 'Amplitude'],\n                           xlim=[4, 5], xlabel=None, ax=axs[0])\nplot_instantaneous_measure(times, [sig_filt_true, amp], 'amplitude',\n                           labels=['Filtered Signal', 'Amplitude'], colors=['b', 'r'],\n                           xlim=[4, 5], ax=axs[1])"
      ]
    },
    {
      "cell_type": "markdown",
      "metadata": {},
      "source": [
        "## Instantaneous Frequency\n\nInstantaneous frequency is a measure of frequency across time.\n\nIt is measured as the temporal derivative of the instantaneous phase.\n\nInstantaneous frequency measures can exhibit abrupt shifts. Sometimes, a transform,\nsuch as applying a median filter, is used to make it smoother.\n\nFor an example of this, see Samaha & Postle, 2015.\n\nInstantaneous frequency can be analyzed with the :func:`~.freq_by_time` function.\n\n\n"
      ]
    },
    {
      "cell_type": "code",
      "execution_count": null,
      "metadata": {
        "collapsed": false
      },
      "outputs": [],
      "source": [
        "# Compute instantaneous frequency from a signal\ni_f = freq_by_time(sig, fs, f_range)"
      ]
    },
    {
      "cell_type": "code",
      "execution_count": null,
      "metadata": {
        "collapsed": false
      },
      "outputs": [],
      "source": [
        "# Plot example signal\n_, axs = plt.subplots(3, 1, figsize=(15, 9))\nplot_time_series(times, sig, 'Raw Signal', xlim=[4, 5], xlabel=None, ax=axs[0])\nplot_time_series(times, sig_filt_true, labels='Beta Filtered Signal',\n                 colors='b', xlim=[4, 5], xlabel=None, ax=axs[1])\nplot_instantaneous_measure(times, i_f, 'frequency', label='Instantaneous Frequency',\n                           colors='r', xlim=[4, 5], ylim=[10, 30], ax=axs[2])"
      ]
    }
  ],
  "metadata": {
    "kernelspec": {
      "display_name": "Python 3",
      "language": "python",
      "name": "python3"
    },
    "language_info": {
      "codemirror_mode": {
        "name": "ipython",
        "version": 3
      },
      "file_extension": ".py",
      "mimetype": "text/x-python",
      "name": "python",
      "nbconvert_exporter": "python",
      "pygments_lexer": "ipython3",
      "version": "3.8.12"
    }
  },
  "nbformat": 4,
  "nbformat_minor": 0
}