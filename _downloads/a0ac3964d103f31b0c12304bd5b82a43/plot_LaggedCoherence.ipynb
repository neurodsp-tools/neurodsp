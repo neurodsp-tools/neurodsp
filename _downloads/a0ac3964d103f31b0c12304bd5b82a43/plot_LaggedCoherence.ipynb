{
  "cells": [
    {
      "cell_type": "markdown",
      "metadata": {},
      "source": [
        "\n# Lagged Coherence\n\nCalculate the rhythmicity of neural signal with the lagged coherence algorithm.\n\nThis tutorial primarily covers the :func:`~.compute_lagged_coherence` function.\n"
      ]
    },
    {
      "cell_type": "markdown",
      "metadata": {},
      "source": [
        "## Overview\n\nLagged coherence is a measure to quantify the rhythmicity of neural signals.\n\nLagged coherence works by quantifying phase consistency between non-overlapping data fragments,\ncalculated with Fourier coefficients. The consistency of the phase differences across\nepochs indexes the rhythmicity of the signal. Lagged coherence can be calculated for a\nparticular frequency, and/or across a range of frequencies of interest.\n\nThe lagged coherence algorithm is described in\n[Fransen et al, 2015](https://doi.org/10.1016/j.neuroimage.2015.06.003)\n\n\n"
      ]
    },
    {
      "cell_type": "code",
      "execution_count": null,
      "metadata": {
        "collapsed": false
      },
      "outputs": [],
      "source": [
        "import numpy as np\n\n# Import the lagged coherence function\nfrom neurodsp.rhythm import compute_lagged_coherence\n\n# Import functions for simulating data\nfrom neurodsp.sim import sim_powerlaw, sim_combined\nfrom neurodsp.utils import set_random_seed, create_times\n\n# Import utilities for loading and plotting\nfrom neurodsp.utils.download import load_ndsp_data\nfrom neurodsp.plts.time_series import plot_time_series\nfrom neurodsp.plts.rhythm import plot_lagged_coherence"
      ]
    },
    {
      "cell_type": "code",
      "execution_count": null,
      "metadata": {
        "collapsed": false
      },
      "outputs": [],
      "source": [
        "# Set the random seed, for consistency simulating data\nset_random_seed(0)"
      ]
    },
    {
      "cell_type": "markdown",
      "metadata": {},
      "source": [
        "## Simulate an Example Signal\n\nFirst, let's start by creating some simulated data, to which we can apply lagged coherence.\n\n\n"
      ]
    },
    {
      "cell_type": "markdown",
      "metadata": {},
      "source": [
        "### Simulation Settings\n\nWe'll start with an example signal that starts with a burst of alpha activity,\nfollowed by a period of only aperiodic activity.\n\n\n"
      ]
    },
    {
      "cell_type": "code",
      "execution_count": null,
      "metadata": {
        "collapsed": false
      },
      "outputs": [],
      "source": [
        "# Set the sampling rate\nfs = 1000\n\n# Set time for each segment of the simulated signal, in seconds\nt_osc = 1\t\t# oscillation\nt_ap = 2\t\t# aperiodic\n\n# Set the frequency of the oscillation\nfreq = 10\n\n# Set the exponent value for the aperiodic activity\nexp = -1\n\n# Create a times vector\ntimes = create_times(t_osc + t_ap, fs)"
      ]
    },
    {
      "cell_type": "markdown",
      "metadata": {},
      "source": [
        "### Create the simulated data\n\nNext, we will create our simulated data, by concatenating simulated segments of data\nwith and without a rhythm.\n\n\n"
      ]
    },
    {
      "cell_type": "code",
      "execution_count": null,
      "metadata": {
        "collapsed": false
      },
      "outputs": [],
      "source": [
        "# Simulate a signal component with an oscillation\ncomponents = {'sim_oscillation' : {'freq' : freq},\n\t\t\t  'sim_powerlaw' : {'exponent' : exp, 'f_range' : (1, None)}}\ns1 = sim_combined(t_osc, fs, components, [1, 0.5])\n\n# Simulate a signal component with only aperiodic activity\ns2 = sim_powerlaw(t_ap, fs, exp, variance=0.5)\n\n# Join signals together to approximate a 'burst'\nsig = np.append(s1, s2)"
      ]
    },
    {
      "cell_type": "code",
      "execution_count": null,
      "metadata": {
        "collapsed": false
      },
      "outputs": [],
      "source": [
        "# Plot example signal\nplot_time_series(times, sig)"
      ]
    },
    {
      "cell_type": "markdown",
      "metadata": {},
      "source": [
        "## Compute lagged coherence on simulated data\n\nWe can compute lagged coherence with the :func:`~.compute_lagged_coherence` function.\n\n\n"
      ]
    },
    {
      "cell_type": "markdown",
      "metadata": {},
      "source": [
        "### Data Preprocessing & Algorithm Settings\n\nThe lagged coherence calculates the FFT across segments of the input data, and examines\nphase properties of frequencies of interest. As a spectral method that relies of the Fourier\ntransform, the data does not have to be filtered prior to applying lagged coherence.\n\nYou do have to specify which frequencies to examine the lagged coherence for, which is\nprovided to the function as the `freqs` input. This input, which can specify either a list\nor a range of frequencies, indicates which frequencies to analyze with lagged coherence.\n\nAn optional setting is the number of cycles to use at each frequency. This parameter\ncontrols the segment size used for each frequency.\n\n\n"
      ]
    },
    {
      "cell_type": "code",
      "execution_count": null,
      "metadata": {
        "collapsed": false
      },
      "outputs": [],
      "source": [
        "# Set the frequency range to compute lagged coherence across\nf_range = (8, 12)"
      ]
    },
    {
      "cell_type": "markdown",
      "metadata": {},
      "source": [
        "### Apply Lagged Coherence\n\nNext, we can apply the lagged coherence algorithm to get the average lagged coherence\nacross the alpha range.\n\n\n"
      ]
    },
    {
      "cell_type": "code",
      "execution_count": null,
      "metadata": {
        "collapsed": false
      },
      "outputs": [],
      "source": [
        "# Compute lagged coherence\nlag_coh_alpha = compute_lagged_coherence(sig, fs, f_range)"
      ]
    },
    {
      "cell_type": "markdown",
      "metadata": {},
      "source": [
        "### Lagged coherence result\n\nThe resulting lagged coherence value is bound between 0 and 1, with higher values\nindicating greater rhythmicity in the signal.\n\n\n"
      ]
    },
    {
      "cell_type": "code",
      "execution_count": null,
      "metadata": {
        "collapsed": false
      },
      "outputs": [],
      "source": [
        "# Check the resulting value\nprint('Lagged coherence = ', lag_coh_alpha)"
      ]
    },
    {
      "cell_type": "markdown",
      "metadata": {},
      "source": [
        "The calculated lagged coherence value in the alpha range is high, meaning our measured\nlagged coherence value is indicating a large amount of rhythmicity across the analyzed\nfrequencies. This is expected, since our simulated signal contains an alpha oscillation.\n\n\n"
      ]
    },
    {
      "cell_type": "markdown",
      "metadata": {},
      "source": [
        "## Compute lagged coherence across the frequency spectrum\n\nWhat we calculated above was the average lagged coherence across a frequency range of\ninterest, specifically the alpha range of (8, 12).\n\nInstead of looking at the average lagged coherence across a range, we can also\ncalculated the lagged coherence for each frequency, and then look at the\nthe distribution of lagged coherence values.\n\nTo do so, we can set the `return_spectrum` parameter to be True, to indicated the function\nto return the full spectrum of lagged coherence values, as opposed to the average\nacross the given range.\n\n\n"
      ]
    },
    {
      "cell_type": "code",
      "execution_count": null,
      "metadata": {
        "collapsed": false
      },
      "outputs": [],
      "source": [
        "# Set the frequency range to compute the spectrum of LC values across\nlc_range = (5, 40)"
      ]
    },
    {
      "cell_type": "code",
      "execution_count": null,
      "metadata": {
        "collapsed": false
      },
      "outputs": [],
      "source": [
        "# Calculate lagged coherence across a frequency range\nlag_coh_by_f, freqs = compute_lagged_coherence(sig, fs, lc_range, return_spectrum=True)"
      ]
    },
    {
      "cell_type": "markdown",
      "metadata": {},
      "source": [
        "Our outputs for lagged coherence are now a vector of lagged coherence values, as well\nas a vector of the frequencies that they correspond to.\n\nTo visualize this result, we can use the :func:`~.plot_lagged_coherence` function.\n\n\n"
      ]
    },
    {
      "cell_type": "code",
      "execution_count": null,
      "metadata": {
        "collapsed": false
      },
      "outputs": [],
      "source": [
        "# Visualize lagged coherence as a function of frequency\nplot_lagged_coherence(freqs, lag_coh_by_f)"
      ]
    },
    {
      "cell_type": "markdown",
      "metadata": {},
      "source": [
        "In these results, the lagged coherence peaks around 10 Hz. This is expected, as that is the\nfrequency of the oscillation that we simulated, and the signal contains no other rhythms.\n\nNotice, however, that the peak around 10 Hz is not very specific to that frequency (it's\nquite broad). This reflects the frequency resolution of the measure.\n\nThe frequency resolution is controlled by the `n_cycles` parameter. You can explore how\nthe spectrum of lagged coherence values varies as you chance the `n_cycles` input.\n\n\n"
      ]
    },
    {
      "cell_type": "markdown",
      "metadata": {},
      "source": [
        "## Compute lagged coherence for segments with and without bursts\n\nAnother factor we may want to keep in mind is that we are analyzing a signal with a\nbursty oscillation, and averaging the lagged coherence across the entire time range.\n\nTo examine how the measure varies when the oscillation is and is not present, we can\nrestrict our analysis to particular segments of the signal.\n\nIn the following, we will apply lagged coherence separately to the bursting and\nnon-bursting segments of the data.\n\n\n"
      ]
    },
    {
      "cell_type": "code",
      "execution_count": null,
      "metadata": {
        "collapsed": false
      },
      "outputs": [],
      "source": [
        "# Calculate coherence for data segment with the oscillation present\nlc_burst = compute_lagged_coherence(sig[0:t_osc*fs], fs, f_range)\n\n# Calculate coherence for data segment without the alpha present burst\nlc_noburst = compute_lagged_coherence(sig[t_osc*fs:2*fs*t_ap], fs, f_range)"
      ]
    },
    {
      "cell_type": "code",
      "execution_count": null,
      "metadata": {
        "collapsed": false
      },
      "outputs": [],
      "source": [
        "print('Lagged coherence, bursting = ', lc_burst)\nprint('Lagged coherence, not bursting = ', lc_noburst)"
      ]
    },
    {
      "cell_type": "markdown",
      "metadata": {},
      "source": [
        "## Compute lagged coherence of an example neural signal\n\nFinally, let's apply the lagged coherence algorithm to some real data.\n\nFirst we can load and plot a segment of real data, which in this case is\na segment of ECoG data with a beta oscillation.\n\n\n"
      ]
    },
    {
      "cell_type": "code",
      "execution_count": null,
      "metadata": {
        "collapsed": false
      },
      "outputs": [],
      "source": [
        "# Download, if needed, and load example data file\nsig = load_ndsp_data('sample_data_1.npy', folder='data')\nsig_filt_true = load_ndsp_data('sample_data_1_filt.npy', folder='data')\n\n# Set sampling rate, and create a times vector for plotting\nfs = 1000\ntimes = create_times(len(sig)/fs, fs)"
      ]
    },
    {
      "cell_type": "code",
      "execution_count": null,
      "metadata": {
        "collapsed": false
      },
      "outputs": [],
      "source": [
        "# Plot example signal\nplot_time_series(times, sig)"
      ]
    },
    {
      "cell_type": "markdown",
      "metadata": {},
      "source": [
        "Now let's apply lagged coherence to the loaded data. In this data, we suspect rhythmicity\nin the beta range, so that is the range that we will examine with lagged coherence.\n\n\n"
      ]
    },
    {
      "cell_type": "code",
      "execution_count": null,
      "metadata": {
        "collapsed": false
      },
      "outputs": [],
      "source": [
        "# Set the frequency range to compute lagged coherence across\nbeta_range = (13, 30)\n\n# Compute lagged coherence across the beta range in the real data\nlc_betas, freqs_beta = compute_lagged_coherence(sig, fs, beta_range, return_spectrum=True)"
      ]
    },
    {
      "cell_type": "code",
      "execution_count": null,
      "metadata": {
        "collapsed": false
      },
      "outputs": [],
      "source": [
        "# Plot the distribution of lagged coherence values in the real data\nplot_lagged_coherence(freqs_beta, lc_betas)"
      ]
    },
    {
      "cell_type": "markdown",
      "metadata": {},
      "source": [
        "### Concluding Notes\n\nIn the above, we can see a pattern of lagged coherence across the examined range, that\nis consistent with beta rhythmicity.\n\nTo further explore this, we might want to examine the robustness by trying different\nvalues for `n_cycles`, and/or comparing the this result to peaks in the power spectrum,\nand/or with burst detection results.\n\n\n"
      ]
    }
  ],
  "metadata": {
    "kernelspec": {
      "display_name": "Python 3",
      "language": "python",
      "name": "python3"
    },
    "language_info": {
      "codemirror_mode": {
        "name": "ipython",
        "version": 3
      },
      "file_extension": ".py",
      "mimetype": "text/x-python",
      "name": "python",
      "nbconvert_exporter": "python",
      "pygments_lexer": "ipython3",
      "version": "3.8.12"
    }
  },
  "nbformat": 4,
  "nbformat_minor": 0
}