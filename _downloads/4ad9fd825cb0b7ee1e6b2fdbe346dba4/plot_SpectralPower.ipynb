{
  "cells": [
    {
      "cell_type": "markdown",
      "metadata": {},
      "source": [
        "\n# Spectral Domain Analysis: Power\n\nApply spectral domain analyses, calculating power measures.\n\nThis tutorial primarily covers the ``neurodsp.spectral.power`` module.\n"
      ]
    },
    {
      "cell_type": "markdown",
      "metadata": {},
      "source": [
        "## Overview\n\nThis tutorial covers computing spectral power measures, such as the power spectral density (PSD).\n\n\n"
      ]
    },
    {
      "cell_type": "code",
      "execution_count": null,
      "metadata": {
        "collapsed": false
      },
      "outputs": [],
      "source": [
        "# Import spectral power functions\nfrom neurodsp.spectral import compute_spectrum, rotate_powerlaw\n\n# Import utilities for loading and plotting data\nfrom neurodsp.utils import create_times\nfrom neurodsp.utils.download import load_ndsp_data\nfrom neurodsp.plts.spectral import plot_power_spectra\nfrom neurodsp.plts.time_series import plot_time_series"
      ]
    },
    {
      "cell_type": "markdown",
      "metadata": {},
      "source": [
        "### Load example neural signal\n\nFirst, we load the sample data, an example channel of rat hippocampal LFP data.\n\n\n"
      ]
    },
    {
      "cell_type": "code",
      "execution_count": null,
      "metadata": {
        "collapsed": false
      },
      "outputs": [],
      "source": [
        "# Load example data signal\nsig = load_ndsp_data('sample_data_2.npy', folder='data')\n\n# Set sampling rate, and create a times vector for plotting\nfs = 1000\ntimes = create_times(len(sig)/fs, fs)"
      ]
    },
    {
      "cell_type": "code",
      "execution_count": null,
      "metadata": {
        "collapsed": false
      },
      "outputs": [],
      "source": [
        "# Plot the loaded signal\nplot_time_series(times, sig, xlim=[0, 3])"
      ]
    },
    {
      "cell_type": "markdown",
      "metadata": {},
      "source": [
        "Plotting the data, we observe a strong theta oscillation (~6-8 Hz).\n\n\n"
      ]
    },
    {
      "cell_type": "markdown",
      "metadata": {},
      "source": [
        "## Computing the power spectral density (PSD)\n\nA PSD is a frequency domain representation of a time series.\n\nUsing the Fourier transform, the signal is split into orthogonal components\nof different frequencies, and the amount of power in each frequency is estimated.\n\nThe main function for computing power spectra is\n:func:`~.compute_spectrum`.\n\nThere are a few ways of estimating the PSD, with different smoothing:\n\n- 'welch' : averages over windowed power estimates, using Fourier transforms\n\n  - in this approach, you can also choose how to average across windows\n\n    - 'mean' : the traditional welch's approach, which takes the mean over windows\n    - 'median' : take the median across windows, which diminishes the the effect of outlier power values\n  - You can do this directly with :func:`~.compute_spectrum_welch`\n\n- 'wavelet' : uses wavelets to calculate power at designated frequencies\n\n  - You can do this directly with :func:`~.compute_spectrum_wavelet`\n- 'medfilt' : a median filter of the squared FFT magnitude.\n\n  - You can do this directly with :func:`~.compute_spectrum_medfilt`\n\n\n"
      ]
    },
    {
      "cell_type": "code",
      "execution_count": null,
      "metadata": {
        "collapsed": false
      },
      "outputs": [],
      "source": [
        "# Mean of spectrogram (Welch)\nfreq_mean, psd_mean = compute_spectrum(sig, fs, method='welch', avg_type='mean', nperseg=fs*2)\n\n# Median of spectrogram (\"median Welch\")\nfreq_med, psd_med = compute_spectrum(sig, fs, method='welch', avg_type='median', nperseg=fs*2)\n\n# Median filtered spectrum\nfreq_mf, psd_mf = compute_spectrum(sig, fs, method='medfilt')"
      ]
    },
    {
      "cell_type": "markdown",
      "metadata": {},
      "source": [
        "You can plot power spectra with :func:`~.plot_power_spectra`.\n\n\n"
      ]
    },
    {
      "cell_type": "code",
      "execution_count": null,
      "metadata": {
        "collapsed": false
      },
      "outputs": [],
      "source": [
        "# Plot the power spectra\nplot_power_spectra([freq_mean[:200], freq_med[:200], freq_mf[100:10000]],\n                   [psd_mean[:200], psd_med[:200], psd_mf[100:10000]],\n                   ['Welch', 'Median Welch', 'Median Filter FFT'])"
      ]
    },
    {
      "cell_type": "markdown",
      "metadata": {},
      "source": [
        "## Aside: Fitting 1/f and oscillations in power spectra\n\nYou might notice in the above power spectra that there are regions of band-specific power,\nreflecting oscillations, as well as regions that show linear decrease when plotted in\nlog-log scale, in particular the frequency region between 30-100Hz.\n\nAs well as a large body of work investigating oscillations, this \"1/f-like\" aperiodic\ncomponents has been found to correlate with aging, memory, and cognitive control in several\nprevious publications, and has been proposed to reflect the physiological balance between\nexcitation and inhibition.\n\nSee for example: Voytek et al., JNeuro, 2015; Podvalny et al.,\nJNeurophysiol, 2015; Gao et al., NeuroImage, 2017; Lombardi et al., Chaos, 2017\n\nIf you are interesting in measuring these periodic (oscillatory) and aperiodic\n(1/f like) components from power spectra, check out the 'fitting oscillations &\none-over f' [toolbox](https://fooof-tools.github.io/fooof/).\n\n\n"
      ]
    },
    {
      "cell_type": "markdown",
      "metadata": {},
      "source": [
        "## Spectral Rotation\n\nAnother included utility function is spectral rotation, which rotates the power\nspectrum about a given axis frequency, by an amount indicated by the 'delta_exponent'\nargument (negative is clockwise, positive is counterclockwise).\n\nYou can perform spectral rotation with :func:`~.rotate_powerlaw`.\n\nThis function is mostly useful for investigating the effect of rotating the spectrum\nin frequency domain on the time domain signal. Effectively, this performs a very specific\ntype of filtering with an ultra long filter kernel.\n\n\n"
      ]
    },
    {
      "cell_type": "code",
      "execution_count": null,
      "metadata": {
        "collapsed": false
      },
      "outputs": [],
      "source": [
        "psd_rot = rotate_powerlaw(freq_med, psd_med, delta_exponent=-1, f_rotation=35)\n\nplot_power_spectra([freq_med[:200], freq_med[:200]],\n                   [psd_med[:200], psd_rot[:200]],\n                   ['Original', 'Rotated'])"
      ]
    }
  ],
  "metadata": {
    "kernelspec": {
      "display_name": "Python 3",
      "language": "python",
      "name": "python3"
    },
    "language_info": {
      "codemirror_mode": {
        "name": "ipython",
        "version": 3
      },
      "file_extension": ".py",
      "mimetype": "text/x-python",
      "name": "python",
      "nbconvert_exporter": "python",
      "pygments_lexer": "ipython3",
      "version": "3.8.3"
    }
  },
  "nbformat": 4,
  "nbformat_minor": 0
}