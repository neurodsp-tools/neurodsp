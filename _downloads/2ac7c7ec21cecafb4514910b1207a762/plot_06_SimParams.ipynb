{
  "cells": [
    {
      "cell_type": "markdown",
      "metadata": {},
      "source": [
        "\n# Managing Simulation Parameters\n\nManage, update, and iterate across simulation parameters.\n"
      ]
    },
    {
      "cell_type": "code",
      "execution_count": null,
      "metadata": {
        "collapsed": false
      },
      "outputs": [],
      "source": [
        "from neurodsp.sim.update import create_updater, create_sampler\nfrom neurodsp.sim.params import SimParams, SimIters, SimSamplers"
      ]
    },
    {
      "cell_type": "markdown",
      "metadata": {},
      "source": [
        "## Managing Simulations Parameters\n\nThe :class:`~.SimParams` object can be used to manage a set of simulation parameters.\n\n\n"
      ]
    },
    {
      "cell_type": "code",
      "execution_count": null,
      "metadata": {
        "collapsed": false
      },
      "outputs": [],
      "source": [
        "# Initialize object, with base parameters\nsim_params = SimParams(n_seconds=5, fs=250)\n\n# Check the base parameters in the SimParams object\nsim_params.base"
      ]
    },
    {
      "cell_type": "markdown",
      "metadata": {},
      "source": [
        "A defined SimParams object with base parameters can be used to create a full set of simulation\nparameters by specifying additional parameters to add to the base parameters.\n\n\n"
      ]
    },
    {
      "cell_type": "code",
      "execution_count": null,
      "metadata": {
        "collapsed": false
      },
      "outputs": [],
      "source": [
        "# Create a set of simulation parameters\nsim_params.make_params({'exponent' : -1})"
      ]
    },
    {
      "cell_type": "markdown",
      "metadata": {},
      "source": [
        "The object can also be used to 'register' (:func:`~.SimParams.register`) a set of\nsimulation parameters, meaning they can be defined and stored in the object,\nwith an associated label to access them.\n\n\n"
      ]
    },
    {
      "cell_type": "code",
      "execution_count": null,
      "metadata": {
        "collapsed": false
      },
      "outputs": [],
      "source": [
        "# Register a set of simulation parameters\nsim_params.register('ap', {'exponent' : -1})\n\n# Check the registered simulation definition\nsim_params['ap']"
      ]
    },
    {
      "cell_type": "markdown",
      "metadata": {},
      "source": [
        "The SimParams object can also be updated, for example, clearing previous simulation parameters,\nupdating base parameters, and/or updating previously registered simulation definitions.\n\n\n"
      ]
    },
    {
      "cell_type": "code",
      "execution_count": null,
      "metadata": {
        "collapsed": false
      },
      "outputs": [],
      "source": [
        "# Clear the current set of parameter definitions\nsim_params.clear()\n\n# Update the base definition\nsim_params.update_base(n_seconds=10)\n\n# Check the updated base parameters\nsim_params.base"
      ]
    },
    {
      "cell_type": "markdown",
      "metadata": {},
      "source": [
        "The SimParams object can also be used to manage multiple different simulation parameter\ndefinitions, for example for different functions, which share the same base parameters.\n\nTo manage multiple parameters, they can all be registered to the object.\nFor convenience, multiple definitions can be registered together with the\n(:func:`~.SimParams.register_group`) method.\n\n\n"
      ]
    },
    {
      "cell_type": "code",
      "execution_count": null,
      "metadata": {
        "collapsed": false
      },
      "outputs": [],
      "source": [
        "# Register a group of parameter definitions\nsim_params.register_group(\n    {'ap' : {'exponent' : -1},\n     'osc' : {'freq' : 10}})"
      ]
    },
    {
      "cell_type": "code",
      "execution_count": null,
      "metadata": {
        "collapsed": false
      },
      "outputs": [],
      "source": [
        "# Check the set of labels and parameters defined on the object\nprint(sim_params.labels)\nprint(sim_params.params)"
      ]
    },
    {
      "cell_type": "code",
      "execution_count": null,
      "metadata": {
        "collapsed": false
      },
      "outputs": [],
      "source": [
        "# Check the simulation parameters for the different labels\nprint(sim_params['ap'])\nprint(sim_params['osc'])"
      ]
    },
    {
      "cell_type": "markdown",
      "metadata": {},
      "source": [
        "## Iterating Across Simulations Parameters\n\nOne application of interest for managing simulation parameters may be to iterate\nacross parameter values.\n\nTo do so, the :class:`~.SimIters` class can be used.\n\n\n"
      ]
    },
    {
      "cell_type": "code",
      "execution_count": null,
      "metadata": {
        "collapsed": false
      },
      "outputs": [],
      "source": [
        "# Initialize base set of simulation parameters\nsim_iters = SimIters(n_seconds=5, fs=250)\n\n# Check the base parameters of the SimIters object\nsim_iters.base"
      ]
    },
    {
      "cell_type": "code",
      "execution_count": null,
      "metadata": {
        "collapsed": false
      },
      "outputs": [],
      "source": [
        "# Re-initialize a SimIters object, exporting from existing SimParams object\nsim_iters = sim_params.to_iters()"
      ]
    },
    {
      "cell_type": "markdown",
      "metadata": {},
      "source": [
        "Similar to the SimParams object, the SimIter object can be used to make simulation iterators.\n\n\n"
      ]
    },
    {
      "cell_type": "code",
      "execution_count": null,
      "metadata": {
        "collapsed": false
      },
      "outputs": [],
      "source": [
        "# Make a parameter iterator from the SimIter object\nexp_iter = sim_iters.make_iter('ap', 'exponent', [-2, -1, 0])\n\n# Use the iterator to step across parameters\nfor params in exp_iter:\n    print(params)"
      ]
    },
    {
      "cell_type": "markdown",
      "metadata": {},
      "source": [
        "Just as before, we can 'register' an iterator definition on the SimIter object.\n\n\n"
      ]
    },
    {
      "cell_type": "code",
      "execution_count": null,
      "metadata": {
        "collapsed": false
      },
      "outputs": [],
      "source": [
        "# Register an iterator on the SimIter object\nsim_iters.register_iter('exp_iter', 'ap', 'exponent', [-2, -1, 0])\n\n# Use the iterator from the SimIter object to step across parameters\nfor params in sim_iters['exp_iter']:\n    print(params)"
      ]
    },
    {
      "cell_type": "markdown",
      "metadata": {},
      "source": [
        "Just like the SimParams object, the SimIter object can be cleared, updated, etc.\n\nIt can also be used to register a group of iterators, which will share the same base parameters.\n\n\n"
      ]
    },
    {
      "cell_type": "code",
      "execution_count": null,
      "metadata": {
        "collapsed": false
      },
      "outputs": [],
      "source": [
        "# Clear the current object\nsim_iters.clear()\n\n# Register a group of iterators\nsim_iters.register_group_iters([\n    ['exp_iter', 'ap', 'exponent', [-2, -1, 0]],\n    ['osc_iter', 'osc', 'freq', [10, 20, 30]]])"
      ]
    },
    {
      "cell_type": "code",
      "execution_count": null,
      "metadata": {
        "collapsed": false
      },
      "outputs": [],
      "source": [
        "# Check the labels for the defined iterators, and the iterators\nprint(sim_iters.labels)\nprint(sim_iters.iters)\n\n# Check a set of iterated parameters from the SimIter object\nfor params in sim_iters['osc_iter']:\n    print(params)"
      ]
    },
    {
      "cell_type": "markdown",
      "metadata": {},
      "source": [
        "## Defining Parameters Updates\n\nFor the next application, we will explore defining sets of parameters to sample from.\n\nTo do so, we first need to explore some functionality for defining which parameters to\nupdate, and how to sample parameter values from a specified set of objects.\n\nTo start with, we can use the :func:`~.create_updater` function to create a helper\nfunction to update parameters.\n\n\n"
      ]
    },
    {
      "cell_type": "code",
      "execution_count": null,
      "metadata": {
        "collapsed": false
      },
      "outputs": [],
      "source": [
        "# Define a set of parameters\nparams1 = {'n_seconds' : 5, 'fs' : 250, 'exponent' : None}\n\n# Create an update object for the exponent parameter\nexp_updater = create_updater('exponent')\n\n# Use the exponent updater\nexp_updater(params1, -1)"
      ]
    },
    {
      "cell_type": "markdown",
      "metadata": {},
      "source": [
        "An updater can also be used to update parameters defined within specified components.\n\n\n"
      ]
    },
    {
      "cell_type": "code",
      "execution_count": null,
      "metadata": {
        "collapsed": false
      },
      "outputs": [],
      "source": [
        "# Define another set of parameters, with multiple components\nparams2 = {'n_seconds' : 5, 'fs' : 250,\n           'components' : {'sim_powerlaw' : {'exponent' : None},\n                           'sim_oscillation' : {'freq' : 10}}}\n\n# Create an updater for the exponent, within the components\nexp_comp_updater = create_updater('exponent', 'sim_powerlaw')\n\n# Use the exponent updater\nexp_comp_updater(params2, -1)"
      ]
    },
    {
      "cell_type": "markdown",
      "metadata": {},
      "source": [
        "Next, we can define a way to sample parameter values.\n\nTo do so, we can use the :func:`~.create_sampler` function.\n\n\n"
      ]
    },
    {
      "cell_type": "code",
      "execution_count": null,
      "metadata": {
        "collapsed": false
      },
      "outputs": [],
      "source": [
        "# Create a sampler for a set of exponent values\nexp_sampler = create_sampler([-2, -1, 0])\n\n# Sample some values from the exponent sampler\nfor ind in range(3):\n    print(next(exp_sampler))"
      ]
    },
    {
      "cell_type": "markdown",
      "metadata": {},
      "source": [
        "From the above, we can combine updaters and samplers to create definitions of how\nto sample full parameter definitions.\n\n\n"
      ]
    },
    {
      "cell_type": "code",
      "execution_count": null,
      "metadata": {
        "collapsed": false
      },
      "outputs": [],
      "source": [
        "# Define a combined updater and sampler for exponent values\nexp_upd_sampler = {create_updater('exponent') : create_sampler([-2, -1, 0])}"
      ]
    },
    {
      "cell_type": "markdown",
      "metadata": {},
      "source": [
        "## Sampling Simulations Parameters\n\nTo manage sampling simulation parameters, we can use the :class:`~.SimSamplers` class.\n\n\n"
      ]
    },
    {
      "cell_type": "code",
      "execution_count": null,
      "metadata": {
        "collapsed": false
      },
      "outputs": [],
      "source": [
        "# Initialize simulation samplers, from pre-initialized SimParams object\nsim_samplers = sim_params.to_samplers(n_samples=3)"
      ]
    },
    {
      "cell_type": "markdown",
      "metadata": {},
      "source": [
        "Just as before, the SimSamplers object can be used to make samplers.\n\n\n"
      ]
    },
    {
      "cell_type": "code",
      "execution_count": null,
      "metadata": {
        "collapsed": false
      },
      "outputs": [],
      "source": [
        "# Make a parameter sampler from the SimSamplers object\nexp_sampler = sim_samplers.make_sampler('ap', exp_upd_sampler)\n\n# Use the exponent sampler to check\nfor samp_params in exp_sampler:\n    print(samp_params)"
      ]
    },
    {
      "cell_type": "markdown",
      "metadata": {},
      "source": [
        "As before, we can also register a sampler on the object.\n\n\n"
      ]
    },
    {
      "cell_type": "code",
      "execution_count": null,
      "metadata": {
        "collapsed": false
      },
      "outputs": [],
      "source": [
        "# Register a sampler definition on the SimSamplers object\nsim_samplers.register_sampler('exp_sampler', 'ap', exp_upd_sampler)\n\n# Check some example sampled parameter values\nfor samp_params in sim_samplers['exp_sampler']:\n    print(samp_params)"
      ]
    },
    {
      "cell_type": "markdown",
      "metadata": {},
      "source": [
        "The object can also be cleared, updated, etc, just as the previous objects.\n\n\n"
      ]
    },
    {
      "cell_type": "code",
      "execution_count": null,
      "metadata": {
        "collapsed": false
      },
      "outputs": [],
      "source": [
        "# Clear the previously defined simulation samplers\nsim_samplers.clear()\n\n# Define a new definition to sample parameter values\nosc_upd_sampler = {create_updater('freq') : create_sampler([10, 20, 30])}\n\n# Register a group of samplers to the object\nsim_samplers.register_group_samplers([\n    ['exp_sampler', 'ap', exp_upd_sampler],\n    ['osc_sampler', 'osc', osc_upd_sampler],\n])"
      ]
    },
    {
      "cell_type": "code",
      "execution_count": null,
      "metadata": {
        "collapsed": false
      },
      "outputs": [],
      "source": [
        "# Check the labels and defined samplers on the object\nprint(sim_samplers.labels)\nprint(sim_samplers.samplers)\n\n# Check example sampled parameter values\nfor samp_params in sim_samplers['osc_sampler']:\n    print(samp_params)"
      ]
    }
  ],
  "metadata": {
    "kernelspec": {
      "display_name": "Python 3",
      "language": "python",
      "name": "python3"
    },
    "language_info": {
      "codemirror_mode": {
        "name": "ipython",
        "version": 3
      },
      "file_extension": ".py",
      "mimetype": "text/x-python",
      "name": "python",
      "nbconvert_exporter": "python",
      "pygments_lexer": "ipython3",
      "version": "3.8.3"
    }
  },
  "nbformat": 4,
  "nbformat_minor": 0
}